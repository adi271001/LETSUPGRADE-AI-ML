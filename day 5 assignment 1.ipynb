{
 "cells": [
  {
   "cell_type": "markdown",
   "metadata": {},
   "source": [
    "# Question 1 :\n",
    "Write a Python program to find the first 20 non-even prime natural numbers."
   ]
  },
  {
   "cell_type": "code",
   "execution_count": 2,
   "metadata": {},
   "outputs": [
    {
     "name": "stdout",
     "output_type": "stream",
     "text": [
      "Prime numbers between 2 and  75  are:\n",
      "3 5 7 11 13 17 19 23 29 31 37 41 43 47 53 59 61 67 71 73 "
     ]
    }
   ],
   "source": [
    "# Python3 program to display first 20 non even Prime numbers \n",
    "  \n",
    "# Function to print first 20 non even prime numbers \n",
    "def print_first_N_primes(N): \n",
    "  \n",
    "    # Declare the variables \n",
    "    i, j, flag = 0, 0, 0; \n",
    "  \n",
    "    # Print display message \n",
    "    print(\"Prime numbers between 2 and \", \n",
    "                            N , \" are:\"); \n",
    "  \n",
    "    # Traverse each number from 1 to N \n",
    "    # with the help of for loop \n",
    "    for i in range(1, N + 1, 1): \n",
    "  \n",
    "        # Skip 0 and 1 as they are \n",
    "        # niether prime nor composite \n",
    "        if (i==2 or i == 1 or i == 0): \n",
    "            continue; \n",
    "  \n",
    "        # flag variable to tell \n",
    "        # if i is prime or not \n",
    "        flag = 1; \n",
    "  \n",
    "        for j in range(2, ((i // 2) + 1), 1): \n",
    "            if (i % j == 0): \n",
    "                flag = 0; \n",
    "                break; \n",
    "  \n",
    "        # flag = 1 means i is prime \n",
    "        # and flag = 0 means i is not prime \n",
    "        if (flag == 1): \n",
    "            print(i, end = \" \"); \n",
    "  \n",
    "# Driver code \n",
    "N = 75; \n",
    "print_first_N_primes(N); "
   ]
  },
  {
   "cell_type": "markdown",
   "metadata": {},
   "source": [
    "# Question 2 :\n",
    "Write a Python program to implement 15 functions of string.\n"
   ]
  },
  {
   "cell_type": "code",
   "execution_count": 3,
   "metadata": {},
   "outputs": [
    {
     "name": "stdout",
     "output_type": "stream",
     "text": [
      "Old String:  tomorrow is a sunday\n",
      "Capitalized String: Tomorrow is a sunday\n",
      "Centered String:    tomorrow is a sunday  \n",
      "Lowercase string: i love maths\n",
      "The count is: 3\n",
      "Substring 'eclipse will': 12\n",
      "True\n",
      "s1.join(s2): 1abc2abc3\n",
      "th7s 8g adi79@\n",
      "JASWANTH IS A KIND SOUL\n",
      "tHiS sHoUlD bE mIxEd CaSeD.\n",
      "('Darshan sir ', 'is ', 'the best trainer')\n",
      "lov\n",
      "main hoon, aage aage main hoon\n",
      "The filtered vowels are:\n",
      "a\n",
      "e\n",
      "i\n",
      "o\n",
      "id of dummyteddy = 2228251275216\n"
     ]
    }
   ],
   "source": [
    "string = \"tomorrow is a sunday\"\n",
    "capitalized_string = string.capitalize()\n",
    "print('Old String: ', string)\n",
    "print('Capitalized String:', capitalized_string)\n",
    "new_string = string.center(24)\n",
    "print(\"Centered String: \", new_string)\n",
    "string1 = \"I LOVE MATHS\"\n",
    "# print lowercase string\n",
    "print(\"Lowercase string:\", string1.casefold())\n",
    "# define string\n",
    "string2 = \"akshay is intelligent,akshay is brainy,akshay is talented\"\n",
    "substring = \"akshay\"\n",
    "count = string2.count(substring)\n",
    "# print count\n",
    "print(\"The count is:\", count)\n",
    "sentence = \"this sunday eclipse will occur\"\n",
    "result = sentence.index('eclipse will')\n",
    "print(\"Substring 'eclipse will':\", result)\n",
    "name = \"nithya\"\n",
    "print(name.isalpha())\n",
    "s1 = 'abc'\n",
    "s2 = '123'\n",
    "# each element of s2 is separated by s1\n",
    "# '1'+ 'abc'+ '2'+ 'abc'+ '3'\n",
    "print('s1.join(s2):', s1.join(s2))\n",
    "# string with numbers\n",
    "# all alphabets whould be lowercase\n",
    "string3 = \"TH7S 8G ADI79@\"\n",
    "print(string3.lower()) \n",
    "# example string\n",
    "string4 = \"jaswanth is a kind soul\"\n",
    "print(string4.upper())\n",
    "string5 = \"ThIs ShOuLd Be MiXeD cAsEd.\"\n",
    "print(string5.swapcase())\n",
    "string6 = \"Darshan sir is the best trainer\"\n",
    "# 'is' separator is found\n",
    "print(string6.partition('is '))\n",
    "string7 = '  xoxo love xoxo   '\n",
    "# All <whitespace>,x,o,e characters in the left\n",
    "# and right of string are removed\n",
    "print(string7.strip(' xoe'))\n",
    "song = 'main hoon, hero tera'\n",
    "print(song.replace('hero tera', 'aage aage main hoon'))\n",
    "# list of letters\n",
    "letters = ['a', 'b', 'd', 'e', 'i', 'j', 'o']\n",
    "# function that filters vowels\n",
    "def filterVowels(letter):\n",
    "    vowels = ['a', 'e', 'i', 'o', 'u']\n",
    "    if(letter in vowels):\n",
    "        return True\n",
    "    else:\n",
    "        return False\n",
    "filteredVowels = filter(filterVowels, letters)\n",
    "print('The filtered vowels are:')\n",
    "for vowel in filteredVowels:\n",
    "    print(vowel)\n",
    "class teddy:\n",
    "    b = 5\n",
    "dummyteddy = teddy()\n",
    "print('id of dummyteddy =',id(dummyteddy))  "
   ]
  },
  {
   "cell_type": "markdown",
   "metadata": {},
   "source": [
    "# Question 3:\n",
    "Write a Python program to check if the given string is a Palindrome or Anagram or None of them. Display the message accordingly to the user."
   ]
  },
  {
   "cell_type": "code",
   "execution_count": 4,
   "metadata": {},
   "outputs": [
    {
     "name": "stdout",
     "output_type": "stream",
     "text": [
      "input string 1malayalam\n",
      "input string 2ravi\n",
      "string is a palindrome\n"
     ]
    }
   ],
   "source": [
    "# function which return reverse of a string \n",
    "def isPalindrome(s1): \n",
    "    return s1 == s1[::-1] \n",
    "def isanagram(s1,s2):\n",
    "    return sorted(s1)==sorted(s2)\n",
    "# Driver code \n",
    "s1 = str(input(\"input string 1\"))\n",
    "s2 = str(input(\"input string 2\"))\n",
    "ans1 = isPalindrome(s1)\n",
    "ans2 = isanagram(s1,s2)\n",
    "if ans1:\n",
    "    print(\"string is a palindrome\")\n",
    "elif ans2:\n",
    "    print(\"string is anagram\")\n",
    "else :\n",
    "    print(\"none of the above\")"
   ]
  },
  {
   "cell_type": "code",
   "execution_count": 5,
   "metadata": {},
   "outputs": [
    {
     "name": "stdout",
     "output_type": "stream",
     "text": [
      "input string 1alberteinstien\n",
      "input string 2einseintalertb\n",
      "string is anagram\n"
     ]
    }
   ],
   "source": [
    "# function which return reverse of a string \n",
    "def isPalindrome(s1): \n",
    "    return s1 == s1[::-1] \n",
    "def isanagram(s1,s2):\n",
    "    return sorted(s1)==sorted(s2)\n",
    "# Driver code \n",
    "s1 = str(input(\"input string 1\"))\n",
    "s2 = str(input(\"input string 2\"))\n",
    "ans1 = isPalindrome(s1)\n",
    "ans2 = isanagram(s1,s2)\n",
    "if ans1:\n",
    "    print(\"string is a palindrome\")\n",
    "elif ans2:\n",
    "    print(\"string is anagram\")\n",
    "else :\n",
    "    print(\"none of the above\")"
   ]
  },
  {
   "cell_type": "code",
   "execution_count": 6,
   "metadata": {},
   "outputs": [
    {
     "name": "stdout",
     "output_type": "stream",
     "text": [
      "input string 1alberteinstein\n",
      "input string 2thomasalvaedison\n",
      "none of the above\n"
     ]
    }
   ],
   "source": [
    "# function which return reverse of a string \n",
    "def isPalindrome(s1): \n",
    "    return s1 == s1[::-1] \n",
    "def isanagram(s1,s2):\n",
    "    return sorted(s1)==sorted(s2)\n",
    "# Driver code \n",
    "s1 = str(input(\"input string 1\"))\n",
    "s2 = str(input(\"input string 2\"))\n",
    "ans1 = isPalindrome(s1)\n",
    "ans2 = isanagram(s1,s2)\n",
    "if ans1:\n",
    "    print(\"string is a palindrome\")\n",
    "elif ans2:\n",
    "    print(\"string is anagram\")\n",
    "else :\n",
    "    print(\"none of the above\")"
   ]
  },
  {
   "cell_type": "markdown",
   "metadata": {},
   "source": [
    "# Question 4:\n",
    "Write a Python's user defined function that removes all the additional characters from the string\n",
    "and converts it finally to lower case using built-in lower(). eg: If the string is \"Dr. Darshan Ingle\n",
    "@AI-ML Trainer\", then the output be \"drdarshaningleaimltrainer\"."
   ]
  },
  {
   "cell_type": "code",
   "execution_count": 1,
   "metadata": {},
   "outputs": [
    {
     "name": "stdout",
     "output_type": "stream",
     "text": [
      "enter given stringMR adityad@youtube\n",
      "mradityadyoutube\n"
     ]
    }
   ],
   "source": [
    "a_string = str(input(\"enter given string\"))\n",
    "alpha = \"\"\n",
    "for character in a_string:\n",
    "    if character.isalpha():\n",
    "        alpha += character        \n",
    "print(alpha.lower())"
   ]
  }
 ],
 "metadata": {
  "kernelspec": {
   "display_name": "Python 3",
   "language": "python",
   "name": "python3"
  },
  "language_info": {
   "codemirror_mode": {
    "name": "ipython",
    "version": 3
   },
   "file_extension": ".py",
   "mimetype": "text/x-python",
   "name": "python",
   "nbconvert_exporter": "python",
   "pygments_lexer": "ipython3",
   "version": "3.7.3"
  }
 },
 "nbformat": 4,
 "nbformat_minor": 2
}
