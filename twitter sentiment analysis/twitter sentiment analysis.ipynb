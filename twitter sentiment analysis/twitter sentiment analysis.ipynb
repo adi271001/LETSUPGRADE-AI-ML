{
 "cells": [
  {
   "cell_type": "code",
   "execution_count": 1,
   "metadata": {},
   "outputs": [
    {
     "name": "stdout",
     "output_type": "stream",
     "text": [
      "Requirement already satisfied: tweepy in d:\\anaconda\\lib\\site-packages (3.9.0)\n",
      "Requirement already satisfied: six>=1.10.0 in d:\\anaconda\\lib\\site-packages (from tweepy) (1.12.0)\n",
      "Requirement already satisfied: requests[socks]>=2.11.1 in d:\\anaconda\\lib\\site-packages (from tweepy) (2.21.0)\n",
      "Requirement already satisfied: requests-oauthlib>=0.7.0 in d:\\anaconda\\lib\\site-packages (from tweepy) (1.3.0)\n",
      "Requirement already satisfied: idna<2.9,>=2.5 in d:\\anaconda\\lib\\site-packages (from requests[socks]>=2.11.1->tweepy) (2.8)\n",
      "Requirement already satisfied: urllib3<1.25,>=1.21.1 in d:\\anaconda\\lib\\site-packages (from requests[socks]>=2.11.1->tweepy) (1.24.1)\n",
      "Requirement already satisfied: chardet<3.1.0,>=3.0.2 in d:\\anaconda\\lib\\site-packages (from requests[socks]>=2.11.1->tweepy) (3.0.4)\n",
      "Requirement already satisfied: certifi>=2017.4.17 in d:\\anaconda\\lib\\site-packages (from requests[socks]>=2.11.1->tweepy) (2018.4.16)\n",
      "Requirement already satisfied: PySocks!=1.5.7,>=1.5.6; extra == \"socks\" in d:\\anaconda\\lib\\site-packages (from requests[socks]>=2.11.1->tweepy) (1.6.8)\n",
      "Requirement already satisfied: oauthlib>=3.0.0 in d:\\anaconda\\lib\\site-packages (from requests-oauthlib>=0.7.0->tweepy) (3.1.0)\n",
      "Note: you may need to restart the kernel to use updated packages.\n"
     ]
    }
   ],
   "source": [
    "pip install tweepy"
   ]
  },
  {
   "cell_type": "code",
   "execution_count": 2,
   "metadata": {},
   "outputs": [
    {
     "name": "stdout",
     "output_type": "stream",
     "text": [
      "Requirement already satisfied: openpyxl in d:\\anaconda\\lib\\site-packages (2.6.1)\n",
      "Requirement already satisfied: et-xmlfile in d:\\anaconda\\lib\\site-packages (from openpyxl) (1.0.1)\n",
      "Requirement already satisfied: jdcal in d:\\anaconda\\lib\\site-packages (from openpyxl) (1.4)\n"
     ]
    }
   ],
   "source": [
    "!pip install openpyxl"
   ]
  },
  {
   "cell_type": "code",
   "execution_count": 3,
   "metadata": {},
   "outputs": [],
   "source": [
    "import numpy as np\n",
    "import pandas as pd\n",
    "import tweepy\n",
    "import json\n",
    "from tweepy import OAuthHandler"
   ]
  },
  {
   "cell_type": "code",
   "execution_count": 10,
   "metadata": {},
   "outputs": [],
   "source": [
    "consumer_key = \"izIO3tptpuWeXvELMZRrXXG8x\"\n",
    "consumer_secret = \"CUJOluhTi5Ofwue33nO54hsIkvfaMFXUjmpwFKYEp90pLxAQLn\"\n",
    "access_token = \"1330129391117066247-xBuMkHZ58kYb9X9FVm0zcAM5ZEcl6B\"\n",
    "access_token_secret = \"Vj5fZckPkXWS4Qt9zaszjjXDaKq2CDr2b5OCJ0KkP0MAt\""
   ]
  },
  {
   "cell_type": "code",
   "execution_count": 11,
   "metadata": {},
   "outputs": [],
   "source": [
    "auth = tweepy.OAuthHandler( consumer_key , consumer_secret )\n",
    "auth.set_access_token( access_token , access_token_secret )\n",
    "api = tweepy.API(auth)"
   ]
  },
  {
   "cell_type": "code",
   "execution_count": 12,
   "metadata": {},
   "outputs": [],
   "source": [
    "query = \"RCB winning IPL\""
   ]
  },
  {
   "cell_type": "code",
   "execution_count": 13,
   "metadata": {},
   "outputs": [],
   "source": [
    "Tweets = api.search( query , count=10 , lang='en' , exclude='retweets' , tweet_mode='extended' )\n",
    "# tweet_mode='extended'\n",
    "# tweet_mode='compat'"
   ]
  },
  {
   "cell_type": "code",
   "execution_count": 14,
   "metadata": {},
   "outputs": [
    {
     "name": "stdout",
     "output_type": "stream",
     "text": [
      "Status(_api=<tweepy.api.API object at 0x00000234B90E7198>, _json={'created_at': 'Sat Nov 21 15:48:04 +0000 2020', 'id': 1330176160878243840, 'id_str': '1330176160878243840', 'full_text': \"@Its_SakshamR @weirdly_myselff @mufaddal_vohra As Rohit say mi team not become strong over night they build it by over the years.Waht kholi did to RCB the don't see any chance of winning ipl with with this team or with virat captaincy.And chnage your Rcb slogan to agli sal cup namde whatever because you guys are not gonna win\", 'truncated': False, 'display_text_range': [47, 327], 'entities': {'hashtags': [], 'symbols': [], 'user_mentions': [{'screen_name': 'Its_SakshamR', 'name': '```~_Saksham_~```', 'id': 1244234176426983424, 'id_str': '1244234176426983424', 'indices': [0, 13]}, {'screen_name': 'weirdly_myselff', 'name': 'shakti', 'id': 882134358, 'id_str': '882134358', 'indices': [14, 30]}, {'screen_name': 'mufaddal_vohra', 'name': 'Mufaddal Vohra', 'id': 3133996860, 'id_str': '3133996860', 'indices': [31, 46]}], 'urls': []}, 'metadata': {'iso_language_code': 'en', 'result_type': 'recent'}, 'source': '<a href=\"http://twitter.com/download/android\" rel=\"nofollow\">Twitter for Android</a>', 'in_reply_to_status_id': 1330171707223584769, 'in_reply_to_status_id_str': '1330171707223584769', 'in_reply_to_user_id': 1244234176426983424, 'in_reply_to_user_id_str': '1244234176426983424', 'in_reply_to_screen_name': 'Its_SakshamR', 'user': {'id': 4647812568, 'id_str': '4647812568', 'name': 'SAMAR', 'screen_name': 'msamar382', 'location': 'India', 'description': '', 'url': None, 'entities': {'description': {'urls': []}}, 'protected': False, 'followers_count': 19, 'friends_count': 260, 'listed_count': 0, 'created_at': 'Fri Dec 25 07:25:02 +0000 2015', 'favourites_count': 7082, 'utc_offset': None, 'time_zone': None, 'geo_enabled': False, 'verified': False, 'statuses_count': 914, 'lang': None, 'contributors_enabled': False, 'is_translator': False, 'is_translation_enabled': False, 'profile_background_color': 'F5F8FA', 'profile_background_image_url': None, 'profile_background_image_url_https': None, 'profile_background_tile': False, 'profile_image_url': 'http://pbs.twimg.com/profile_images/1323331370244993024/9p59c-v__normal.jpg', 'profile_image_url_https': 'https://pbs.twimg.com/profile_images/1323331370244993024/9p59c-v__normal.jpg', 'profile_banner_url': 'https://pbs.twimg.com/profile_banners/4647812568/1604341957', 'profile_link_color': '1DA1F2', 'profile_sidebar_border_color': 'C0DEED', 'profile_sidebar_fill_color': 'DDEEF6', 'profile_text_color': '333333', 'profile_use_background_image': True, 'has_extended_profile': True, 'default_profile': True, 'default_profile_image': False, 'following': False, 'follow_request_sent': False, 'notifications': False, 'translator_type': 'none'}, 'geo': None, 'coordinates': None, 'place': None, 'contributors': None, 'is_quote_status': False, 'retweet_count': 0, 'favorite_count': 0, 'favorited': False, 'retweeted': False, 'lang': 'en'}, created_at=datetime.datetime(2020, 11, 21, 15, 48, 4), id=1330176160878243840, id_str='1330176160878243840', full_text=\"@Its_SakshamR @weirdly_myselff @mufaddal_vohra As Rohit say mi team not become strong over night they build it by over the years.Waht kholi did to RCB the don't see any chance of winning ipl with with this team or with virat captaincy.And chnage your Rcb slogan to agli sal cup namde whatever because you guys are not gonna win\", truncated=False, display_text_range=[47, 327], entities={'hashtags': [], 'symbols': [], 'user_mentions': [{'screen_name': 'Its_SakshamR', 'name': '```~_Saksham_~```', 'id': 1244234176426983424, 'id_str': '1244234176426983424', 'indices': [0, 13]}, {'screen_name': 'weirdly_myselff', 'name': 'shakti', 'id': 882134358, 'id_str': '882134358', 'indices': [14, 30]}, {'screen_name': 'mufaddal_vohra', 'name': 'Mufaddal Vohra', 'id': 3133996860, 'id_str': '3133996860', 'indices': [31, 46]}], 'urls': []}, metadata={'iso_language_code': 'en', 'result_type': 'recent'}, source='Twitter for Android', source_url='http://twitter.com/download/android', in_reply_to_status_id=1330171707223584769, in_reply_to_status_id_str='1330171707223584769', in_reply_to_user_id=1244234176426983424, in_reply_to_user_id_str='1244234176426983424', in_reply_to_screen_name='Its_SakshamR', author=User(_api=<tweepy.api.API object at 0x00000234B90E7198>, _json={'id': 4647812568, 'id_str': '4647812568', 'name': 'SAMAR', 'screen_name': 'msamar382', 'location': 'India', 'description': '', 'url': None, 'entities': {'description': {'urls': []}}, 'protected': False, 'followers_count': 19, 'friends_count': 260, 'listed_count': 0, 'created_at': 'Fri Dec 25 07:25:02 +0000 2015', 'favourites_count': 7082, 'utc_offset': None, 'time_zone': None, 'geo_enabled': False, 'verified': False, 'statuses_count': 914, 'lang': None, 'contributors_enabled': False, 'is_translator': False, 'is_translation_enabled': False, 'profile_background_color': 'F5F8FA', 'profile_background_image_url': None, 'profile_background_image_url_https': None, 'profile_background_tile': False, 'profile_image_url': 'http://pbs.twimg.com/profile_images/1323331370244993024/9p59c-v__normal.jpg', 'profile_image_url_https': 'https://pbs.twimg.com/profile_images/1323331370244993024/9p59c-v__normal.jpg', 'profile_banner_url': 'https://pbs.twimg.com/profile_banners/4647812568/1604341957', 'profile_link_color': '1DA1F2', 'profile_sidebar_border_color': 'C0DEED', 'profile_sidebar_fill_color': 'DDEEF6', 'profile_text_color': '333333', 'profile_use_background_image': True, 'has_extended_profile': True, 'default_profile': True, 'default_profile_image': False, 'following': False, 'follow_request_sent': False, 'notifications': False, 'translator_type': 'none'}, id=4647812568, id_str='4647812568', name='SAMAR', screen_name='msamar382', location='India', description='', url=None, entities={'description': {'urls': []}}, protected=False, followers_count=19, friends_count=260, listed_count=0, created_at=datetime.datetime(2015, 12, 25, 7, 25, 2), favourites_count=7082, utc_offset=None, time_zone=None, geo_enabled=False, verified=False, statuses_count=914, lang=None, contributors_enabled=False, is_translator=False, is_translation_enabled=False, profile_background_color='F5F8FA', profile_background_image_url=None, profile_background_image_url_https=None, profile_background_tile=False, profile_image_url='http://pbs.twimg.com/profile_images/1323331370244993024/9p59c-v__normal.jpg', profile_image_url_https='https://pbs.twimg.com/profile_images/1323331370244993024/9p59c-v__normal.jpg', profile_banner_url='https://pbs.twimg.com/profile_banners/4647812568/1604341957', profile_link_color='1DA1F2', profile_sidebar_border_color='C0DEED', profile_sidebar_fill_color='DDEEF6', profile_text_color='333333', profile_use_background_image=True, has_extended_profile=True, default_profile=True, default_profile_image=False, following=False, follow_request_sent=False, notifications=False, translator_type='none'), user=User(_api=<tweepy.api.API object at 0x00000234B90E7198>, _json={'id': 4647812568, 'id_str': '4647812568', 'name': 'SAMAR', 'screen_name': 'msamar382', 'location': 'India', 'description': '', 'url': None, 'entities': {'description': {'urls': []}}, 'protected': False, 'followers_count': 19, 'friends_count': 260, 'listed_count': 0, 'created_at': 'Fri Dec 25 07:25:02 +0000 2015', 'favourites_count': 7082, 'utc_offset': None, 'time_zone': None, 'geo_enabled': False, 'verified': False, 'statuses_count': 914, 'lang': None, 'contributors_enabled': False, 'is_translator': False, 'is_translation_enabled': False, 'profile_background_color': 'F5F8FA', 'profile_background_image_url': None, 'profile_background_image_url_https': None, 'profile_background_tile': False, 'profile_image_url': 'http://pbs.twimg.com/profile_images/1323331370244993024/9p59c-v__normal.jpg', 'profile_image_url_https': 'https://pbs.twimg.com/profile_images/1323331370244993024/9p59c-v__normal.jpg', 'profile_banner_url': 'https://pbs.twimg.com/profile_banners/4647812568/1604341957', 'profile_link_color': '1DA1F2', 'profile_sidebar_border_color': 'C0DEED', 'profile_sidebar_fill_color': 'DDEEF6', 'profile_text_color': '333333', 'profile_use_background_image': True, 'has_extended_profile': True, 'default_profile': True, 'default_profile_image': False, 'following': False, 'follow_request_sent': False, 'notifications': False, 'translator_type': 'none'}, id=4647812568, id_str='4647812568', name='SAMAR', screen_name='msamar382', location='India', description='', url=None, entities={'description': {'urls': []}}, protected=False, followers_count=19, friends_count=260, listed_count=0, created_at=datetime.datetime(2015, 12, 25, 7, 25, 2), favourites_count=7082, utc_offset=None, time_zone=None, geo_enabled=False, verified=False, statuses_count=914, lang=None, contributors_enabled=False, is_translator=False, is_translation_enabled=False, profile_background_color='F5F8FA', profile_background_image_url=None, profile_background_image_url_https=None, profile_background_tile=False, profile_image_url='http://pbs.twimg.com/profile_images/1323331370244993024/9p59c-v__normal.jpg', profile_image_url_https='https://pbs.twimg.com/profile_images/1323331370244993024/9p59c-v__normal.jpg', profile_banner_url='https://pbs.twimg.com/profile_banners/4647812568/1604341957', profile_link_color='1DA1F2', profile_sidebar_border_color='C0DEED', profile_sidebar_fill_color='DDEEF6', profile_text_color='333333', profile_use_background_image=True, has_extended_profile=True, default_profile=True, default_profile_image=False, following=False, follow_request_sent=False, notifications=False, translator_type='none'), geo=None, coordinates=None, place=None, contributors=None, is_quote_status=False, retweet_count=0, favorite_count=0, favorited=False, retweeted=False, lang='en') \n",
      "\n",
      ".....................................\n",
      "\n",
      "Status(_api=<tweepy.api.API object at 0x00000234B90E7198>, _json={'created_at': 'Fri Nov 20 16:32:40 +0000 2020', 'id': 1329824997230084096, 'id_str': '1329824997230084096', 'full_text': \"Yaa.. 2021 will be the healing year!!! \\nRCB winning IPL,\\nPopatlal getting married,\\nincrement in Natu kaka's salary, \\nLays stops selling 80% air ,\\nsmiling Neha kakkar ,\\nangel priya stops sending friend request.\\n\\nJust imagine... https://t.co/bD17zZ9HUO\", 'truncated': False, 'display_text_range': [0, 226], 'entities': {'hashtags': [], 'symbols': [], 'user_mentions': [], 'urls': [{'url': 'https://t.co/bD17zZ9HUO', 'expanded_url': 'https://twitter.com/Bihar_vala/status/1329770582754226179', 'display_url': 'twitter.com/Bihar_vala/sta…', 'indices': [227, 250]}]}, 'metadata': {'iso_language_code': 'en', 'result_type': 'recent'}, 'source': '<a href=\"http://twitter.com/download/android\" rel=\"nofollow\">Twitter for Android</a>', 'in_reply_to_status_id': None, 'in_reply_to_status_id_str': None, 'in_reply_to_user_id': None, 'in_reply_to_user_id_str': None, 'in_reply_to_screen_name': None, 'user': {'id': 2563571904, 'id_str': '2563571904', 'name': 'Himawari💃', 'screen_name': 'yoshita_vira', 'location': 'Mumbai, India', 'description': '', 'url': None, 'entities': {'description': {'urls': []}}, 'protected': False, 'followers_count': 197, 'friends_count': 181, 'listed_count': 1, 'created_at': 'Thu Jun 12 15:17:49 +0000 2014', 'favourites_count': 4329, 'utc_offset': None, 'time_zone': None, 'geo_enabled': True, 'verified': False, 'statuses_count': 2653, 'lang': None, 'contributors_enabled': False, 'is_translator': False, 'is_translation_enabled': False, 'profile_background_color': '000000', 'profile_background_image_url': 'http://abs.twimg.com/images/themes/theme1/bg.png', 'profile_background_image_url_https': 'https://abs.twimg.com/images/themes/theme1/bg.png', 'profile_background_tile': False, 'profile_image_url': 'http://pbs.twimg.com/profile_images/1327914090480562177/73AgbXKx_normal.jpg', 'profile_image_url_https': 'https://pbs.twimg.com/profile_images/1327914090480562177/73AgbXKx_normal.jpg', 'profile_banner_url': 'https://pbs.twimg.com/profile_banners/2563571904/1602068471', 'profile_link_color': '981CEB', 'profile_sidebar_border_color': '000000', 'profile_sidebar_fill_color': '000000', 'profile_text_color': '000000', 'profile_use_background_image': False, 'has_extended_profile': True, 'default_profile': False, 'default_profile_image': False, 'following': False, 'follow_request_sent': False, 'notifications': False, 'translator_type': 'none'}, 'geo': None, 'coordinates': None, 'place': None, 'contributors': None, 'is_quote_status': True, 'quoted_status_id': 1329770582754226179, 'quoted_status_id_str': '1329770582754226179', 'quoted_status': {'created_at': 'Fri Nov 20 12:56:27 +0000 2020', 'id': 1329770582754226179, 'id_str': '1329770582754226179', 'full_text': 'Imagine 2021 as a compensation year for 2020. No forest fire, no asteroids hitting earth, corona vanished, people getting love, Salman khan quitting Bollywood.\\nJust Imagine...', 'truncated': False, 'display_text_range': [0, 175], 'entities': {'hashtags': [], 'symbols': [], 'user_mentions': [], 'urls': []}, 'metadata': {'iso_language_code': 'en', 'result_type': 'recent'}, 'source': '<a href=\"http://twitter.com/download/android\" rel=\"nofollow\">Twitter for Android</a>', 'in_reply_to_status_id': None, 'in_reply_to_status_id_str': None, 'in_reply_to_user_id': None, 'in_reply_to_user_id_str': None, 'in_reply_to_screen_name': None, 'user': {'id': 555651283, 'id_str': '555651283', 'name': 'utkarsh pandey', 'screen_name': 'Bihar_vala', 'location': 'Patna, India', 'description': '¶ writer¶ traveller¶\\nIg: https://t.co/0gCgtooQef', 'url': 'https://t.co/25g048vlDo', 'entities': {'url': {'urls': [{'url': 'https://t.co/25g048vlDo', 'expanded_url': 'https://www.facebook.com/UtkarshTweets/', 'display_url': 'facebook.com/UtkarshTweets/', 'indices': [0, 23]}]}, 'description': {'urls': [{'url': 'https://t.co/0gCgtooQef', 'expanded_url': 'https://www.instagram.com/bihar_vala/', 'display_url': 'instagram.com/bihar_vala/', 'indices': [25, 48]}]}}, 'protected': False, 'followers_count': 254, 'friends_count': 2, 'listed_count': 0, 'created_at': 'Tue Apr 17 03:50:29 +0000 2012', 'favourites_count': 198, 'utc_offset': None, 'time_zone': None, 'geo_enabled': False, 'verified': False, 'statuses_count': 899, 'lang': None, 'contributors_enabled': False, 'is_translator': False, 'is_translation_enabled': False, 'profile_background_color': 'C0DEED', 'profile_background_image_url': 'http://abs.twimg.com/images/themes/theme1/bg.png', 'profile_background_image_url_https': 'https://abs.twimg.com/images/themes/theme1/bg.png', 'profile_background_tile': False, 'profile_image_url': 'http://pbs.twimg.com/profile_images/1285749990988472320/rqofjKGG_normal.jpg', 'profile_image_url_https': 'https://pbs.twimg.com/profile_images/1285749990988472320/rqofjKGG_normal.jpg', 'profile_banner_url': 'https://pbs.twimg.com/profile_banners/555651283/1585433867', 'profile_link_color': '1DA1F2', 'profile_sidebar_border_color': 'C0DEED', 'profile_sidebar_fill_color': 'DDEEF6', 'profile_text_color': '333333', 'profile_use_background_image': True, 'has_extended_profile': True, 'default_profile': True, 'default_profile_image': False, 'following': False, 'follow_request_sent': False, 'notifications': False, 'translator_type': 'none'}, 'geo': None, 'coordinates': None, 'place': None, 'contributors': None, 'is_quote_status': False, 'retweet_count': 0, 'favorite_count': 6, 'favorited': False, 'retweeted': False, 'lang': 'en'}, 'retweet_count': 0, 'favorite_count': 4, 'favorited': False, 'retweeted': False, 'possibly_sensitive': False, 'lang': 'en'}, created_at=datetime.datetime(2020, 11, 20, 16, 32, 40), id=1329824997230084096, id_str='1329824997230084096', full_text=\"Yaa.. 2021 will be the healing year!!! \\nRCB winning IPL,\\nPopatlal getting married,\\nincrement in Natu kaka's salary, \\nLays stops selling 80% air ,\\nsmiling Neha kakkar ,\\nangel priya stops sending friend request.\\n\\nJust imagine... https://t.co/bD17zZ9HUO\", truncated=False, display_text_range=[0, 226], entities={'hashtags': [], 'symbols': [], 'user_mentions': [], 'urls': [{'url': 'https://t.co/bD17zZ9HUO', 'expanded_url': 'https://twitter.com/Bihar_vala/status/1329770582754226179', 'display_url': 'twitter.com/Bihar_vala/sta…', 'indices': [227, 250]}]}, metadata={'iso_language_code': 'en', 'result_type': 'recent'}, source='Twitter for Android', source_url='http://twitter.com/download/android', in_reply_to_status_id=None, in_reply_to_status_id_str=None, in_reply_to_user_id=None, in_reply_to_user_id_str=None, in_reply_to_screen_name=None, author=User(_api=<tweepy.api.API object at 0x00000234B90E7198>, _json={'id': 2563571904, 'id_str': '2563571904', 'name': 'Himawari💃', 'screen_name': 'yoshita_vira', 'location': 'Mumbai, India', 'description': '', 'url': None, 'entities': {'description': {'urls': []}}, 'protected': False, 'followers_count': 197, 'friends_count': 181, 'listed_count': 1, 'created_at': 'Thu Jun 12 15:17:49 +0000 2014', 'favourites_count': 4329, 'utc_offset': None, 'time_zone': None, 'geo_enabled': True, 'verified': False, 'statuses_count': 2653, 'lang': None, 'contributors_enabled': False, 'is_translator': False, 'is_translation_enabled': False, 'profile_background_color': '000000', 'profile_background_image_url': 'http://abs.twimg.com/images/themes/theme1/bg.png', 'profile_background_image_url_https': 'https://abs.twimg.com/images/themes/theme1/bg.png', 'profile_background_tile': False, 'profile_image_url': 'http://pbs.twimg.com/profile_images/1327914090480562177/73AgbXKx_normal.jpg', 'profile_image_url_https': 'https://pbs.twimg.com/profile_images/1327914090480562177/73AgbXKx_normal.jpg', 'profile_banner_url': 'https://pbs.twimg.com/profile_banners/2563571904/1602068471', 'profile_link_color': '981CEB', 'profile_sidebar_border_color': '000000', 'profile_sidebar_fill_color': '000000', 'profile_text_color': '000000', 'profile_use_background_image': False, 'has_extended_profile': True, 'default_profile': False, 'default_profile_image': False, 'following': False, 'follow_request_sent': False, 'notifications': False, 'translator_type': 'none'}, id=2563571904, id_str='2563571904', name='Himawari💃', screen_name='yoshita_vira', location='Mumbai, India', description='', url=None, entities={'description': {'urls': []}}, protected=False, followers_count=197, friends_count=181, listed_count=1, created_at=datetime.datetime(2014, 6, 12, 15, 17, 49), favourites_count=4329, utc_offset=None, time_zone=None, geo_enabled=True, verified=False, statuses_count=2653, lang=None, contributors_enabled=False, is_translator=False, is_translation_enabled=False, profile_background_color='000000', profile_background_image_url='http://abs.twimg.com/images/themes/theme1/bg.png', profile_background_image_url_https='https://abs.twimg.com/images/themes/theme1/bg.png', profile_background_tile=False, profile_image_url='http://pbs.twimg.com/profile_images/1327914090480562177/73AgbXKx_normal.jpg', profile_image_url_https='https://pbs.twimg.com/profile_images/1327914090480562177/73AgbXKx_normal.jpg', profile_banner_url='https://pbs.twimg.com/profile_banners/2563571904/1602068471', profile_link_color='981CEB', profile_sidebar_border_color='000000', profile_sidebar_fill_color='000000', profile_text_color='000000', profile_use_background_image=False, has_extended_profile=True, default_profile=False, default_profile_image=False, following=False, follow_request_sent=False, notifications=False, translator_type='none'), user=User(_api=<tweepy.api.API object at 0x00000234B90E7198>, _json={'id': 2563571904, 'id_str': '2563571904', 'name': 'Himawari💃', 'screen_name': 'yoshita_vira', 'location': 'Mumbai, India', 'description': '', 'url': None, 'entities': {'description': {'urls': []}}, 'protected': False, 'followers_count': 197, 'friends_count': 181, 'listed_count': 1, 'created_at': 'Thu Jun 12 15:17:49 +0000 2014', 'favourites_count': 4329, 'utc_offset': None, 'time_zone': None, 'geo_enabled': True, 'verified': False, 'statuses_count': 2653, 'lang': None, 'contributors_enabled': False, 'is_translator': False, 'is_translation_enabled': False, 'profile_background_color': '000000', 'profile_background_image_url': 'http://abs.twimg.com/images/themes/theme1/bg.png', 'profile_background_image_url_https': 'https://abs.twimg.com/images/themes/theme1/bg.png', 'profile_background_tile': False, 'profile_image_url': 'http://pbs.twimg.com/profile_images/1327914090480562177/73AgbXKx_normal.jpg', 'profile_image_url_https': 'https://pbs.twimg.com/profile_images/1327914090480562177/73AgbXKx_normal.jpg', 'profile_banner_url': 'https://pbs.twimg.com/profile_banners/2563571904/1602068471', 'profile_link_color': '981CEB', 'profile_sidebar_border_color': '000000', 'profile_sidebar_fill_color': '000000', 'profile_text_color': '000000', 'profile_use_background_image': False, 'has_extended_profile': True, 'default_profile': False, 'default_profile_image': False, 'following': False, 'follow_request_sent': False, 'notifications': False, 'translator_type': 'none'}, id=2563571904, id_str='2563571904', name='Himawari💃', screen_name='yoshita_vira', location='Mumbai, India', description='', url=None, entities={'description': {'urls': []}}, protected=False, followers_count=197, friends_count=181, listed_count=1, created_at=datetime.datetime(2014, 6, 12, 15, 17, 49), favourites_count=4329, utc_offset=None, time_zone=None, geo_enabled=True, verified=False, statuses_count=2653, lang=None, contributors_enabled=False, is_translator=False, is_translation_enabled=False, profile_background_color='000000', profile_background_image_url='http://abs.twimg.com/images/themes/theme1/bg.png', profile_background_image_url_https='https://abs.twimg.com/images/themes/theme1/bg.png', profile_background_tile=False, profile_image_url='http://pbs.twimg.com/profile_images/1327914090480562177/73AgbXKx_normal.jpg', profile_image_url_https='https://pbs.twimg.com/profile_images/1327914090480562177/73AgbXKx_normal.jpg', profile_banner_url='https://pbs.twimg.com/profile_banners/2563571904/1602068471', profile_link_color='981CEB', profile_sidebar_border_color='000000', profile_sidebar_fill_color='000000', profile_text_color='000000', profile_use_background_image=False, has_extended_profile=True, default_profile=False, default_profile_image=False, following=False, follow_request_sent=False, notifications=False, translator_type='none'), geo=None, coordinates=None, place=None, contributors=None, is_quote_status=True, quoted_status_id=1329770582754226179, quoted_status_id_str='1329770582754226179', quoted_status=Status(_api=<tweepy.api.API object at 0x00000234B90E7198>, _json={'created_at': 'Fri Nov 20 12:56:27 +0000 2020', 'id': 1329770582754226179, 'id_str': '1329770582754226179', 'full_text': 'Imagine 2021 as a compensation year for 2020. No forest fire, no asteroids hitting earth, corona vanished, people getting love, Salman khan quitting Bollywood.\\nJust Imagine...', 'truncated': False, 'display_text_range': [0, 175], 'entities': {'hashtags': [], 'symbols': [], 'user_mentions': [], 'urls': []}, 'metadata': {'iso_language_code': 'en', 'result_type': 'recent'}, 'source': '<a href=\"http://twitter.com/download/android\" rel=\"nofollow\">Twitter for Android</a>', 'in_reply_to_status_id': None, 'in_reply_to_status_id_str': None, 'in_reply_to_user_id': None, 'in_reply_to_user_id_str': None, 'in_reply_to_screen_name': None, 'user': {'id': 555651283, 'id_str': '555651283', 'name': 'utkarsh pandey', 'screen_name': 'Bihar_vala', 'location': 'Patna, India', 'description': '¶ writer¶ traveller¶\\nIg: https://t.co/0gCgtooQef', 'url': 'https://t.co/25g048vlDo', 'entities': {'url': {'urls': [{'url': 'https://t.co/25g048vlDo', 'expanded_url': 'https://www.facebook.com/UtkarshTweets/', 'display_url': 'facebook.com/UtkarshTweets/', 'indices': [0, 23]}]}, 'description': {'urls': [{'url': 'https://t.co/0gCgtooQef', 'expanded_url': 'https://www.instagram.com/bihar_vala/', 'display_url': 'instagram.com/bihar_vala/', 'indices': [25, 48]}]}}, 'protected': False, 'followers_count': 254, 'friends_count': 2, 'listed_count': 0, 'created_at': 'Tue Apr 17 03:50:29 +0000 2012', 'favourites_count': 198, 'utc_offset': None, 'time_zone': None, 'geo_enabled': False, 'verified': False, 'statuses_count': 899, 'lang': None, 'contributors_enabled': False, 'is_translator': False, 'is_translation_enabled': False, 'profile_background_color': 'C0DEED', 'profile_background_image_url': 'http://abs.twimg.com/images/themes/theme1/bg.png', 'profile_background_image_url_https': 'https://abs.twimg.com/images/themes/theme1/bg.png', 'profile_background_tile': False, 'profile_image_url': 'http://pbs.twimg.com/profile_images/1285749990988472320/rqofjKGG_normal.jpg', 'profile_image_url_https': 'https://pbs.twimg.com/profile_images/1285749990988472320/rqofjKGG_normal.jpg', 'profile_banner_url': 'https://pbs.twimg.com/profile_banners/555651283/1585433867', 'profile_link_color': '1DA1F2', 'profile_sidebar_border_color': 'C0DEED', 'profile_sidebar_fill_color': 'DDEEF6', 'profile_text_color': '333333', 'profile_use_background_image': True, 'has_extended_profile': True, 'default_profile': True, 'default_profile_image': False, 'following': False, 'follow_request_sent': False, 'notifications': False, 'translator_type': 'none'}, 'geo': None, 'coordinates': None, 'place': None, 'contributors': None, 'is_quote_status': False, 'retweet_count': 0, 'favorite_count': 6, 'favorited': False, 'retweeted': False, 'lang': 'en'}, created_at=datetime.datetime(2020, 11, 20, 12, 56, 27), id=1329770582754226179, id_str='1329770582754226179', full_text='Imagine 2021 as a compensation year for 2020. No forest fire, no asteroids hitting earth, corona vanished, people getting love, Salman khan quitting Bollywood.\\nJust Imagine...', truncated=False, display_text_range=[0, 175], entities={'hashtags': [], 'symbols': [], 'user_mentions': [], 'urls': []}, metadata={'iso_language_code': 'en', 'result_type': 'recent'}, source='Twitter for Android', source_url='http://twitter.com/download/android', in_reply_to_status_id=None, in_reply_to_status_id_str=None, in_reply_to_user_id=None, in_reply_to_user_id_str=None, in_reply_to_screen_name=None, author=User(_api=<tweepy.api.API object at 0x00000234B90E7198>, _json={'id': 555651283, 'id_str': '555651283', 'name': 'utkarsh pandey', 'screen_name': 'Bihar_vala', 'location': 'Patna, India', 'description': '¶ writer¶ traveller¶\\nIg: https://t.co/0gCgtooQef', 'url': 'https://t.co/25g048vlDo', 'entities': {'url': {'urls': [{'url': 'https://t.co/25g048vlDo', 'expanded_url': 'https://www.facebook.com/UtkarshTweets/', 'display_url': 'facebook.com/UtkarshTweets/', 'indices': [0, 23]}]}, 'description': {'urls': [{'url': 'https://t.co/0gCgtooQef', 'expanded_url': 'https://www.instagram.com/bihar_vala/', 'display_url': 'instagram.com/bihar_vala/', 'indices': [25, 48]}]}}, 'protected': False, 'followers_count': 254, 'friends_count': 2, 'listed_count': 0, 'created_at': 'Tue Apr 17 03:50:29 +0000 2012', 'favourites_count': 198, 'utc_offset': None, 'time_zone': None, 'geo_enabled': False, 'verified': False, 'statuses_count': 899, 'lang': None, 'contributors_enabled': False, 'is_translator': False, 'is_translation_enabled': False, 'profile_background_color': 'C0DEED', 'profile_background_image_url': 'http://abs.twimg.com/images/themes/theme1/bg.png', 'profile_background_image_url_https': 'https://abs.twimg.com/images/themes/theme1/bg.png', 'profile_background_tile': False, 'profile_image_url': 'http://pbs.twimg.com/profile_images/1285749990988472320/rqofjKGG_normal.jpg', 'profile_image_url_https': 'https://pbs.twimg.com/profile_images/1285749990988472320/rqofjKGG_normal.jpg', 'profile_banner_url': 'https://pbs.twimg.com/profile_banners/555651283/1585433867', 'profile_link_color': '1DA1F2', 'profile_sidebar_border_color': 'C0DEED', 'profile_sidebar_fill_color': 'DDEEF6', 'profile_text_color': '333333', 'profile_use_background_image': True, 'has_extended_profile': True, 'default_profile': True, 'default_profile_image': False, 'following': False, 'follow_request_sent': False, 'notifications': False, 'translator_type': 'none'}, id=555651283, id_str='555651283', name='utkarsh pandey', screen_name='Bihar_vala', location='Patna, India', description='¶ writer¶ traveller¶\\nIg: https://t.co/0gCgtooQef', url='https://t.co/25g048vlDo', entities={'url': {'urls': [{'url': 'https://t.co/25g048vlDo', 'expanded_url': 'https://www.facebook.com/UtkarshTweets/', 'display_url': 'facebook.com/UtkarshTweets/', 'indices': [0, 23]}]}, 'description': {'urls': [{'url': 'https://t.co/0gCgtooQef', 'expanded_url': 'https://www.instagram.com/bihar_vala/', 'display_url': 'instagram.com/bihar_vala/', 'indices': [25, 48]}]}}, protected=False, followers_count=254, friends_count=2, listed_count=0, created_at=datetime.datetime(2012, 4, 17, 3, 50, 29), favourites_count=198, utc_offset=None, time_zone=None, geo_enabled=False, verified=False, statuses_count=899, lang=None, contributors_enabled=False, is_translator=False, is_translation_enabled=False, profile_background_color='C0DEED', profile_background_image_url='http://abs.twimg.com/images/themes/theme1/bg.png', profile_background_image_url_https='https://abs.twimg.com/images/themes/theme1/bg.png', profile_background_tile=False, profile_image_url='http://pbs.twimg.com/profile_images/1285749990988472320/rqofjKGG_normal.jpg', profile_image_url_https='https://pbs.twimg.com/profile_images/1285749990988472320/rqofjKGG_normal.jpg', profile_banner_url='https://pbs.twimg.com/profile_banners/555651283/1585433867', profile_link_color='1DA1F2', profile_sidebar_border_color='C0DEED', profile_sidebar_fill_color='DDEEF6', profile_text_color='333333', profile_use_background_image=True, has_extended_profile=True, default_profile=True, default_profile_image=False, following=False, follow_request_sent=False, notifications=False, translator_type='none'), user=User(_api=<tweepy.api.API object at 0x00000234B90E7198>, _json={'id': 555651283, 'id_str': '555651283', 'name': 'utkarsh pandey', 'screen_name': 'Bihar_vala', 'location': 'Patna, India', 'description': '¶ writer¶ traveller¶\\nIg: https://t.co/0gCgtooQef', 'url': 'https://t.co/25g048vlDo', 'entities': {'url': {'urls': [{'url': 'https://t.co/25g048vlDo', 'expanded_url': 'https://www.facebook.com/UtkarshTweets/', 'display_url': 'facebook.com/UtkarshTweets/', 'indices': [0, 23]}]}, 'description': {'urls': [{'url': 'https://t.co/0gCgtooQef', 'expanded_url': 'https://www.instagram.com/bihar_vala/', 'display_url': 'instagram.com/bihar_vala/', 'indices': [25, 48]}]}}, 'protected': False, 'followers_count': 254, 'friends_count': 2, 'listed_count': 0, 'created_at': 'Tue Apr 17 03:50:29 +0000 2012', 'favourites_count': 198, 'utc_offset': None, 'time_zone': None, 'geo_enabled': False, 'verified': False, 'statuses_count': 899, 'lang': None, 'contributors_enabled': False, 'is_translator': False, 'is_translation_enabled': False, 'profile_background_color': 'C0DEED', 'profile_background_image_url': 'http://abs.twimg.com/images/themes/theme1/bg.png', 'profile_background_image_url_https': 'https://abs.twimg.com/images/themes/theme1/bg.png', 'profile_background_tile': False, 'profile_image_url': 'http://pbs.twimg.com/profile_images/1285749990988472320/rqofjKGG_normal.jpg', 'profile_image_url_https': 'https://pbs.twimg.com/profile_images/1285749990988472320/rqofjKGG_normal.jpg', 'profile_banner_url': 'https://pbs.twimg.com/profile_banners/555651283/1585433867', 'profile_link_color': '1DA1F2', 'profile_sidebar_border_color': 'C0DEED', 'profile_sidebar_fill_color': 'DDEEF6', 'profile_text_color': '333333', 'profile_use_background_image': True, 'has_extended_profile': True, 'default_profile': True, 'default_profile_image': False, 'following': False, 'follow_request_sent': False, 'notifications': False, 'translator_type': 'none'}, id=555651283, id_str='555651283', name='utkarsh pandey', screen_name='Bihar_vala', location='Patna, India', description='¶ writer¶ traveller¶\\nIg: https://t.co/0gCgtooQef', url='https://t.co/25g048vlDo', entities={'url': {'urls': [{'url': 'https://t.co/25g048vlDo', 'expanded_url': 'https://www.facebook.com/UtkarshTweets/', 'display_url': 'facebook.com/UtkarshTweets/', 'indices': [0, 23]}]}, 'description': {'urls': [{'url': 'https://t.co/0gCgtooQef', 'expanded_url': 'https://www.instagram.com/bihar_vala/', 'display_url': 'instagram.com/bihar_vala/', 'indices': [25, 48]}]}}, protected=False, followers_count=254, friends_count=2, listed_count=0, created_at=datetime.datetime(2012, 4, 17, 3, 50, 29), favourites_count=198, utc_offset=None, time_zone=None, geo_enabled=False, verified=False, statuses_count=899, lang=None, contributors_enabled=False, is_translator=False, is_translation_enabled=False, profile_background_color='C0DEED', profile_background_image_url='http://abs.twimg.com/images/themes/theme1/bg.png', profile_background_image_url_https='https://abs.twimg.com/images/themes/theme1/bg.png', profile_background_tile=False, profile_image_url='http://pbs.twimg.com/profile_images/1285749990988472320/rqofjKGG_normal.jpg', profile_image_url_https='https://pbs.twimg.com/profile_images/1285749990988472320/rqofjKGG_normal.jpg', profile_banner_url='https://pbs.twimg.com/profile_banners/555651283/1585433867', profile_link_color='1DA1F2', profile_sidebar_border_color='C0DEED', profile_sidebar_fill_color='DDEEF6', profile_text_color='333333', profile_use_background_image=True, has_extended_profile=True, default_profile=True, default_profile_image=False, following=False, follow_request_sent=False, notifications=False, translator_type='none'), geo=None, coordinates=None, place=None, contributors=None, is_quote_status=False, retweet_count=0, favorite_count=6, favorited=False, retweeted=False, lang='en'), retweet_count=0, favorite_count=4, favorited=False, retweeted=False, possibly_sensitive=False, lang='en') \n",
      "\n",
      ".....................................\n",
      "\n",
      "Status(_api=<tweepy.api.API object at 0x00000234B90E7198>, _json={'created_at': 'Fri Nov 20 14:19:03 +0000 2020', 'id': 1329791368433025028, 'id_str': '1329791368433025028', 'full_text': 'Many years ago, Virat played a crucial knock for his team a night after his dad passed away. \\n\\nParthiv last year played the IPL and took care of his dad who was in the hospital. \\n\\nSiraj bowls a match winning spell a day after his dad is admitted in the hospital. \\n\\nRCB spirit 🙏', 'truncated': False, 'display_text_range': [0, 277], 'entities': {'hashtags': [], 'symbols': [], 'user_mentions': [], 'urls': []}, 'metadata': {'iso_language_code': 'en', 'result_type': 'recent'}, 'source': '<a href=\"http://twitter.com/download/android\" rel=\"nofollow\">Twitter for Android</a>', 'in_reply_to_status_id': None, 'in_reply_to_status_id_str': None, 'in_reply_to_user_id': None, 'in_reply_to_user_id_str': None, 'in_reply_to_screen_name': None, 'user': {'id': 1103596812403802112, 'id_str': '1103596812403802112', 'name': 'Vinesh Prabhu', 'screen_name': 'vlp1994', 'location': 'Mumbai, India', 'description': '25 | Cricket devotee | IPL ❤️ | Bollywood lover | Digital guy | Big-time foodie | Autograph collector | Weight loss journey going on... 16 kgs down!', 'url': 'https://t.co/fBoUdb7yj2', 'entities': {'url': {'urls': [{'url': 'https://t.co/fBoUdb7yj2', 'expanded_url': 'https://m.sportskeeda.com/cricket/when-fans-meet-their-cricketing-heroes', 'display_url': 'm.sportskeeda.com/cricket/when-f…', 'indices': [0, 23]}]}, 'description': {'urls': []}}, 'protected': False, 'followers_count': 1486, 'friends_count': 316, 'listed_count': 2, 'created_at': 'Thu Mar 07 10:02:38 +0000 2019', 'favourites_count': 6234, 'utc_offset': None, 'time_zone': None, 'geo_enabled': True, 'verified': False, 'statuses_count': 23017, 'lang': None, 'contributors_enabled': False, 'is_translator': False, 'is_translation_enabled': False, 'profile_background_color': 'F5F8FA', 'profile_background_image_url': None, 'profile_background_image_url_https': None, 'profile_background_tile': False, 'profile_image_url': 'http://pbs.twimg.com/profile_images/1327240710215503872/iCcBCEwb_normal.jpg', 'profile_image_url_https': 'https://pbs.twimg.com/profile_images/1327240710215503872/iCcBCEwb_normal.jpg', 'profile_banner_url': 'https://pbs.twimg.com/profile_banners/1103596812403802112/1600172320', 'profile_link_color': '1DA1F2', 'profile_sidebar_border_color': 'C0DEED', 'profile_sidebar_fill_color': 'DDEEF6', 'profile_text_color': '333333', 'profile_use_background_image': True, 'has_extended_profile': True, 'default_profile': True, 'default_profile_image': False, 'following': False, 'follow_request_sent': False, 'notifications': False, 'translator_type': 'none'}, 'geo': None, 'coordinates': None, 'place': None, 'contributors': None, 'is_quote_status': False, 'retweet_count': 2, 'favorite_count': 11, 'favorited': False, 'retweeted': False, 'lang': 'en'}, created_at=datetime.datetime(2020, 11, 20, 14, 19, 3), id=1329791368433025028, id_str='1329791368433025028', full_text='Many years ago, Virat played a crucial knock for his team a night after his dad passed away. \\n\\nParthiv last year played the IPL and took care of his dad who was in the hospital. \\n\\nSiraj bowls a match winning spell a day after his dad is admitted in the hospital. \\n\\nRCB spirit 🙏', truncated=False, display_text_range=[0, 277], entities={'hashtags': [], 'symbols': [], 'user_mentions': [], 'urls': []}, metadata={'iso_language_code': 'en', 'result_type': 'recent'}, source='Twitter for Android', source_url='http://twitter.com/download/android', in_reply_to_status_id=None, in_reply_to_status_id_str=None, in_reply_to_user_id=None, in_reply_to_user_id_str=None, in_reply_to_screen_name=None, author=User(_api=<tweepy.api.API object at 0x00000234B90E7198>, _json={'id': 1103596812403802112, 'id_str': '1103596812403802112', 'name': 'Vinesh Prabhu', 'screen_name': 'vlp1994', 'location': 'Mumbai, India', 'description': '25 | Cricket devotee | IPL ❤️ | Bollywood lover | Digital guy | Big-time foodie | Autograph collector | Weight loss journey going on... 16 kgs down!', 'url': 'https://t.co/fBoUdb7yj2', 'entities': {'url': {'urls': [{'url': 'https://t.co/fBoUdb7yj2', 'expanded_url': 'https://m.sportskeeda.com/cricket/when-fans-meet-their-cricketing-heroes', 'display_url': 'm.sportskeeda.com/cricket/when-f…', 'indices': [0, 23]}]}, 'description': {'urls': []}}, 'protected': False, 'followers_count': 1486, 'friends_count': 316, 'listed_count': 2, 'created_at': 'Thu Mar 07 10:02:38 +0000 2019', 'favourites_count': 6234, 'utc_offset': None, 'time_zone': None, 'geo_enabled': True, 'verified': False, 'statuses_count': 23017, 'lang': None, 'contributors_enabled': False, 'is_translator': False, 'is_translation_enabled': False, 'profile_background_color': 'F5F8FA', 'profile_background_image_url': None, 'profile_background_image_url_https': None, 'profile_background_tile': False, 'profile_image_url': 'http://pbs.twimg.com/profile_images/1327240710215503872/iCcBCEwb_normal.jpg', 'profile_image_url_https': 'https://pbs.twimg.com/profile_images/1327240710215503872/iCcBCEwb_normal.jpg', 'profile_banner_url': 'https://pbs.twimg.com/profile_banners/1103596812403802112/1600172320', 'profile_link_color': '1DA1F2', 'profile_sidebar_border_color': 'C0DEED', 'profile_sidebar_fill_color': 'DDEEF6', 'profile_text_color': '333333', 'profile_use_background_image': True, 'has_extended_profile': True, 'default_profile': True, 'default_profile_image': False, 'following': False, 'follow_request_sent': False, 'notifications': False, 'translator_type': 'none'}, id=1103596812403802112, id_str='1103596812403802112', name='Vinesh Prabhu', screen_name='vlp1994', location='Mumbai, India', description='25 | Cricket devotee | IPL ❤️ | Bollywood lover | Digital guy | Big-time foodie | Autograph collector | Weight loss journey going on... 16 kgs down!', url='https://t.co/fBoUdb7yj2', entities={'url': {'urls': [{'url': 'https://t.co/fBoUdb7yj2', 'expanded_url': 'https://m.sportskeeda.com/cricket/when-fans-meet-their-cricketing-heroes', 'display_url': 'm.sportskeeda.com/cricket/when-f…', 'indices': [0, 23]}]}, 'description': {'urls': []}}, protected=False, followers_count=1486, friends_count=316, listed_count=2, created_at=datetime.datetime(2019, 3, 7, 10, 2, 38), favourites_count=6234, utc_offset=None, time_zone=None, geo_enabled=True, verified=False, statuses_count=23017, lang=None, contributors_enabled=False, is_translator=False, is_translation_enabled=False, profile_background_color='F5F8FA', profile_background_image_url=None, profile_background_image_url_https=None, profile_background_tile=False, profile_image_url='http://pbs.twimg.com/profile_images/1327240710215503872/iCcBCEwb_normal.jpg', profile_image_url_https='https://pbs.twimg.com/profile_images/1327240710215503872/iCcBCEwb_normal.jpg', profile_banner_url='https://pbs.twimg.com/profile_banners/1103596812403802112/1600172320', profile_link_color='1DA1F2', profile_sidebar_border_color='C0DEED', profile_sidebar_fill_color='DDEEF6', profile_text_color='333333', profile_use_background_image=True, has_extended_profile=True, default_profile=True, default_profile_image=False, following=False, follow_request_sent=False, notifications=False, translator_type='none'), user=User(_api=<tweepy.api.API object at 0x00000234B90E7198>, _json={'id': 1103596812403802112, 'id_str': '1103596812403802112', 'name': 'Vinesh Prabhu', 'screen_name': 'vlp1994', 'location': 'Mumbai, India', 'description': '25 | Cricket devotee | IPL ❤️ | Bollywood lover | Digital guy | Big-time foodie | Autograph collector | Weight loss journey going on... 16 kgs down!', 'url': 'https://t.co/fBoUdb7yj2', 'entities': {'url': {'urls': [{'url': 'https://t.co/fBoUdb7yj2', 'expanded_url': 'https://m.sportskeeda.com/cricket/when-fans-meet-their-cricketing-heroes', 'display_url': 'm.sportskeeda.com/cricket/when-f…', 'indices': [0, 23]}]}, 'description': {'urls': []}}, 'protected': False, 'followers_count': 1486, 'friends_count': 316, 'listed_count': 2, 'created_at': 'Thu Mar 07 10:02:38 +0000 2019', 'favourites_count': 6234, 'utc_offset': None, 'time_zone': None, 'geo_enabled': True, 'verified': False, 'statuses_count': 23017, 'lang': None, 'contributors_enabled': False, 'is_translator': False, 'is_translation_enabled': False, 'profile_background_color': 'F5F8FA', 'profile_background_image_url': None, 'profile_background_image_url_https': None, 'profile_background_tile': False, 'profile_image_url': 'http://pbs.twimg.com/profile_images/1327240710215503872/iCcBCEwb_normal.jpg', 'profile_image_url_https': 'https://pbs.twimg.com/profile_images/1327240710215503872/iCcBCEwb_normal.jpg', 'profile_banner_url': 'https://pbs.twimg.com/profile_banners/1103596812403802112/1600172320', 'profile_link_color': '1DA1F2', 'profile_sidebar_border_color': 'C0DEED', 'profile_sidebar_fill_color': 'DDEEF6', 'profile_text_color': '333333', 'profile_use_background_image': True, 'has_extended_profile': True, 'default_profile': True, 'default_profile_image': False, 'following': False, 'follow_request_sent': False, 'notifications': False, 'translator_type': 'none'}, id=1103596812403802112, id_str='1103596812403802112', name='Vinesh Prabhu', screen_name='vlp1994', location='Mumbai, India', description='25 | Cricket devotee | IPL ❤️ | Bollywood lover | Digital guy | Big-time foodie | Autograph collector | Weight loss journey going on... 16 kgs down!', url='https://t.co/fBoUdb7yj2', entities={'url': {'urls': [{'url': 'https://t.co/fBoUdb7yj2', 'expanded_url': 'https://m.sportskeeda.com/cricket/when-fans-meet-their-cricketing-heroes', 'display_url': 'm.sportskeeda.com/cricket/when-f…', 'indices': [0, 23]}]}, 'description': {'urls': []}}, protected=False, followers_count=1486, friends_count=316, listed_count=2, created_at=datetime.datetime(2019, 3, 7, 10, 2, 38), favourites_count=6234, utc_offset=None, time_zone=None, geo_enabled=True, verified=False, statuses_count=23017, lang=None, contributors_enabled=False, is_translator=False, is_translation_enabled=False, profile_background_color='F5F8FA', profile_background_image_url=None, profile_background_image_url_https=None, profile_background_tile=False, profile_image_url='http://pbs.twimg.com/profile_images/1327240710215503872/iCcBCEwb_normal.jpg', profile_image_url_https='https://pbs.twimg.com/profile_images/1327240710215503872/iCcBCEwb_normal.jpg', profile_banner_url='https://pbs.twimg.com/profile_banners/1103596812403802112/1600172320', profile_link_color='1DA1F2', profile_sidebar_border_color='C0DEED', profile_sidebar_fill_color='DDEEF6', profile_text_color='333333', profile_use_background_image=True, has_extended_profile=True, default_profile=True, default_profile_image=False, following=False, follow_request_sent=False, notifications=False, translator_type='none'), geo=None, coordinates=None, place=None, contributors=None, is_quote_status=False, retweet_count=2, favorite_count=11, favorited=False, retweeted=False, lang='en') \n",
      "\n",
      ".....................................\n",
      "\n",
      "Status(_api=<tweepy.api.API object at 0x00000234B90E7198>, _json={'created_at': 'Fri Nov 20 12:38:35 +0000 2020', 'id': 1329766085369892865, 'id_str': '1329766085369892865', 'full_text': \"@DionRaphael2 @MonuSin95877888 @Cricbites @ICC And even after 13 years if RCB can't build an IPL winning squad then there's some major problem with either management or captain. I'm not saying Kohli is a worst captain but IPL is great platform to test your skills and how you stand against world's best.\", 'truncated': False, 'display_text_range': [47, 303], 'entities': {'hashtags': [], 'symbols': [], 'user_mentions': [{'screen_name': 'DionRaphael2', 'name': 'Diōn Raphael', 'id': 1313359857462833152, 'id_str': '1313359857462833152', 'indices': [0, 13]}, {'screen_name': 'MonuSin95877888', 'name': 'Monu Singh', 'id': 1325475944706924544, 'id_str': '1325475944706924544', 'indices': [14, 30]}, {'screen_name': 'Cricbites', 'name': 'Cricbuzz', 'id': 1318938307510685696, 'id_str': '1318938307510685696', 'indices': [31, 41]}, {'screen_name': 'ICC', 'name': 'ICC', 'id': 177547780, 'id_str': '177547780', 'indices': [42, 46]}], 'urls': []}, 'metadata': {'iso_language_code': 'en', 'result_type': 'recent'}, 'source': '<a href=\"http://twitter.com/download/android\" rel=\"nofollow\">Twitter for Android</a>', 'in_reply_to_status_id': 1329765332660043777, 'in_reply_to_status_id_str': '1329765332660043777', 'in_reply_to_user_id': 3117546939, 'in_reply_to_user_id_str': '3117546939', 'in_reply_to_screen_name': 'Yaan_engineer', 'user': {'id': 3117546939, 'id_str': '3117546939', 'name': 'Shravan Kudla', 'screen_name': 'Yaan_engineer', 'location': 'India', 'description': 'Humanity Above All☮️\\n#Indian🇮🇳\\n#Sanatana_Dharma🚩\\n#Proud_Tuluva♥️\\n#Engineer👨\\u200d🏭\\n#YNWA🔴\\n#WestBlockBlues💙\\n\\n#Tuluto8thschedule\\n#TuluOfficialInKA_KL', 'url': None, 'entities': {'description': {'urls': []}}, 'protected': False, 'followers_count': 28, 'friends_count': 116, 'listed_count': 0, 'created_at': 'Thu Mar 26 07:35:07 +0000 2015', 'favourites_count': 3686, 'utc_offset': None, 'time_zone': None, 'geo_enabled': False, 'verified': False, 'statuses_count': 1323, 'lang': None, 'contributors_enabled': False, 'is_translator': False, 'is_translation_enabled': False, 'profile_background_color': 'C0DEED', 'profile_background_image_url': 'http://abs.twimg.com/images/themes/theme1/bg.png', 'profile_background_image_url_https': 'https://abs.twimg.com/images/themes/theme1/bg.png', 'profile_background_tile': False, 'profile_image_url': 'http://pbs.twimg.com/profile_images/1210511013923024897/ezj_M0cM_normal.jpg', 'profile_image_url_https': 'https://pbs.twimg.com/profile_images/1210511013923024897/ezj_M0cM_normal.jpg', 'profile_banner_url': 'https://pbs.twimg.com/profile_banners/3117546939/1577443290', 'profile_link_color': '1DA1F2', 'profile_sidebar_border_color': 'C0DEED', 'profile_sidebar_fill_color': 'DDEEF6', 'profile_text_color': '333333', 'profile_use_background_image': True, 'has_extended_profile': True, 'default_profile': True, 'default_profile_image': False, 'following': False, 'follow_request_sent': False, 'notifications': False, 'translator_type': 'none'}, 'geo': None, 'coordinates': None, 'place': None, 'contributors': None, 'is_quote_status': False, 'retweet_count': 0, 'favorite_count': 0, 'favorited': False, 'retweeted': False, 'lang': 'en'}, created_at=datetime.datetime(2020, 11, 20, 12, 38, 35), id=1329766085369892865, id_str='1329766085369892865', full_text=\"@DionRaphael2 @MonuSin95877888 @Cricbites @ICC And even after 13 years if RCB can't build an IPL winning squad then there's some major problem with either management or captain. I'm not saying Kohli is a worst captain but IPL is great platform to test your skills and how you stand against world's best.\", truncated=False, display_text_range=[47, 303], entities={'hashtags': [], 'symbols': [], 'user_mentions': [{'screen_name': 'DionRaphael2', 'name': 'Diōn Raphael', 'id': 1313359857462833152, 'id_str': '1313359857462833152', 'indices': [0, 13]}, {'screen_name': 'MonuSin95877888', 'name': 'Monu Singh', 'id': 1325475944706924544, 'id_str': '1325475944706924544', 'indices': [14, 30]}, {'screen_name': 'Cricbites', 'name': 'Cricbuzz', 'id': 1318938307510685696, 'id_str': '1318938307510685696', 'indices': [31, 41]}, {'screen_name': 'ICC', 'name': 'ICC', 'id': 177547780, 'id_str': '177547780', 'indices': [42, 46]}], 'urls': []}, metadata={'iso_language_code': 'en', 'result_type': 'recent'}, source='Twitter for Android', source_url='http://twitter.com/download/android', in_reply_to_status_id=1329765332660043777, in_reply_to_status_id_str='1329765332660043777', in_reply_to_user_id=3117546939, in_reply_to_user_id_str='3117546939', in_reply_to_screen_name='Yaan_engineer', author=User(_api=<tweepy.api.API object at 0x00000234B90E7198>, _json={'id': 3117546939, 'id_str': '3117546939', 'name': 'Shravan Kudla', 'screen_name': 'Yaan_engineer', 'location': 'India', 'description': 'Humanity Above All☮️\\n#Indian🇮🇳\\n#Sanatana_Dharma🚩\\n#Proud_Tuluva♥️\\n#Engineer👨\\u200d🏭\\n#YNWA🔴\\n#WestBlockBlues💙\\n\\n#Tuluto8thschedule\\n#TuluOfficialInKA_KL', 'url': None, 'entities': {'description': {'urls': []}}, 'protected': False, 'followers_count': 28, 'friends_count': 116, 'listed_count': 0, 'created_at': 'Thu Mar 26 07:35:07 +0000 2015', 'favourites_count': 3686, 'utc_offset': None, 'time_zone': None, 'geo_enabled': False, 'verified': False, 'statuses_count': 1323, 'lang': None, 'contributors_enabled': False, 'is_translator': False, 'is_translation_enabled': False, 'profile_background_color': 'C0DEED', 'profile_background_image_url': 'http://abs.twimg.com/images/themes/theme1/bg.png', 'profile_background_image_url_https': 'https://abs.twimg.com/images/themes/theme1/bg.png', 'profile_background_tile': False, 'profile_image_url': 'http://pbs.twimg.com/profile_images/1210511013923024897/ezj_M0cM_normal.jpg', 'profile_image_url_https': 'https://pbs.twimg.com/profile_images/1210511013923024897/ezj_M0cM_normal.jpg', 'profile_banner_url': 'https://pbs.twimg.com/profile_banners/3117546939/1577443290', 'profile_link_color': '1DA1F2', 'profile_sidebar_border_color': 'C0DEED', 'profile_sidebar_fill_color': 'DDEEF6', 'profile_text_color': '333333', 'profile_use_background_image': True, 'has_extended_profile': True, 'default_profile': True, 'default_profile_image': False, 'following': False, 'follow_request_sent': False, 'notifications': False, 'translator_type': 'none'}, id=3117546939, id_str='3117546939', name='Shravan Kudla', screen_name='Yaan_engineer', location='India', description='Humanity Above All☮️\\n#Indian🇮🇳\\n#Sanatana_Dharma🚩\\n#Proud_Tuluva♥️\\n#Engineer👨\\u200d🏭\\n#YNWA🔴\\n#WestBlockBlues💙\\n\\n#Tuluto8thschedule\\n#TuluOfficialInKA_KL', url=None, entities={'description': {'urls': []}}, protected=False, followers_count=28, friends_count=116, listed_count=0, created_at=datetime.datetime(2015, 3, 26, 7, 35, 7), favourites_count=3686, utc_offset=None, time_zone=None, geo_enabled=False, verified=False, statuses_count=1323, lang=None, contributors_enabled=False, is_translator=False, is_translation_enabled=False, profile_background_color='C0DEED', profile_background_image_url='http://abs.twimg.com/images/themes/theme1/bg.png', profile_background_image_url_https='https://abs.twimg.com/images/themes/theme1/bg.png', profile_background_tile=False, profile_image_url='http://pbs.twimg.com/profile_images/1210511013923024897/ezj_M0cM_normal.jpg', profile_image_url_https='https://pbs.twimg.com/profile_images/1210511013923024897/ezj_M0cM_normal.jpg', profile_banner_url='https://pbs.twimg.com/profile_banners/3117546939/1577443290', profile_link_color='1DA1F2', profile_sidebar_border_color='C0DEED', profile_sidebar_fill_color='DDEEF6', profile_text_color='333333', profile_use_background_image=True, has_extended_profile=True, default_profile=True, default_profile_image=False, following=False, follow_request_sent=False, notifications=False, translator_type='none'), user=User(_api=<tweepy.api.API object at 0x00000234B90E7198>, _json={'id': 3117546939, 'id_str': '3117546939', 'name': 'Shravan Kudla', 'screen_name': 'Yaan_engineer', 'location': 'India', 'description': 'Humanity Above All☮️\\n#Indian🇮🇳\\n#Sanatana_Dharma🚩\\n#Proud_Tuluva♥️\\n#Engineer👨\\u200d🏭\\n#YNWA🔴\\n#WestBlockBlues💙\\n\\n#Tuluto8thschedule\\n#TuluOfficialInKA_KL', 'url': None, 'entities': {'description': {'urls': []}}, 'protected': False, 'followers_count': 28, 'friends_count': 116, 'listed_count': 0, 'created_at': 'Thu Mar 26 07:35:07 +0000 2015', 'favourites_count': 3686, 'utc_offset': None, 'time_zone': None, 'geo_enabled': False, 'verified': False, 'statuses_count': 1323, 'lang': None, 'contributors_enabled': False, 'is_translator': False, 'is_translation_enabled': False, 'profile_background_color': 'C0DEED', 'profile_background_image_url': 'http://abs.twimg.com/images/themes/theme1/bg.png', 'profile_background_image_url_https': 'https://abs.twimg.com/images/themes/theme1/bg.png', 'profile_background_tile': False, 'profile_image_url': 'http://pbs.twimg.com/profile_images/1210511013923024897/ezj_M0cM_normal.jpg', 'profile_image_url_https': 'https://pbs.twimg.com/profile_images/1210511013923024897/ezj_M0cM_normal.jpg', 'profile_banner_url': 'https://pbs.twimg.com/profile_banners/3117546939/1577443290', 'profile_link_color': '1DA1F2', 'profile_sidebar_border_color': 'C0DEED', 'profile_sidebar_fill_color': 'DDEEF6', 'profile_text_color': '333333', 'profile_use_background_image': True, 'has_extended_profile': True, 'default_profile': True, 'default_profile_image': False, 'following': False, 'follow_request_sent': False, 'notifications': False, 'translator_type': 'none'}, id=3117546939, id_str='3117546939', name='Shravan Kudla', screen_name='Yaan_engineer', location='India', description='Humanity Above All☮️\\n#Indian🇮🇳\\n#Sanatana_Dharma🚩\\n#Proud_Tuluva♥️\\n#Engineer👨\\u200d🏭\\n#YNWA🔴\\n#WestBlockBlues💙\\n\\n#Tuluto8thschedule\\n#TuluOfficialInKA_KL', url=None, entities={'description': {'urls': []}}, protected=False, followers_count=28, friends_count=116, listed_count=0, created_at=datetime.datetime(2015, 3, 26, 7, 35, 7), favourites_count=3686, utc_offset=None, time_zone=None, geo_enabled=False, verified=False, statuses_count=1323, lang=None, contributors_enabled=False, is_translator=False, is_translation_enabled=False, profile_background_color='C0DEED', profile_background_image_url='http://abs.twimg.com/images/themes/theme1/bg.png', profile_background_image_url_https='https://abs.twimg.com/images/themes/theme1/bg.png', profile_background_tile=False, profile_image_url='http://pbs.twimg.com/profile_images/1210511013923024897/ezj_M0cM_normal.jpg', profile_image_url_https='https://pbs.twimg.com/profile_images/1210511013923024897/ezj_M0cM_normal.jpg', profile_banner_url='https://pbs.twimg.com/profile_banners/3117546939/1577443290', profile_link_color='1DA1F2', profile_sidebar_border_color='C0DEED', profile_sidebar_fill_color='DDEEF6', profile_text_color='333333', profile_use_background_image=True, has_extended_profile=True, default_profile=True, default_profile_image=False, following=False, follow_request_sent=False, notifications=False, translator_type='none'), geo=None, coordinates=None, place=None, contributors=None, is_quote_status=False, retweet_count=0, favorite_count=0, favorited=False, retweeted=False, lang='en') \n",
      "\n",
      ".....................................\n",
      "\n",
      "Status(_api=<tweepy.api.API object at 0x00000234B90E7198>, _json={'created_at': 'Fri Nov 20 12:35:35 +0000 2020', 'id': 1329765332660043777, 'id_str': '1329765332660043777', 'full_text': \"@DionRaphael2 @MonuSin95877888 @Cricbites @ICC But it is something. If you can give credit to Kohli for winning the series in Australia then he's also the one be blamed for RCB's failure and moreover all the country's aren't same when it comes to talent but in IPL everyone gets the chance to build their team from scratch\", 'truncated': False, 'display_text_range': [47, 322], 'entities': {'hashtags': [], 'symbols': [], 'user_mentions': [{'screen_name': 'DionRaphael2', 'name': 'Diōn Raphael', 'id': 1313359857462833152, 'id_str': '1313359857462833152', 'indices': [0, 13]}, {'screen_name': 'MonuSin95877888', 'name': 'Monu Singh', 'id': 1325475944706924544, 'id_str': '1325475944706924544', 'indices': [14, 30]}, {'screen_name': 'Cricbites', 'name': 'Cricbuzz', 'id': 1318938307510685696, 'id_str': '1318938307510685696', 'indices': [31, 41]}, {'screen_name': 'ICC', 'name': 'ICC', 'id': 177547780, 'id_str': '177547780', 'indices': [42, 46]}], 'urls': []}, 'metadata': {'iso_language_code': 'en', 'result_type': 'recent'}, 'source': '<a href=\"http://twitter.com/download/android\" rel=\"nofollow\">Twitter for Android</a>', 'in_reply_to_status_id': 1329696096348618754, 'in_reply_to_status_id_str': '1329696096348618754', 'in_reply_to_user_id': 1313359857462833152, 'in_reply_to_user_id_str': '1313359857462833152', 'in_reply_to_screen_name': 'DionRaphael2', 'user': {'id': 3117546939, 'id_str': '3117546939', 'name': 'Shravan Kudla', 'screen_name': 'Yaan_engineer', 'location': 'India', 'description': 'Humanity Above All☮️\\n#Indian🇮🇳\\n#Sanatana_Dharma🚩\\n#Proud_Tuluva♥️\\n#Engineer👨\\u200d🏭\\n#YNWA🔴\\n#WestBlockBlues💙\\n\\n#Tuluto8thschedule\\n#TuluOfficialInKA_KL', 'url': None, 'entities': {'description': {'urls': []}}, 'protected': False, 'followers_count': 28, 'friends_count': 116, 'listed_count': 0, 'created_at': 'Thu Mar 26 07:35:07 +0000 2015', 'favourites_count': 3686, 'utc_offset': None, 'time_zone': None, 'geo_enabled': False, 'verified': False, 'statuses_count': 1323, 'lang': None, 'contributors_enabled': False, 'is_translator': False, 'is_translation_enabled': False, 'profile_background_color': 'C0DEED', 'profile_background_image_url': 'http://abs.twimg.com/images/themes/theme1/bg.png', 'profile_background_image_url_https': 'https://abs.twimg.com/images/themes/theme1/bg.png', 'profile_background_tile': False, 'profile_image_url': 'http://pbs.twimg.com/profile_images/1210511013923024897/ezj_M0cM_normal.jpg', 'profile_image_url_https': 'https://pbs.twimg.com/profile_images/1210511013923024897/ezj_M0cM_normal.jpg', 'profile_banner_url': 'https://pbs.twimg.com/profile_banners/3117546939/1577443290', 'profile_link_color': '1DA1F2', 'profile_sidebar_border_color': 'C0DEED', 'profile_sidebar_fill_color': 'DDEEF6', 'profile_text_color': '333333', 'profile_use_background_image': True, 'has_extended_profile': True, 'default_profile': True, 'default_profile_image': False, 'following': False, 'follow_request_sent': False, 'notifications': False, 'translator_type': 'none'}, 'geo': None, 'coordinates': None, 'place': None, 'contributors': None, 'is_quote_status': False, 'retweet_count': 0, 'favorite_count': 0, 'favorited': False, 'retweeted': False, 'lang': 'en'}, created_at=datetime.datetime(2020, 11, 20, 12, 35, 35), id=1329765332660043777, id_str='1329765332660043777', full_text=\"@DionRaphael2 @MonuSin95877888 @Cricbites @ICC But it is something. If you can give credit to Kohli for winning the series in Australia then he's also the one be blamed for RCB's failure and moreover all the country's aren't same when it comes to talent but in IPL everyone gets the chance to build their team from scratch\", truncated=False, display_text_range=[47, 322], entities={'hashtags': [], 'symbols': [], 'user_mentions': [{'screen_name': 'DionRaphael2', 'name': 'Diōn Raphael', 'id': 1313359857462833152, 'id_str': '1313359857462833152', 'indices': [0, 13]}, {'screen_name': 'MonuSin95877888', 'name': 'Monu Singh', 'id': 1325475944706924544, 'id_str': '1325475944706924544', 'indices': [14, 30]}, {'screen_name': 'Cricbites', 'name': 'Cricbuzz', 'id': 1318938307510685696, 'id_str': '1318938307510685696', 'indices': [31, 41]}, {'screen_name': 'ICC', 'name': 'ICC', 'id': 177547780, 'id_str': '177547780', 'indices': [42, 46]}], 'urls': []}, metadata={'iso_language_code': 'en', 'result_type': 'recent'}, source='Twitter for Android', source_url='http://twitter.com/download/android', in_reply_to_status_id=1329696096348618754, in_reply_to_status_id_str='1329696096348618754', in_reply_to_user_id=1313359857462833152, in_reply_to_user_id_str='1313359857462833152', in_reply_to_screen_name='DionRaphael2', author=User(_api=<tweepy.api.API object at 0x00000234B90E7198>, _json={'id': 3117546939, 'id_str': '3117546939', 'name': 'Shravan Kudla', 'screen_name': 'Yaan_engineer', 'location': 'India', 'description': 'Humanity Above All☮️\\n#Indian🇮🇳\\n#Sanatana_Dharma🚩\\n#Proud_Tuluva♥️\\n#Engineer👨\\u200d🏭\\n#YNWA🔴\\n#WestBlockBlues💙\\n\\n#Tuluto8thschedule\\n#TuluOfficialInKA_KL', 'url': None, 'entities': {'description': {'urls': []}}, 'protected': False, 'followers_count': 28, 'friends_count': 116, 'listed_count': 0, 'created_at': 'Thu Mar 26 07:35:07 +0000 2015', 'favourites_count': 3686, 'utc_offset': None, 'time_zone': None, 'geo_enabled': False, 'verified': False, 'statuses_count': 1323, 'lang': None, 'contributors_enabled': False, 'is_translator': False, 'is_translation_enabled': False, 'profile_background_color': 'C0DEED', 'profile_background_image_url': 'http://abs.twimg.com/images/themes/theme1/bg.png', 'profile_background_image_url_https': 'https://abs.twimg.com/images/themes/theme1/bg.png', 'profile_background_tile': False, 'profile_image_url': 'http://pbs.twimg.com/profile_images/1210511013923024897/ezj_M0cM_normal.jpg', 'profile_image_url_https': 'https://pbs.twimg.com/profile_images/1210511013923024897/ezj_M0cM_normal.jpg', 'profile_banner_url': 'https://pbs.twimg.com/profile_banners/3117546939/1577443290', 'profile_link_color': '1DA1F2', 'profile_sidebar_border_color': 'C0DEED', 'profile_sidebar_fill_color': 'DDEEF6', 'profile_text_color': '333333', 'profile_use_background_image': True, 'has_extended_profile': True, 'default_profile': True, 'default_profile_image': False, 'following': False, 'follow_request_sent': False, 'notifications': False, 'translator_type': 'none'}, id=3117546939, id_str='3117546939', name='Shravan Kudla', screen_name='Yaan_engineer', location='India', description='Humanity Above All☮️\\n#Indian🇮🇳\\n#Sanatana_Dharma🚩\\n#Proud_Tuluva♥️\\n#Engineer👨\\u200d🏭\\n#YNWA🔴\\n#WestBlockBlues💙\\n\\n#Tuluto8thschedule\\n#TuluOfficialInKA_KL', url=None, entities={'description': {'urls': []}}, protected=False, followers_count=28, friends_count=116, listed_count=0, created_at=datetime.datetime(2015, 3, 26, 7, 35, 7), favourites_count=3686, utc_offset=None, time_zone=None, geo_enabled=False, verified=False, statuses_count=1323, lang=None, contributors_enabled=False, is_translator=False, is_translation_enabled=False, profile_background_color='C0DEED', profile_background_image_url='http://abs.twimg.com/images/themes/theme1/bg.png', profile_background_image_url_https='https://abs.twimg.com/images/themes/theme1/bg.png', profile_background_tile=False, profile_image_url='http://pbs.twimg.com/profile_images/1210511013923024897/ezj_M0cM_normal.jpg', profile_image_url_https='https://pbs.twimg.com/profile_images/1210511013923024897/ezj_M0cM_normal.jpg', profile_banner_url='https://pbs.twimg.com/profile_banners/3117546939/1577443290', profile_link_color='1DA1F2', profile_sidebar_border_color='C0DEED', profile_sidebar_fill_color='DDEEF6', profile_text_color='333333', profile_use_background_image=True, has_extended_profile=True, default_profile=True, default_profile_image=False, following=False, follow_request_sent=False, notifications=False, translator_type='none'), user=User(_api=<tweepy.api.API object at 0x00000234B90E7198>, _json={'id': 3117546939, 'id_str': '3117546939', 'name': 'Shravan Kudla', 'screen_name': 'Yaan_engineer', 'location': 'India', 'description': 'Humanity Above All☮️\\n#Indian🇮🇳\\n#Sanatana_Dharma🚩\\n#Proud_Tuluva♥️\\n#Engineer👨\\u200d🏭\\n#YNWA🔴\\n#WestBlockBlues💙\\n\\n#Tuluto8thschedule\\n#TuluOfficialInKA_KL', 'url': None, 'entities': {'description': {'urls': []}}, 'protected': False, 'followers_count': 28, 'friends_count': 116, 'listed_count': 0, 'created_at': 'Thu Mar 26 07:35:07 +0000 2015', 'favourites_count': 3686, 'utc_offset': None, 'time_zone': None, 'geo_enabled': False, 'verified': False, 'statuses_count': 1323, 'lang': None, 'contributors_enabled': False, 'is_translator': False, 'is_translation_enabled': False, 'profile_background_color': 'C0DEED', 'profile_background_image_url': 'http://abs.twimg.com/images/themes/theme1/bg.png', 'profile_background_image_url_https': 'https://abs.twimg.com/images/themes/theme1/bg.png', 'profile_background_tile': False, 'profile_image_url': 'http://pbs.twimg.com/profile_images/1210511013923024897/ezj_M0cM_normal.jpg', 'profile_image_url_https': 'https://pbs.twimg.com/profile_images/1210511013923024897/ezj_M0cM_normal.jpg', 'profile_banner_url': 'https://pbs.twimg.com/profile_banners/3117546939/1577443290', 'profile_link_color': '1DA1F2', 'profile_sidebar_border_color': 'C0DEED', 'profile_sidebar_fill_color': 'DDEEF6', 'profile_text_color': '333333', 'profile_use_background_image': True, 'has_extended_profile': True, 'default_profile': True, 'default_profile_image': False, 'following': False, 'follow_request_sent': False, 'notifications': False, 'translator_type': 'none'}, id=3117546939, id_str='3117546939', name='Shravan Kudla', screen_name='Yaan_engineer', location='India', description='Humanity Above All☮️\\n#Indian🇮🇳\\n#Sanatana_Dharma🚩\\n#Proud_Tuluva♥️\\n#Engineer👨\\u200d🏭\\n#YNWA🔴\\n#WestBlockBlues💙\\n\\n#Tuluto8thschedule\\n#TuluOfficialInKA_KL', url=None, entities={'description': {'urls': []}}, protected=False, followers_count=28, friends_count=116, listed_count=0, created_at=datetime.datetime(2015, 3, 26, 7, 35, 7), favourites_count=3686, utc_offset=None, time_zone=None, geo_enabled=False, verified=False, statuses_count=1323, lang=None, contributors_enabled=False, is_translator=False, is_translation_enabled=False, profile_background_color='C0DEED', profile_background_image_url='http://abs.twimg.com/images/themes/theme1/bg.png', profile_background_image_url_https='https://abs.twimg.com/images/themes/theme1/bg.png', profile_background_tile=False, profile_image_url='http://pbs.twimg.com/profile_images/1210511013923024897/ezj_M0cM_normal.jpg', profile_image_url_https='https://pbs.twimg.com/profile_images/1210511013923024897/ezj_M0cM_normal.jpg', profile_banner_url='https://pbs.twimg.com/profile_banners/3117546939/1577443290', profile_link_color='1DA1F2', profile_sidebar_border_color='C0DEED', profile_sidebar_fill_color='DDEEF6', profile_text_color='333333', profile_use_background_image=True, has_extended_profile=True, default_profile=True, default_profile_image=False, following=False, follow_request_sent=False, notifications=False, translator_type='none'), geo=None, coordinates=None, place=None, contributors=None, is_quote_status=False, retweet_count=0, favorite_count=0, favorited=False, retweeted=False, lang='en') \n",
      "\n",
      ".....................................\n",
      "\n",
      "Status(_api=<tweepy.api.API object at 0x00000234B90E7198>, _json={'created_at': 'Fri Nov 20 05:59:44 +0000 2020', 'id': 1329665711472427008, 'id_str': '1329665711472427008', 'full_text': '#RCB  not winning IPL.🥺 https://t.co/W6WBIDD6yf', 'truncated': False, 'display_text_range': [0, 23], 'entities': {'hashtags': [{'text': 'RCB', 'indices': [0, 4]}], 'symbols': [], 'user_mentions': [], 'urls': [{'url': 'https://t.co/W6WBIDD6yf', 'expanded_url': 'https://twitter.com/shehrezaat_/status/1329365225666187266', 'display_url': 'twitter.com/shehrezaat_/st…', 'indices': [24, 47]}]}, 'metadata': {'iso_language_code': 'en', 'result_type': 'recent'}, 'source': '<a href=\"https://mobile.twitter.com\" rel=\"nofollow\">Twitter Web App</a>', 'in_reply_to_status_id': None, 'in_reply_to_status_id_str': None, 'in_reply_to_user_id': None, 'in_reply_to_user_id_str': None, 'in_reply_to_screen_name': None, 'user': {'id': 1320723603449524225, 'id_str': '1320723603449524225', 'name': 'Vaibh_Tiw', 'screen_name': 'Vaibhav_Tiw', 'location': 'Lucknow, India', 'description': '🇮🇳\\n❤️🖤\\n📷💙', 'url': None, 'entities': {'description': {'urls': []}}, 'protected': False, 'followers_count': 2, 'friends_count': 23, 'listed_count': 0, 'created_at': 'Mon Oct 26 13:47:10 +0000 2020', 'favourites_count': 1208, 'utc_offset': None, 'time_zone': None, 'geo_enabled': False, 'verified': False, 'statuses_count': 31, 'lang': None, 'contributors_enabled': False, 'is_translator': False, 'is_translation_enabled': False, 'profile_background_color': 'F5F8FA', 'profile_background_image_url': None, 'profile_background_image_url_https': None, 'profile_background_tile': False, 'profile_image_url': 'http://pbs.twimg.com/profile_images/1320727238279507968/djn8JTW7_normal.jpg', 'profile_image_url_https': 'https://pbs.twimg.com/profile_images/1320727238279507968/djn8JTW7_normal.jpg', 'profile_banner_url': 'https://pbs.twimg.com/profile_banners/1320723603449524225/1603720926', 'profile_link_color': '1DA1F2', 'profile_sidebar_border_color': 'C0DEED', 'profile_sidebar_fill_color': 'DDEEF6', 'profile_text_color': '333333', 'profile_use_background_image': True, 'has_extended_profile': True, 'default_profile': True, 'default_profile_image': False, 'following': False, 'follow_request_sent': False, 'notifications': False, 'translator_type': 'none'}, 'geo': None, 'coordinates': None, 'place': None, 'contributors': None, 'is_quote_status': True, 'quoted_status_id': 1329365225666187266, 'quoted_status_id_str': '1329365225666187266', 'quoted_status': {'created_at': 'Thu Nov 19 10:05:42 +0000 2020', 'id': 1329365225666187266, 'id_str': '1329365225666187266', 'full_text': 'what is not breakup but hurts like breakup?', 'truncated': False, 'display_text_range': [0, 43], 'entities': {'hashtags': [], 'symbols': [], 'user_mentions': [], 'urls': []}, 'metadata': {'iso_language_code': 'en', 'result_type': 'recent'}, 'source': '<a href=\"http://twitter.com/download/android\" rel=\"nofollow\">Twitter for Android</a>', 'in_reply_to_status_id': None, 'in_reply_to_status_id_str': None, 'in_reply_to_user_id': None, 'in_reply_to_user_id_str': None, 'in_reply_to_screen_name': None, 'user': {'id': 1187685997666013185, 'id_str': '1187685997666013185', 'name': '-', 'screen_name': 'shehrezaat_', 'location': 'regrets', 'description': 'one who waits, waits forever', 'url': 'https://t.co/ivobrYsb2r', 'entities': {'url': {'urls': [{'url': 'https://t.co/ivobrYsb2r', 'expanded_url': 'https://secret.quizplaying.com/b14a53398', 'display_url': 'secret.quizplaying.com/b14a53398', 'indices': [0, 23]}]}, 'description': {'urls': []}}, 'protected': False, 'followers_count': 2248, 'friends_count': 715, 'listed_count': 5, 'created_at': 'Fri Oct 25 11:05:11 +0000 2019', 'favourites_count': 32306, 'utc_offset': None, 'time_zone': None, 'geo_enabled': False, 'verified': False, 'statuses_count': 24796, 'lang': None, 'contributors_enabled': False, 'is_translator': False, 'is_translation_enabled': False, 'profile_background_color': '000000', 'profile_background_image_url': 'http://abs.twimg.com/images/themes/theme1/bg.png', 'profile_background_image_url_https': 'https://abs.twimg.com/images/themes/theme1/bg.png', 'profile_background_tile': False, 'profile_image_url': 'http://pbs.twimg.com/profile_images/1329901202113490945/as62c7o0_normal.jpg', 'profile_image_url_https': 'https://pbs.twimg.com/profile_images/1329901202113490945/as62c7o0_normal.jpg', 'profile_banner_url': 'https://pbs.twimg.com/profile_banners/1187685997666013185/1604622038', 'profile_link_color': '1DA1F2', 'profile_sidebar_border_color': '000000', 'profile_sidebar_fill_color': '000000', 'profile_text_color': '000000', 'profile_use_background_image': False, 'has_extended_profile': True, 'default_profile': False, 'default_profile_image': False, 'following': False, 'follow_request_sent': False, 'notifications': False, 'translator_type': 'none'}, 'geo': None, 'coordinates': None, 'place': None, 'contributors': None, 'is_quote_status': False, 'retweet_count': 1, 'favorite_count': 88, 'favorited': False, 'retweeted': False, 'lang': 'en'}, 'retweet_count': 0, 'favorite_count': 2, 'favorited': False, 'retweeted': False, 'possibly_sensitive': False, 'lang': 'en'}, created_at=datetime.datetime(2020, 11, 20, 5, 59, 44), id=1329665711472427008, id_str='1329665711472427008', full_text='#RCB  not winning IPL.🥺 https://t.co/W6WBIDD6yf', truncated=False, display_text_range=[0, 23], entities={'hashtags': [{'text': 'RCB', 'indices': [0, 4]}], 'symbols': [], 'user_mentions': [], 'urls': [{'url': 'https://t.co/W6WBIDD6yf', 'expanded_url': 'https://twitter.com/shehrezaat_/status/1329365225666187266', 'display_url': 'twitter.com/shehrezaat_/st…', 'indices': [24, 47]}]}, metadata={'iso_language_code': 'en', 'result_type': 'recent'}, source='Twitter Web App', source_url='https://mobile.twitter.com', in_reply_to_status_id=None, in_reply_to_status_id_str=None, in_reply_to_user_id=None, in_reply_to_user_id_str=None, in_reply_to_screen_name=None, author=User(_api=<tweepy.api.API object at 0x00000234B90E7198>, _json={'id': 1320723603449524225, 'id_str': '1320723603449524225', 'name': 'Vaibh_Tiw', 'screen_name': 'Vaibhav_Tiw', 'location': 'Lucknow, India', 'description': '🇮🇳\\n❤️🖤\\n📷💙', 'url': None, 'entities': {'description': {'urls': []}}, 'protected': False, 'followers_count': 2, 'friends_count': 23, 'listed_count': 0, 'created_at': 'Mon Oct 26 13:47:10 +0000 2020', 'favourites_count': 1208, 'utc_offset': None, 'time_zone': None, 'geo_enabled': False, 'verified': False, 'statuses_count': 31, 'lang': None, 'contributors_enabled': False, 'is_translator': False, 'is_translation_enabled': False, 'profile_background_color': 'F5F8FA', 'profile_background_image_url': None, 'profile_background_image_url_https': None, 'profile_background_tile': False, 'profile_image_url': 'http://pbs.twimg.com/profile_images/1320727238279507968/djn8JTW7_normal.jpg', 'profile_image_url_https': 'https://pbs.twimg.com/profile_images/1320727238279507968/djn8JTW7_normal.jpg', 'profile_banner_url': 'https://pbs.twimg.com/profile_banners/1320723603449524225/1603720926', 'profile_link_color': '1DA1F2', 'profile_sidebar_border_color': 'C0DEED', 'profile_sidebar_fill_color': 'DDEEF6', 'profile_text_color': '333333', 'profile_use_background_image': True, 'has_extended_profile': True, 'default_profile': True, 'default_profile_image': False, 'following': False, 'follow_request_sent': False, 'notifications': False, 'translator_type': 'none'}, id=1320723603449524225, id_str='1320723603449524225', name='Vaibh_Tiw', screen_name='Vaibhav_Tiw', location='Lucknow, India', description='🇮🇳\\n❤️🖤\\n📷💙', url=None, entities={'description': {'urls': []}}, protected=False, followers_count=2, friends_count=23, listed_count=0, created_at=datetime.datetime(2020, 10, 26, 13, 47, 10), favourites_count=1208, utc_offset=None, time_zone=None, geo_enabled=False, verified=False, statuses_count=31, lang=None, contributors_enabled=False, is_translator=False, is_translation_enabled=False, profile_background_color='F5F8FA', profile_background_image_url=None, profile_background_image_url_https=None, profile_background_tile=False, profile_image_url='http://pbs.twimg.com/profile_images/1320727238279507968/djn8JTW7_normal.jpg', profile_image_url_https='https://pbs.twimg.com/profile_images/1320727238279507968/djn8JTW7_normal.jpg', profile_banner_url='https://pbs.twimg.com/profile_banners/1320723603449524225/1603720926', profile_link_color='1DA1F2', profile_sidebar_border_color='C0DEED', profile_sidebar_fill_color='DDEEF6', profile_text_color='333333', profile_use_background_image=True, has_extended_profile=True, default_profile=True, default_profile_image=False, following=False, follow_request_sent=False, notifications=False, translator_type='none'), user=User(_api=<tweepy.api.API object at 0x00000234B90E7198>, _json={'id': 1320723603449524225, 'id_str': '1320723603449524225', 'name': 'Vaibh_Tiw', 'screen_name': 'Vaibhav_Tiw', 'location': 'Lucknow, India', 'description': '🇮🇳\\n❤️🖤\\n📷💙', 'url': None, 'entities': {'description': {'urls': []}}, 'protected': False, 'followers_count': 2, 'friends_count': 23, 'listed_count': 0, 'created_at': 'Mon Oct 26 13:47:10 +0000 2020', 'favourites_count': 1208, 'utc_offset': None, 'time_zone': None, 'geo_enabled': False, 'verified': False, 'statuses_count': 31, 'lang': None, 'contributors_enabled': False, 'is_translator': False, 'is_translation_enabled': False, 'profile_background_color': 'F5F8FA', 'profile_background_image_url': None, 'profile_background_image_url_https': None, 'profile_background_tile': False, 'profile_image_url': 'http://pbs.twimg.com/profile_images/1320727238279507968/djn8JTW7_normal.jpg', 'profile_image_url_https': 'https://pbs.twimg.com/profile_images/1320727238279507968/djn8JTW7_normal.jpg', 'profile_banner_url': 'https://pbs.twimg.com/profile_banners/1320723603449524225/1603720926', 'profile_link_color': '1DA1F2', 'profile_sidebar_border_color': 'C0DEED', 'profile_sidebar_fill_color': 'DDEEF6', 'profile_text_color': '333333', 'profile_use_background_image': True, 'has_extended_profile': True, 'default_profile': True, 'default_profile_image': False, 'following': False, 'follow_request_sent': False, 'notifications': False, 'translator_type': 'none'}, id=1320723603449524225, id_str='1320723603449524225', name='Vaibh_Tiw', screen_name='Vaibhav_Tiw', location='Lucknow, India', description='🇮🇳\\n❤️🖤\\n📷💙', url=None, entities={'description': {'urls': []}}, protected=False, followers_count=2, friends_count=23, listed_count=0, created_at=datetime.datetime(2020, 10, 26, 13, 47, 10), favourites_count=1208, utc_offset=None, time_zone=None, geo_enabled=False, verified=False, statuses_count=31, lang=None, contributors_enabled=False, is_translator=False, is_translation_enabled=False, profile_background_color='F5F8FA', profile_background_image_url=None, profile_background_image_url_https=None, profile_background_tile=False, profile_image_url='http://pbs.twimg.com/profile_images/1320727238279507968/djn8JTW7_normal.jpg', profile_image_url_https='https://pbs.twimg.com/profile_images/1320727238279507968/djn8JTW7_normal.jpg', profile_banner_url='https://pbs.twimg.com/profile_banners/1320723603449524225/1603720926', profile_link_color='1DA1F2', profile_sidebar_border_color='C0DEED', profile_sidebar_fill_color='DDEEF6', profile_text_color='333333', profile_use_background_image=True, has_extended_profile=True, default_profile=True, default_profile_image=False, following=False, follow_request_sent=False, notifications=False, translator_type='none'), geo=None, coordinates=None, place=None, contributors=None, is_quote_status=True, quoted_status_id=1329365225666187266, quoted_status_id_str='1329365225666187266', quoted_status=Status(_api=<tweepy.api.API object at 0x00000234B90E7198>, _json={'created_at': 'Thu Nov 19 10:05:42 +0000 2020', 'id': 1329365225666187266, 'id_str': '1329365225666187266', 'full_text': 'what is not breakup but hurts like breakup?', 'truncated': False, 'display_text_range': [0, 43], 'entities': {'hashtags': [], 'symbols': [], 'user_mentions': [], 'urls': []}, 'metadata': {'iso_language_code': 'en', 'result_type': 'recent'}, 'source': '<a href=\"http://twitter.com/download/android\" rel=\"nofollow\">Twitter for Android</a>', 'in_reply_to_status_id': None, 'in_reply_to_status_id_str': None, 'in_reply_to_user_id': None, 'in_reply_to_user_id_str': None, 'in_reply_to_screen_name': None, 'user': {'id': 1187685997666013185, 'id_str': '1187685997666013185', 'name': '-', 'screen_name': 'shehrezaat_', 'location': 'regrets', 'description': 'one who waits, waits forever', 'url': 'https://t.co/ivobrYsb2r', 'entities': {'url': {'urls': [{'url': 'https://t.co/ivobrYsb2r', 'expanded_url': 'https://secret.quizplaying.com/b14a53398', 'display_url': 'secret.quizplaying.com/b14a53398', 'indices': [0, 23]}]}, 'description': {'urls': []}}, 'protected': False, 'followers_count': 2248, 'friends_count': 715, 'listed_count': 5, 'created_at': 'Fri Oct 25 11:05:11 +0000 2019', 'favourites_count': 32306, 'utc_offset': None, 'time_zone': None, 'geo_enabled': False, 'verified': False, 'statuses_count': 24796, 'lang': None, 'contributors_enabled': False, 'is_translator': False, 'is_translation_enabled': False, 'profile_background_color': '000000', 'profile_background_image_url': 'http://abs.twimg.com/images/themes/theme1/bg.png', 'profile_background_image_url_https': 'https://abs.twimg.com/images/themes/theme1/bg.png', 'profile_background_tile': False, 'profile_image_url': 'http://pbs.twimg.com/profile_images/1329901202113490945/as62c7o0_normal.jpg', 'profile_image_url_https': 'https://pbs.twimg.com/profile_images/1329901202113490945/as62c7o0_normal.jpg', 'profile_banner_url': 'https://pbs.twimg.com/profile_banners/1187685997666013185/1604622038', 'profile_link_color': '1DA1F2', 'profile_sidebar_border_color': '000000', 'profile_sidebar_fill_color': '000000', 'profile_text_color': '000000', 'profile_use_background_image': False, 'has_extended_profile': True, 'default_profile': False, 'default_profile_image': False, 'following': False, 'follow_request_sent': False, 'notifications': False, 'translator_type': 'none'}, 'geo': None, 'coordinates': None, 'place': None, 'contributors': None, 'is_quote_status': False, 'retweet_count': 1, 'favorite_count': 88, 'favorited': False, 'retweeted': False, 'lang': 'en'}, created_at=datetime.datetime(2020, 11, 19, 10, 5, 42), id=1329365225666187266, id_str='1329365225666187266', full_text='what is not breakup but hurts like breakup?', truncated=False, display_text_range=[0, 43], entities={'hashtags': [], 'symbols': [], 'user_mentions': [], 'urls': []}, metadata={'iso_language_code': 'en', 'result_type': 'recent'}, source='Twitter for Android', source_url='http://twitter.com/download/android', in_reply_to_status_id=None, in_reply_to_status_id_str=None, in_reply_to_user_id=None, in_reply_to_user_id_str=None, in_reply_to_screen_name=None, author=User(_api=<tweepy.api.API object at 0x00000234B90E7198>, _json={'id': 1187685997666013185, 'id_str': '1187685997666013185', 'name': '-', 'screen_name': 'shehrezaat_', 'location': 'regrets', 'description': 'one who waits, waits forever', 'url': 'https://t.co/ivobrYsb2r', 'entities': {'url': {'urls': [{'url': 'https://t.co/ivobrYsb2r', 'expanded_url': 'https://secret.quizplaying.com/b14a53398', 'display_url': 'secret.quizplaying.com/b14a53398', 'indices': [0, 23]}]}, 'description': {'urls': []}}, 'protected': False, 'followers_count': 2248, 'friends_count': 715, 'listed_count': 5, 'created_at': 'Fri Oct 25 11:05:11 +0000 2019', 'favourites_count': 32306, 'utc_offset': None, 'time_zone': None, 'geo_enabled': False, 'verified': False, 'statuses_count': 24796, 'lang': None, 'contributors_enabled': False, 'is_translator': False, 'is_translation_enabled': False, 'profile_background_color': '000000', 'profile_background_image_url': 'http://abs.twimg.com/images/themes/theme1/bg.png', 'profile_background_image_url_https': 'https://abs.twimg.com/images/themes/theme1/bg.png', 'profile_background_tile': False, 'profile_image_url': 'http://pbs.twimg.com/profile_images/1329901202113490945/as62c7o0_normal.jpg', 'profile_image_url_https': 'https://pbs.twimg.com/profile_images/1329901202113490945/as62c7o0_normal.jpg', 'profile_banner_url': 'https://pbs.twimg.com/profile_banners/1187685997666013185/1604622038', 'profile_link_color': '1DA1F2', 'profile_sidebar_border_color': '000000', 'profile_sidebar_fill_color': '000000', 'profile_text_color': '000000', 'profile_use_background_image': False, 'has_extended_profile': True, 'default_profile': False, 'default_profile_image': False, 'following': False, 'follow_request_sent': False, 'notifications': False, 'translator_type': 'none'}, id=1187685997666013185, id_str='1187685997666013185', name='-', screen_name='shehrezaat_', location='regrets', description='one who waits, waits forever', url='https://t.co/ivobrYsb2r', entities={'url': {'urls': [{'url': 'https://t.co/ivobrYsb2r', 'expanded_url': 'https://secret.quizplaying.com/b14a53398', 'display_url': 'secret.quizplaying.com/b14a53398', 'indices': [0, 23]}]}, 'description': {'urls': []}}, protected=False, followers_count=2248, friends_count=715, listed_count=5, created_at=datetime.datetime(2019, 10, 25, 11, 5, 11), favourites_count=32306, utc_offset=None, time_zone=None, geo_enabled=False, verified=False, statuses_count=24796, lang=None, contributors_enabled=False, is_translator=False, is_translation_enabled=False, profile_background_color='000000', profile_background_image_url='http://abs.twimg.com/images/themes/theme1/bg.png', profile_background_image_url_https='https://abs.twimg.com/images/themes/theme1/bg.png', profile_background_tile=False, profile_image_url='http://pbs.twimg.com/profile_images/1329901202113490945/as62c7o0_normal.jpg', profile_image_url_https='https://pbs.twimg.com/profile_images/1329901202113490945/as62c7o0_normal.jpg', profile_banner_url='https://pbs.twimg.com/profile_banners/1187685997666013185/1604622038', profile_link_color='1DA1F2', profile_sidebar_border_color='000000', profile_sidebar_fill_color='000000', profile_text_color='000000', profile_use_background_image=False, has_extended_profile=True, default_profile=False, default_profile_image=False, following=False, follow_request_sent=False, notifications=False, translator_type='none'), user=User(_api=<tweepy.api.API object at 0x00000234B90E7198>, _json={'id': 1187685997666013185, 'id_str': '1187685997666013185', 'name': '-', 'screen_name': 'shehrezaat_', 'location': 'regrets', 'description': 'one who waits, waits forever', 'url': 'https://t.co/ivobrYsb2r', 'entities': {'url': {'urls': [{'url': 'https://t.co/ivobrYsb2r', 'expanded_url': 'https://secret.quizplaying.com/b14a53398', 'display_url': 'secret.quizplaying.com/b14a53398', 'indices': [0, 23]}]}, 'description': {'urls': []}}, 'protected': False, 'followers_count': 2248, 'friends_count': 715, 'listed_count': 5, 'created_at': 'Fri Oct 25 11:05:11 +0000 2019', 'favourites_count': 32306, 'utc_offset': None, 'time_zone': None, 'geo_enabled': False, 'verified': False, 'statuses_count': 24796, 'lang': None, 'contributors_enabled': False, 'is_translator': False, 'is_translation_enabled': False, 'profile_background_color': '000000', 'profile_background_image_url': 'http://abs.twimg.com/images/themes/theme1/bg.png', 'profile_background_image_url_https': 'https://abs.twimg.com/images/themes/theme1/bg.png', 'profile_background_tile': False, 'profile_image_url': 'http://pbs.twimg.com/profile_images/1329901202113490945/as62c7o0_normal.jpg', 'profile_image_url_https': 'https://pbs.twimg.com/profile_images/1329901202113490945/as62c7o0_normal.jpg', 'profile_banner_url': 'https://pbs.twimg.com/profile_banners/1187685997666013185/1604622038', 'profile_link_color': '1DA1F2', 'profile_sidebar_border_color': '000000', 'profile_sidebar_fill_color': '000000', 'profile_text_color': '000000', 'profile_use_background_image': False, 'has_extended_profile': True, 'default_profile': False, 'default_profile_image': False, 'following': False, 'follow_request_sent': False, 'notifications': False, 'translator_type': 'none'}, id=1187685997666013185, id_str='1187685997666013185', name='-', screen_name='shehrezaat_', location='regrets', description='one who waits, waits forever', url='https://t.co/ivobrYsb2r', entities={'url': {'urls': [{'url': 'https://t.co/ivobrYsb2r', 'expanded_url': 'https://secret.quizplaying.com/b14a53398', 'display_url': 'secret.quizplaying.com/b14a53398', 'indices': [0, 23]}]}, 'description': {'urls': []}}, protected=False, followers_count=2248, friends_count=715, listed_count=5, created_at=datetime.datetime(2019, 10, 25, 11, 5, 11), favourites_count=32306, utc_offset=None, time_zone=None, geo_enabled=False, verified=False, statuses_count=24796, lang=None, contributors_enabled=False, is_translator=False, is_translation_enabled=False, profile_background_color='000000', profile_background_image_url='http://abs.twimg.com/images/themes/theme1/bg.png', profile_background_image_url_https='https://abs.twimg.com/images/themes/theme1/bg.png', profile_background_tile=False, profile_image_url='http://pbs.twimg.com/profile_images/1329901202113490945/as62c7o0_normal.jpg', profile_image_url_https='https://pbs.twimg.com/profile_images/1329901202113490945/as62c7o0_normal.jpg', profile_banner_url='https://pbs.twimg.com/profile_banners/1187685997666013185/1604622038', profile_link_color='1DA1F2', profile_sidebar_border_color='000000', profile_sidebar_fill_color='000000', profile_text_color='000000', profile_use_background_image=False, has_extended_profile=True, default_profile=False, default_profile_image=False, following=False, follow_request_sent=False, notifications=False, translator_type='none'), geo=None, coordinates=None, place=None, contributors=None, is_quote_status=False, retweet_count=1, favorite_count=88, favorited=False, retweeted=False, lang='en'), retweet_count=0, favorite_count=2, favorited=False, retweeted=False, possibly_sensitive=False, lang='en') \n",
      "\n",
      ".....................................\n",
      "\n",
      "Status(_api=<tweepy.api.API object at 0x00000234B90E7198>, _json={'created_at': 'Thu Nov 19 20:35:46 +0000 2020', 'id': 1329523783955202048, 'id_str': '1329523783955202048', 'full_text': 'Yes just as RCB withdraws from IPL in every qualifiers despite winning https://t.co/Df3fXhrtnx', 'truncated': False, 'display_text_range': [0, 70], 'entities': {'hashtags': [], 'symbols': [], 'user_mentions': [], 'urls': [{'url': 'https://t.co/Df3fXhrtnx', 'expanded_url': 'https://twitter.com/realDonaldTrump/status/1329521771041726465', 'display_url': 'twitter.com/realDonaldTrum…', 'indices': [71, 94]}]}, 'metadata': {'iso_language_code': 'en', 'result_type': 'recent'}, 'source': '<a href=\"http://twitter.com/download/android\" rel=\"nofollow\">Twitter for Android</a>', 'in_reply_to_status_id': None, 'in_reply_to_status_id_str': None, 'in_reply_to_user_id': None, 'in_reply_to_user_id_str': None, 'in_reply_to_screen_name': None, 'user': {'id': 2390499193, 'id_str': '2390499193', 'name': 'Ninad Rajgor', 'screen_name': 'dr_ninaad', 'location': 'Chennai, India', 'description': 'Diabetology,\\nBhuj⇌Chennai', 'url': 'https://t.co/VlTGFTM242', 'entities': {'url': {'urls': [{'url': 'https://t.co/VlTGFTM242', 'expanded_url': 'http://www.websitebananekepaisenahihai.com', 'display_url': 'websitebananekepaisenahihai.com', 'indices': [0, 23]}]}, 'description': {'urls': []}}, 'protected': False, 'followers_count': 248, 'friends_count': 314, 'listed_count': 0, 'created_at': 'Sat Mar 15 05:56:49 +0000 2014', 'favourites_count': 21134, 'utc_offset': None, 'time_zone': None, 'geo_enabled': False, 'verified': False, 'statuses_count': 3230, 'lang': None, 'contributors_enabled': False, 'is_translator': False, 'is_translation_enabled': False, 'profile_background_color': 'C0DEED', 'profile_background_image_url': 'http://abs.twimg.com/images/themes/theme1/bg.png', 'profile_background_image_url_https': 'https://abs.twimg.com/images/themes/theme1/bg.png', 'profile_background_tile': False, 'profile_image_url': 'http://pbs.twimg.com/profile_images/1107305922244730881/42NBiQ4e_normal.jpg', 'profile_image_url_https': 'https://pbs.twimg.com/profile_images/1107305922244730881/42NBiQ4e_normal.jpg', 'profile_banner_url': 'https://pbs.twimg.com/profile_banners/2390499193/1581133301', 'profile_link_color': '1DA1F2', 'profile_sidebar_border_color': 'C0DEED', 'profile_sidebar_fill_color': 'DDEEF6', 'profile_text_color': '333333', 'profile_use_background_image': True, 'has_extended_profile': True, 'default_profile': True, 'default_profile_image': False, 'following': False, 'follow_request_sent': False, 'notifications': False, 'translator_type': 'none'}, 'geo': None, 'coordinates': None, 'place': None, 'contributors': None, 'is_quote_status': True, 'quoted_status_id': 1329521771041726465, 'quoted_status_id_str': '1329521771041726465', 'quoted_status': {'created_at': 'Thu Nov 19 20:27:46 +0000 2020', 'id': 1329521771041726465, 'id_str': '1329521771041726465', 'full_text': 'We withdrew because we won! https://t.co/aMoNQXEj4z', 'truncated': False, 'display_text_range': [0, 27], 'entities': {'hashtags': [], 'symbols': [], 'user_mentions': [], 'urls': [{'url': 'https://t.co/aMoNQXEj4z', 'expanded_url': 'https://twitter.com/business/status/1329455449415036934', 'display_url': 'twitter.com/business/statu…', 'indices': [28, 51]}]}, 'metadata': {'iso_language_code': 'en', 'result_type': 'recent'}, 'source': '<a href=\"http://twitter.com/download/iphone\" rel=\"nofollow\">Twitter for iPhone</a>', 'in_reply_to_status_id': None, 'in_reply_to_status_id_str': None, 'in_reply_to_user_id': None, 'in_reply_to_user_id_str': None, 'in_reply_to_screen_name': None, 'user': {'id': 25073877, 'id_str': '25073877', 'name': 'Donald J. Trump', 'screen_name': 'realDonaldTrump', 'location': 'Washington, DC', 'description': '45th President of the United States of America🇺🇸', 'url': 'https://t.co/8f9VFxztEJ', 'entities': {'url': {'urls': [{'url': 'https://t.co/8f9VFxztEJ', 'expanded_url': 'http://Vote.DonaldJTrump.com', 'display_url': 'Vote.DonaldJTrump.com', 'indices': [0, 23]}]}, 'description': {'urls': []}}, 'protected': False, 'followers_count': 88934801, 'friends_count': 51, 'listed_count': 125213, 'created_at': 'Wed Mar 18 13:46:38 +0000 2009', 'favourites_count': 6, 'utc_offset': None, 'time_zone': None, 'geo_enabled': True, 'verified': True, 'statuses_count': 58583, 'lang': None, 'contributors_enabled': False, 'is_translator': False, 'is_translation_enabled': True, 'profile_background_color': '6D5C18', 'profile_background_image_url': 'http://abs.twimg.com/images/themes/theme1/bg.png', 'profile_background_image_url_https': 'https://abs.twimg.com/images/themes/theme1/bg.png', 'profile_background_tile': True, 'profile_image_url': 'http://pbs.twimg.com/profile_images/874276197357596672/kUuht00m_normal.jpg', 'profile_image_url_https': 'https://pbs.twimg.com/profile_images/874276197357596672/kUuht00m_normal.jpg', 'profile_banner_url': 'https://pbs.twimg.com/profile_banners/25073877/1604214583', 'profile_link_color': '1B95E0', 'profile_sidebar_border_color': 'BDDCAD', 'profile_sidebar_fill_color': 'C5CEC0', 'profile_text_color': '333333', 'profile_use_background_image': True, 'has_extended_profile': False, 'default_profile': False, 'default_profile_image': False, 'following': False, 'follow_request_sent': False, 'notifications': False, 'translator_type': 'regular'}, 'geo': None, 'coordinates': None, 'place': None, 'contributors': None, 'is_quote_status': True, 'quoted_status_id': 1329455449415036934, 'quoted_status_id_str': '1329455449415036934', 'retweet_count': 36837, 'favorite_count': 191919, 'favorited': False, 'retweeted': False, 'possibly_sensitive': False, 'lang': 'en'}, 'retweet_count': 0, 'favorite_count': 0, 'favorited': False, 'retweeted': False, 'possibly_sensitive': False, 'lang': 'en'}, created_at=datetime.datetime(2020, 11, 19, 20, 35, 46), id=1329523783955202048, id_str='1329523783955202048', full_text='Yes just as RCB withdraws from IPL in every qualifiers despite winning https://t.co/Df3fXhrtnx', truncated=False, display_text_range=[0, 70], entities={'hashtags': [], 'symbols': [], 'user_mentions': [], 'urls': [{'url': 'https://t.co/Df3fXhrtnx', 'expanded_url': 'https://twitter.com/realDonaldTrump/status/1329521771041726465', 'display_url': 'twitter.com/realDonaldTrum…', 'indices': [71, 94]}]}, metadata={'iso_language_code': 'en', 'result_type': 'recent'}, source='Twitter for Android', source_url='http://twitter.com/download/android', in_reply_to_status_id=None, in_reply_to_status_id_str=None, in_reply_to_user_id=None, in_reply_to_user_id_str=None, in_reply_to_screen_name=None, author=User(_api=<tweepy.api.API object at 0x00000234B90E7198>, _json={'id': 2390499193, 'id_str': '2390499193', 'name': 'Ninad Rajgor', 'screen_name': 'dr_ninaad', 'location': 'Chennai, India', 'description': 'Diabetology,\\nBhuj⇌Chennai', 'url': 'https://t.co/VlTGFTM242', 'entities': {'url': {'urls': [{'url': 'https://t.co/VlTGFTM242', 'expanded_url': 'http://www.websitebananekepaisenahihai.com', 'display_url': 'websitebananekepaisenahihai.com', 'indices': [0, 23]}]}, 'description': {'urls': []}}, 'protected': False, 'followers_count': 248, 'friends_count': 314, 'listed_count': 0, 'created_at': 'Sat Mar 15 05:56:49 +0000 2014', 'favourites_count': 21134, 'utc_offset': None, 'time_zone': None, 'geo_enabled': False, 'verified': False, 'statuses_count': 3230, 'lang': None, 'contributors_enabled': False, 'is_translator': False, 'is_translation_enabled': False, 'profile_background_color': 'C0DEED', 'profile_background_image_url': 'http://abs.twimg.com/images/themes/theme1/bg.png', 'profile_background_image_url_https': 'https://abs.twimg.com/images/themes/theme1/bg.png', 'profile_background_tile': False, 'profile_image_url': 'http://pbs.twimg.com/profile_images/1107305922244730881/42NBiQ4e_normal.jpg', 'profile_image_url_https': 'https://pbs.twimg.com/profile_images/1107305922244730881/42NBiQ4e_normal.jpg', 'profile_banner_url': 'https://pbs.twimg.com/profile_banners/2390499193/1581133301', 'profile_link_color': '1DA1F2', 'profile_sidebar_border_color': 'C0DEED', 'profile_sidebar_fill_color': 'DDEEF6', 'profile_text_color': '333333', 'profile_use_background_image': True, 'has_extended_profile': True, 'default_profile': True, 'default_profile_image': False, 'following': False, 'follow_request_sent': False, 'notifications': False, 'translator_type': 'none'}, id=2390499193, id_str='2390499193', name='Ninad Rajgor', screen_name='dr_ninaad', location='Chennai, India', description='Diabetology,\\nBhuj⇌Chennai', url='https://t.co/VlTGFTM242', entities={'url': {'urls': [{'url': 'https://t.co/VlTGFTM242', 'expanded_url': 'http://www.websitebananekepaisenahihai.com', 'display_url': 'websitebananekepaisenahihai.com', 'indices': [0, 23]}]}, 'description': {'urls': []}}, protected=False, followers_count=248, friends_count=314, listed_count=0, created_at=datetime.datetime(2014, 3, 15, 5, 56, 49), favourites_count=21134, utc_offset=None, time_zone=None, geo_enabled=False, verified=False, statuses_count=3230, lang=None, contributors_enabled=False, is_translator=False, is_translation_enabled=False, profile_background_color='C0DEED', profile_background_image_url='http://abs.twimg.com/images/themes/theme1/bg.png', profile_background_image_url_https='https://abs.twimg.com/images/themes/theme1/bg.png', profile_background_tile=False, profile_image_url='http://pbs.twimg.com/profile_images/1107305922244730881/42NBiQ4e_normal.jpg', profile_image_url_https='https://pbs.twimg.com/profile_images/1107305922244730881/42NBiQ4e_normal.jpg', profile_banner_url='https://pbs.twimg.com/profile_banners/2390499193/1581133301', profile_link_color='1DA1F2', profile_sidebar_border_color='C0DEED', profile_sidebar_fill_color='DDEEF6', profile_text_color='333333', profile_use_background_image=True, has_extended_profile=True, default_profile=True, default_profile_image=False, following=False, follow_request_sent=False, notifications=False, translator_type='none'), user=User(_api=<tweepy.api.API object at 0x00000234B90E7198>, _json={'id': 2390499193, 'id_str': '2390499193', 'name': 'Ninad Rajgor', 'screen_name': 'dr_ninaad', 'location': 'Chennai, India', 'description': 'Diabetology,\\nBhuj⇌Chennai', 'url': 'https://t.co/VlTGFTM242', 'entities': {'url': {'urls': [{'url': 'https://t.co/VlTGFTM242', 'expanded_url': 'http://www.websitebananekepaisenahihai.com', 'display_url': 'websitebananekepaisenahihai.com', 'indices': [0, 23]}]}, 'description': {'urls': []}}, 'protected': False, 'followers_count': 248, 'friends_count': 314, 'listed_count': 0, 'created_at': 'Sat Mar 15 05:56:49 +0000 2014', 'favourites_count': 21134, 'utc_offset': None, 'time_zone': None, 'geo_enabled': False, 'verified': False, 'statuses_count': 3230, 'lang': None, 'contributors_enabled': False, 'is_translator': False, 'is_translation_enabled': False, 'profile_background_color': 'C0DEED', 'profile_background_image_url': 'http://abs.twimg.com/images/themes/theme1/bg.png', 'profile_background_image_url_https': 'https://abs.twimg.com/images/themes/theme1/bg.png', 'profile_background_tile': False, 'profile_image_url': 'http://pbs.twimg.com/profile_images/1107305922244730881/42NBiQ4e_normal.jpg', 'profile_image_url_https': 'https://pbs.twimg.com/profile_images/1107305922244730881/42NBiQ4e_normal.jpg', 'profile_banner_url': 'https://pbs.twimg.com/profile_banners/2390499193/1581133301', 'profile_link_color': '1DA1F2', 'profile_sidebar_border_color': 'C0DEED', 'profile_sidebar_fill_color': 'DDEEF6', 'profile_text_color': '333333', 'profile_use_background_image': True, 'has_extended_profile': True, 'default_profile': True, 'default_profile_image': False, 'following': False, 'follow_request_sent': False, 'notifications': False, 'translator_type': 'none'}, id=2390499193, id_str='2390499193', name='Ninad Rajgor', screen_name='dr_ninaad', location='Chennai, India', description='Diabetology,\\nBhuj⇌Chennai', url='https://t.co/VlTGFTM242', entities={'url': {'urls': [{'url': 'https://t.co/VlTGFTM242', 'expanded_url': 'http://www.websitebananekepaisenahihai.com', 'display_url': 'websitebananekepaisenahihai.com', 'indices': [0, 23]}]}, 'description': {'urls': []}}, protected=False, followers_count=248, friends_count=314, listed_count=0, created_at=datetime.datetime(2014, 3, 15, 5, 56, 49), favourites_count=21134, utc_offset=None, time_zone=None, geo_enabled=False, verified=False, statuses_count=3230, lang=None, contributors_enabled=False, is_translator=False, is_translation_enabled=False, profile_background_color='C0DEED', profile_background_image_url='http://abs.twimg.com/images/themes/theme1/bg.png', profile_background_image_url_https='https://abs.twimg.com/images/themes/theme1/bg.png', profile_background_tile=False, profile_image_url='http://pbs.twimg.com/profile_images/1107305922244730881/42NBiQ4e_normal.jpg', profile_image_url_https='https://pbs.twimg.com/profile_images/1107305922244730881/42NBiQ4e_normal.jpg', profile_banner_url='https://pbs.twimg.com/profile_banners/2390499193/1581133301', profile_link_color='1DA1F2', profile_sidebar_border_color='C0DEED', profile_sidebar_fill_color='DDEEF6', profile_text_color='333333', profile_use_background_image=True, has_extended_profile=True, default_profile=True, default_profile_image=False, following=False, follow_request_sent=False, notifications=False, translator_type='none'), geo=None, coordinates=None, place=None, contributors=None, is_quote_status=True, quoted_status_id=1329521771041726465, quoted_status_id_str='1329521771041726465', quoted_status=Status(_api=<tweepy.api.API object at 0x00000234B90E7198>, _json={'created_at': 'Thu Nov 19 20:27:46 +0000 2020', 'id': 1329521771041726465, 'id_str': '1329521771041726465', 'full_text': 'We withdrew because we won! https://t.co/aMoNQXEj4z', 'truncated': False, 'display_text_range': [0, 27], 'entities': {'hashtags': [], 'symbols': [], 'user_mentions': [], 'urls': [{'url': 'https://t.co/aMoNQXEj4z', 'expanded_url': 'https://twitter.com/business/status/1329455449415036934', 'display_url': 'twitter.com/business/statu…', 'indices': [28, 51]}]}, 'metadata': {'iso_language_code': 'en', 'result_type': 'recent'}, 'source': '<a href=\"http://twitter.com/download/iphone\" rel=\"nofollow\">Twitter for iPhone</a>', 'in_reply_to_status_id': None, 'in_reply_to_status_id_str': None, 'in_reply_to_user_id': None, 'in_reply_to_user_id_str': None, 'in_reply_to_screen_name': None, 'user': {'id': 25073877, 'id_str': '25073877', 'name': 'Donald J. Trump', 'screen_name': 'realDonaldTrump', 'location': 'Washington, DC', 'description': '45th President of the United States of America🇺🇸', 'url': 'https://t.co/8f9VFxztEJ', 'entities': {'url': {'urls': [{'url': 'https://t.co/8f9VFxztEJ', 'expanded_url': 'http://Vote.DonaldJTrump.com', 'display_url': 'Vote.DonaldJTrump.com', 'indices': [0, 23]}]}, 'description': {'urls': []}}, 'protected': False, 'followers_count': 88934801, 'friends_count': 51, 'listed_count': 125213, 'created_at': 'Wed Mar 18 13:46:38 +0000 2009', 'favourites_count': 6, 'utc_offset': None, 'time_zone': None, 'geo_enabled': True, 'verified': True, 'statuses_count': 58583, 'lang': None, 'contributors_enabled': False, 'is_translator': False, 'is_translation_enabled': True, 'profile_background_color': '6D5C18', 'profile_background_image_url': 'http://abs.twimg.com/images/themes/theme1/bg.png', 'profile_background_image_url_https': 'https://abs.twimg.com/images/themes/theme1/bg.png', 'profile_background_tile': True, 'profile_image_url': 'http://pbs.twimg.com/profile_images/874276197357596672/kUuht00m_normal.jpg', 'profile_image_url_https': 'https://pbs.twimg.com/profile_images/874276197357596672/kUuht00m_normal.jpg', 'profile_banner_url': 'https://pbs.twimg.com/profile_banners/25073877/1604214583', 'profile_link_color': '1B95E0', 'profile_sidebar_border_color': 'BDDCAD', 'profile_sidebar_fill_color': 'C5CEC0', 'profile_text_color': '333333', 'profile_use_background_image': True, 'has_extended_profile': False, 'default_profile': False, 'default_profile_image': False, 'following': False, 'follow_request_sent': False, 'notifications': False, 'translator_type': 'regular'}, 'geo': None, 'coordinates': None, 'place': None, 'contributors': None, 'is_quote_status': True, 'quoted_status_id': 1329455449415036934, 'quoted_status_id_str': '1329455449415036934', 'retweet_count': 36837, 'favorite_count': 191919, 'favorited': False, 'retweeted': False, 'possibly_sensitive': False, 'lang': 'en'}, created_at=datetime.datetime(2020, 11, 19, 20, 27, 46), id=1329521771041726465, id_str='1329521771041726465', full_text='We withdrew because we won! https://t.co/aMoNQXEj4z', truncated=False, display_text_range=[0, 27], entities={'hashtags': [], 'symbols': [], 'user_mentions': [], 'urls': [{'url': 'https://t.co/aMoNQXEj4z', 'expanded_url': 'https://twitter.com/business/status/1329455449415036934', 'display_url': 'twitter.com/business/statu…', 'indices': [28, 51]}]}, metadata={'iso_language_code': 'en', 'result_type': 'recent'}, source='Twitter for iPhone', source_url='http://twitter.com/download/iphone', in_reply_to_status_id=None, in_reply_to_status_id_str=None, in_reply_to_user_id=None, in_reply_to_user_id_str=None, in_reply_to_screen_name=None, author=User(_api=<tweepy.api.API object at 0x00000234B90E7198>, _json={'id': 25073877, 'id_str': '25073877', 'name': 'Donald J. Trump', 'screen_name': 'realDonaldTrump', 'location': 'Washington, DC', 'description': '45th President of the United States of America🇺🇸', 'url': 'https://t.co/8f9VFxztEJ', 'entities': {'url': {'urls': [{'url': 'https://t.co/8f9VFxztEJ', 'expanded_url': 'http://Vote.DonaldJTrump.com', 'display_url': 'Vote.DonaldJTrump.com', 'indices': [0, 23]}]}, 'description': {'urls': []}}, 'protected': False, 'followers_count': 88934801, 'friends_count': 51, 'listed_count': 125213, 'created_at': 'Wed Mar 18 13:46:38 +0000 2009', 'favourites_count': 6, 'utc_offset': None, 'time_zone': None, 'geo_enabled': True, 'verified': True, 'statuses_count': 58583, 'lang': None, 'contributors_enabled': False, 'is_translator': False, 'is_translation_enabled': True, 'profile_background_color': '6D5C18', 'profile_background_image_url': 'http://abs.twimg.com/images/themes/theme1/bg.png', 'profile_background_image_url_https': 'https://abs.twimg.com/images/themes/theme1/bg.png', 'profile_background_tile': True, 'profile_image_url': 'http://pbs.twimg.com/profile_images/874276197357596672/kUuht00m_normal.jpg', 'profile_image_url_https': 'https://pbs.twimg.com/profile_images/874276197357596672/kUuht00m_normal.jpg', 'profile_banner_url': 'https://pbs.twimg.com/profile_banners/25073877/1604214583', 'profile_link_color': '1B95E0', 'profile_sidebar_border_color': 'BDDCAD', 'profile_sidebar_fill_color': 'C5CEC0', 'profile_text_color': '333333', 'profile_use_background_image': True, 'has_extended_profile': False, 'default_profile': False, 'default_profile_image': False, 'following': False, 'follow_request_sent': False, 'notifications': False, 'translator_type': 'regular'}, id=25073877, id_str='25073877', name='Donald J. Trump', screen_name='realDonaldTrump', location='Washington, DC', description='45th President of the United States of America🇺🇸', url='https://t.co/8f9VFxztEJ', entities={'url': {'urls': [{'url': 'https://t.co/8f9VFxztEJ', 'expanded_url': 'http://Vote.DonaldJTrump.com', 'display_url': 'Vote.DonaldJTrump.com', 'indices': [0, 23]}]}, 'description': {'urls': []}}, protected=False, followers_count=88934801, friends_count=51, listed_count=125213, created_at=datetime.datetime(2009, 3, 18, 13, 46, 38), favourites_count=6, utc_offset=None, time_zone=None, geo_enabled=True, verified=True, statuses_count=58583, lang=None, contributors_enabled=False, is_translator=False, is_translation_enabled=True, profile_background_color='6D5C18', profile_background_image_url='http://abs.twimg.com/images/themes/theme1/bg.png', profile_background_image_url_https='https://abs.twimg.com/images/themes/theme1/bg.png', profile_background_tile=True, profile_image_url='http://pbs.twimg.com/profile_images/874276197357596672/kUuht00m_normal.jpg', profile_image_url_https='https://pbs.twimg.com/profile_images/874276197357596672/kUuht00m_normal.jpg', profile_banner_url='https://pbs.twimg.com/profile_banners/25073877/1604214583', profile_link_color='1B95E0', profile_sidebar_border_color='BDDCAD', profile_sidebar_fill_color='C5CEC0', profile_text_color='333333', profile_use_background_image=True, has_extended_profile=False, default_profile=False, default_profile_image=False, following=False, follow_request_sent=False, notifications=False, translator_type='regular'), user=User(_api=<tweepy.api.API object at 0x00000234B90E7198>, _json={'id': 25073877, 'id_str': '25073877', 'name': 'Donald J. Trump', 'screen_name': 'realDonaldTrump', 'location': 'Washington, DC', 'description': '45th President of the United States of America🇺🇸', 'url': 'https://t.co/8f9VFxztEJ', 'entities': {'url': {'urls': [{'url': 'https://t.co/8f9VFxztEJ', 'expanded_url': 'http://Vote.DonaldJTrump.com', 'display_url': 'Vote.DonaldJTrump.com', 'indices': [0, 23]}]}, 'description': {'urls': []}}, 'protected': False, 'followers_count': 88934801, 'friends_count': 51, 'listed_count': 125213, 'created_at': 'Wed Mar 18 13:46:38 +0000 2009', 'favourites_count': 6, 'utc_offset': None, 'time_zone': None, 'geo_enabled': True, 'verified': True, 'statuses_count': 58583, 'lang': None, 'contributors_enabled': False, 'is_translator': False, 'is_translation_enabled': True, 'profile_background_color': '6D5C18', 'profile_background_image_url': 'http://abs.twimg.com/images/themes/theme1/bg.png', 'profile_background_image_url_https': 'https://abs.twimg.com/images/themes/theme1/bg.png', 'profile_background_tile': True, 'profile_image_url': 'http://pbs.twimg.com/profile_images/874276197357596672/kUuht00m_normal.jpg', 'profile_image_url_https': 'https://pbs.twimg.com/profile_images/874276197357596672/kUuht00m_normal.jpg', 'profile_banner_url': 'https://pbs.twimg.com/profile_banners/25073877/1604214583', 'profile_link_color': '1B95E0', 'profile_sidebar_border_color': 'BDDCAD', 'profile_sidebar_fill_color': 'C5CEC0', 'profile_text_color': '333333', 'profile_use_background_image': True, 'has_extended_profile': False, 'default_profile': False, 'default_profile_image': False, 'following': False, 'follow_request_sent': False, 'notifications': False, 'translator_type': 'regular'}, id=25073877, id_str='25073877', name='Donald J. Trump', screen_name='realDonaldTrump', location='Washington, DC', description='45th President of the United States of America🇺🇸', url='https://t.co/8f9VFxztEJ', entities={'url': {'urls': [{'url': 'https://t.co/8f9VFxztEJ', 'expanded_url': 'http://Vote.DonaldJTrump.com', 'display_url': 'Vote.DonaldJTrump.com', 'indices': [0, 23]}]}, 'description': {'urls': []}}, protected=False, followers_count=88934801, friends_count=51, listed_count=125213, created_at=datetime.datetime(2009, 3, 18, 13, 46, 38), favourites_count=6, utc_offset=None, time_zone=None, geo_enabled=True, verified=True, statuses_count=58583, lang=None, contributors_enabled=False, is_translator=False, is_translation_enabled=True, profile_background_color='6D5C18', profile_background_image_url='http://abs.twimg.com/images/themes/theme1/bg.png', profile_background_image_url_https='https://abs.twimg.com/images/themes/theme1/bg.png', profile_background_tile=True, profile_image_url='http://pbs.twimg.com/profile_images/874276197357596672/kUuht00m_normal.jpg', profile_image_url_https='https://pbs.twimg.com/profile_images/874276197357596672/kUuht00m_normal.jpg', profile_banner_url='https://pbs.twimg.com/profile_banners/25073877/1604214583', profile_link_color='1B95E0', profile_sidebar_border_color='BDDCAD', profile_sidebar_fill_color='C5CEC0', profile_text_color='333333', profile_use_background_image=True, has_extended_profile=False, default_profile=False, default_profile_image=False, following=False, follow_request_sent=False, notifications=False, translator_type='regular'), geo=None, coordinates=None, place=None, contributors=None, is_quote_status=True, quoted_status_id=1329455449415036934, quoted_status_id_str='1329455449415036934', retweet_count=36837, favorite_count=191919, favorited=False, retweeted=False, possibly_sensitive=False, lang='en'), retweet_count=0, favorite_count=0, favorited=False, retweeted=False, possibly_sensitive=False, lang='en') \n",
      "\n",
      ".....................................\n",
      "\n",
      "Status(_api=<tweepy.api.API object at 0x00000234B90E7198>, _json={'created_at': 'Thu Nov 19 14:09:05 +0000 2020', 'id': 1329426472843415558, 'id_str': '1329426472843415558', 'full_text': '@DanishSait Probability of Covid Vaccine is much higher than RCB winning the IPL.', 'truncated': False, 'display_text_range': [12, 81], 'entities': {'hashtags': [], 'symbols': [], 'user_mentions': [{'screen_name': 'DanishSait', 'name': 'Danish Sait', 'id': 41606534, 'id_str': '41606534', 'indices': [0, 11]}], 'urls': []}, 'metadata': {'iso_language_code': 'en', 'result_type': 'recent'}, 'source': '<a href=\"http://twitter.com/download/android\" rel=\"nofollow\">Twitter for Android</a>', 'in_reply_to_status_id': 1329360925300703232, 'in_reply_to_status_id_str': '1329360925300703232', 'in_reply_to_user_id': 41606534, 'in_reply_to_user_id_str': '41606534', 'in_reply_to_screen_name': 'DanishSait', 'user': {'id': 765786824, 'id_str': '765786824', 'name': 'Ajinkya', 'screen_name': 'Aj_Tweeets', 'location': '🇮🇳 Vadodara', 'description': 'Mechanical Engineer |\\nCricket Enthusiast |\\nExplorer', 'url': None, 'entities': {'description': {'urls': []}}, 'protected': False, 'followers_count': 55, 'friends_count': 166, 'listed_count': 1, 'created_at': 'Sat Aug 18 14:21:47 +0000 2012', 'favourites_count': 4459, 'utc_offset': None, 'time_zone': None, 'geo_enabled': True, 'verified': False, 'statuses_count': 1789, 'lang': None, 'contributors_enabled': False, 'is_translator': False, 'is_translation_enabled': False, 'profile_background_color': 'C0DEED', 'profile_background_image_url': 'http://abs.twimg.com/images/themes/theme1/bg.png', 'profile_background_image_url_https': 'https://abs.twimg.com/images/themes/theme1/bg.png', 'profile_background_tile': False, 'profile_image_url': 'http://pbs.twimg.com/profile_images/1328947643876331520/c5Wutnfh_normal.jpg', 'profile_image_url_https': 'https://pbs.twimg.com/profile_images/1328947643876331520/c5Wutnfh_normal.jpg', 'profile_banner_url': 'https://pbs.twimg.com/profile_banners/765786824/1605680698', 'profile_link_color': '1DA1F2', 'profile_sidebar_border_color': 'C0DEED', 'profile_sidebar_fill_color': 'DDEEF6', 'profile_text_color': '333333', 'profile_use_background_image': True, 'has_extended_profile': True, 'default_profile': True, 'default_profile_image': False, 'following': False, 'follow_request_sent': False, 'notifications': False, 'translator_type': 'none'}, 'geo': None, 'coordinates': None, 'place': None, 'contributors': None, 'is_quote_status': False, 'retweet_count': 0, 'favorite_count': 3, 'favorited': False, 'retweeted': False, 'lang': 'en'}, created_at=datetime.datetime(2020, 11, 19, 14, 9, 5), id=1329426472843415558, id_str='1329426472843415558', full_text='@DanishSait Probability of Covid Vaccine is much higher than RCB winning the IPL.', truncated=False, display_text_range=[12, 81], entities={'hashtags': [], 'symbols': [], 'user_mentions': [{'screen_name': 'DanishSait', 'name': 'Danish Sait', 'id': 41606534, 'id_str': '41606534', 'indices': [0, 11]}], 'urls': []}, metadata={'iso_language_code': 'en', 'result_type': 'recent'}, source='Twitter for Android', source_url='http://twitter.com/download/android', in_reply_to_status_id=1329360925300703232, in_reply_to_status_id_str='1329360925300703232', in_reply_to_user_id=41606534, in_reply_to_user_id_str='41606534', in_reply_to_screen_name='DanishSait', author=User(_api=<tweepy.api.API object at 0x00000234B90E7198>, _json={'id': 765786824, 'id_str': '765786824', 'name': 'Ajinkya', 'screen_name': 'Aj_Tweeets', 'location': '🇮🇳 Vadodara', 'description': 'Mechanical Engineer |\\nCricket Enthusiast |\\nExplorer', 'url': None, 'entities': {'description': {'urls': []}}, 'protected': False, 'followers_count': 55, 'friends_count': 166, 'listed_count': 1, 'created_at': 'Sat Aug 18 14:21:47 +0000 2012', 'favourites_count': 4459, 'utc_offset': None, 'time_zone': None, 'geo_enabled': True, 'verified': False, 'statuses_count': 1789, 'lang': None, 'contributors_enabled': False, 'is_translator': False, 'is_translation_enabled': False, 'profile_background_color': 'C0DEED', 'profile_background_image_url': 'http://abs.twimg.com/images/themes/theme1/bg.png', 'profile_background_image_url_https': 'https://abs.twimg.com/images/themes/theme1/bg.png', 'profile_background_tile': False, 'profile_image_url': 'http://pbs.twimg.com/profile_images/1328947643876331520/c5Wutnfh_normal.jpg', 'profile_image_url_https': 'https://pbs.twimg.com/profile_images/1328947643876331520/c5Wutnfh_normal.jpg', 'profile_banner_url': 'https://pbs.twimg.com/profile_banners/765786824/1605680698', 'profile_link_color': '1DA1F2', 'profile_sidebar_border_color': 'C0DEED', 'profile_sidebar_fill_color': 'DDEEF6', 'profile_text_color': '333333', 'profile_use_background_image': True, 'has_extended_profile': True, 'default_profile': True, 'default_profile_image': False, 'following': False, 'follow_request_sent': False, 'notifications': False, 'translator_type': 'none'}, id=765786824, id_str='765786824', name='Ajinkya', screen_name='Aj_Tweeets', location='🇮🇳 Vadodara', description='Mechanical Engineer |\\nCricket Enthusiast |\\nExplorer', url=None, entities={'description': {'urls': []}}, protected=False, followers_count=55, friends_count=166, listed_count=1, created_at=datetime.datetime(2012, 8, 18, 14, 21, 47), favourites_count=4459, utc_offset=None, time_zone=None, geo_enabled=True, verified=False, statuses_count=1789, lang=None, contributors_enabled=False, is_translator=False, is_translation_enabled=False, profile_background_color='C0DEED', profile_background_image_url='http://abs.twimg.com/images/themes/theme1/bg.png', profile_background_image_url_https='https://abs.twimg.com/images/themes/theme1/bg.png', profile_background_tile=False, profile_image_url='http://pbs.twimg.com/profile_images/1328947643876331520/c5Wutnfh_normal.jpg', profile_image_url_https='https://pbs.twimg.com/profile_images/1328947643876331520/c5Wutnfh_normal.jpg', profile_banner_url='https://pbs.twimg.com/profile_banners/765786824/1605680698', profile_link_color='1DA1F2', profile_sidebar_border_color='C0DEED', profile_sidebar_fill_color='DDEEF6', profile_text_color='333333', profile_use_background_image=True, has_extended_profile=True, default_profile=True, default_profile_image=False, following=False, follow_request_sent=False, notifications=False, translator_type='none'), user=User(_api=<tweepy.api.API object at 0x00000234B90E7198>, _json={'id': 765786824, 'id_str': '765786824', 'name': 'Ajinkya', 'screen_name': 'Aj_Tweeets', 'location': '🇮🇳 Vadodara', 'description': 'Mechanical Engineer |\\nCricket Enthusiast |\\nExplorer', 'url': None, 'entities': {'description': {'urls': []}}, 'protected': False, 'followers_count': 55, 'friends_count': 166, 'listed_count': 1, 'created_at': 'Sat Aug 18 14:21:47 +0000 2012', 'favourites_count': 4459, 'utc_offset': None, 'time_zone': None, 'geo_enabled': True, 'verified': False, 'statuses_count': 1789, 'lang': None, 'contributors_enabled': False, 'is_translator': False, 'is_translation_enabled': False, 'profile_background_color': 'C0DEED', 'profile_background_image_url': 'http://abs.twimg.com/images/themes/theme1/bg.png', 'profile_background_image_url_https': 'https://abs.twimg.com/images/themes/theme1/bg.png', 'profile_background_tile': False, 'profile_image_url': 'http://pbs.twimg.com/profile_images/1328947643876331520/c5Wutnfh_normal.jpg', 'profile_image_url_https': 'https://pbs.twimg.com/profile_images/1328947643876331520/c5Wutnfh_normal.jpg', 'profile_banner_url': 'https://pbs.twimg.com/profile_banners/765786824/1605680698', 'profile_link_color': '1DA1F2', 'profile_sidebar_border_color': 'C0DEED', 'profile_sidebar_fill_color': 'DDEEF6', 'profile_text_color': '333333', 'profile_use_background_image': True, 'has_extended_profile': True, 'default_profile': True, 'default_profile_image': False, 'following': False, 'follow_request_sent': False, 'notifications': False, 'translator_type': 'none'}, id=765786824, id_str='765786824', name='Ajinkya', screen_name='Aj_Tweeets', location='🇮🇳 Vadodara', description='Mechanical Engineer |\\nCricket Enthusiast |\\nExplorer', url=None, entities={'description': {'urls': []}}, protected=False, followers_count=55, friends_count=166, listed_count=1, created_at=datetime.datetime(2012, 8, 18, 14, 21, 47), favourites_count=4459, utc_offset=None, time_zone=None, geo_enabled=True, verified=False, statuses_count=1789, lang=None, contributors_enabled=False, is_translator=False, is_translation_enabled=False, profile_background_color='C0DEED', profile_background_image_url='http://abs.twimg.com/images/themes/theme1/bg.png', profile_background_image_url_https='https://abs.twimg.com/images/themes/theme1/bg.png', profile_background_tile=False, profile_image_url='http://pbs.twimg.com/profile_images/1328947643876331520/c5Wutnfh_normal.jpg', profile_image_url_https='https://pbs.twimg.com/profile_images/1328947643876331520/c5Wutnfh_normal.jpg', profile_banner_url='https://pbs.twimg.com/profile_banners/765786824/1605680698', profile_link_color='1DA1F2', profile_sidebar_border_color='C0DEED', profile_sidebar_fill_color='DDEEF6', profile_text_color='333333', profile_use_background_image=True, has_extended_profile=True, default_profile=True, default_profile_image=False, following=False, follow_request_sent=False, notifications=False, translator_type='none'), geo=None, coordinates=None, place=None, contributors=None, is_quote_status=False, retweet_count=0, favorite_count=3, favorited=False, retweeted=False, lang='en') \n",
      "\n",
      ".....................................\n",
      "\n",
      "Status(_api=<tweepy.api.API object at 0x00000234B90E7198>, _json={'created_at': 'Wed Nov 18 18:40:53 +0000 2020', 'id': 1329132486673137665, 'id_str': '1329132486673137665', 'full_text': '@RCBTweets @ABdeVilliers17 Except winning IPL title for RCB', 'truncated': False, 'display_text_range': [27, 59], 'entities': {'hashtags': [], 'symbols': [], 'user_mentions': [{'screen_name': 'RCBTweets', 'name': 'Royal Challengers Bangalore', 'id': 70931004, 'id_str': '70931004', 'indices': [0, 10]}, {'screen_name': 'ABdeVilliers17', 'name': 'AB de Villiers', 'id': 139876086, 'id_str': '139876086', 'indices': [11, 26]}], 'urls': []}, 'metadata': {'iso_language_code': 'en', 'result_type': 'recent'}, 'source': '<a href=\"http://twitter.com/download/android\" rel=\"nofollow\">Twitter for Android</a>', 'in_reply_to_status_id': 1328943535786176512, 'in_reply_to_status_id_str': '1328943535786176512', 'in_reply_to_user_id': 70931004, 'in_reply_to_user_id_str': '70931004', 'in_reply_to_screen_name': 'RCBTweets', 'user': {'id': 1327104839759712261, 'id_str': '1327104839759712261', 'name': 'लड़ाकू विमान', 'screen_name': 'SeedheJakeUTurn', 'location': 'धरातल', 'description': 'aam admi.. lekin delhi wala nhi', 'url': None, 'entities': {'description': {'urls': []}}, 'protected': False, 'followers_count': 0, 'friends_count': 114, 'listed_count': 0, 'created_at': 'Fri Nov 13 04:24:16 +0000 2020', 'favourites_count': 2, 'utc_offset': None, 'time_zone': None, 'geo_enabled': False, 'verified': False, 'statuses_count': 10, 'lang': None, 'contributors_enabled': False, 'is_translator': False, 'is_translation_enabled': False, 'profile_background_color': 'F5F8FA', 'profile_background_image_url': None, 'profile_background_image_url_https': None, 'profile_background_tile': False, 'profile_image_url': 'http://pbs.twimg.com/profile_images/1328288920895799297/-knT6Sab_normal.jpg', 'profile_image_url_https': 'https://pbs.twimg.com/profile_images/1328288920895799297/-knT6Sab_normal.jpg', 'profile_link_color': '1DA1F2', 'profile_sidebar_border_color': 'C0DEED', 'profile_sidebar_fill_color': 'DDEEF6', 'profile_text_color': '333333', 'profile_use_background_image': True, 'has_extended_profile': True, 'default_profile': True, 'default_profile_image': False, 'following': False, 'follow_request_sent': False, 'notifications': False, 'translator_type': 'none'}, 'geo': None, 'coordinates': None, 'place': None, 'contributors': None, 'is_quote_status': False, 'retweet_count': 0, 'favorite_count': 0, 'favorited': False, 'retweeted': False, 'lang': 'en'}, created_at=datetime.datetime(2020, 11, 18, 18, 40, 53), id=1329132486673137665, id_str='1329132486673137665', full_text='@RCBTweets @ABdeVilliers17 Except winning IPL title for RCB', truncated=False, display_text_range=[27, 59], entities={'hashtags': [], 'symbols': [], 'user_mentions': [{'screen_name': 'RCBTweets', 'name': 'Royal Challengers Bangalore', 'id': 70931004, 'id_str': '70931004', 'indices': [0, 10]}, {'screen_name': 'ABdeVilliers17', 'name': 'AB de Villiers', 'id': 139876086, 'id_str': '139876086', 'indices': [11, 26]}], 'urls': []}, metadata={'iso_language_code': 'en', 'result_type': 'recent'}, source='Twitter for Android', source_url='http://twitter.com/download/android', in_reply_to_status_id=1328943535786176512, in_reply_to_status_id_str='1328943535786176512', in_reply_to_user_id=70931004, in_reply_to_user_id_str='70931004', in_reply_to_screen_name='RCBTweets', author=User(_api=<tweepy.api.API object at 0x00000234B90E7198>, _json={'id': 1327104839759712261, 'id_str': '1327104839759712261', 'name': 'लड़ाकू विमान', 'screen_name': 'SeedheJakeUTurn', 'location': 'धरातल', 'description': 'aam admi.. lekin delhi wala nhi', 'url': None, 'entities': {'description': {'urls': []}}, 'protected': False, 'followers_count': 0, 'friends_count': 114, 'listed_count': 0, 'created_at': 'Fri Nov 13 04:24:16 +0000 2020', 'favourites_count': 2, 'utc_offset': None, 'time_zone': None, 'geo_enabled': False, 'verified': False, 'statuses_count': 10, 'lang': None, 'contributors_enabled': False, 'is_translator': False, 'is_translation_enabled': False, 'profile_background_color': 'F5F8FA', 'profile_background_image_url': None, 'profile_background_image_url_https': None, 'profile_background_tile': False, 'profile_image_url': 'http://pbs.twimg.com/profile_images/1328288920895799297/-knT6Sab_normal.jpg', 'profile_image_url_https': 'https://pbs.twimg.com/profile_images/1328288920895799297/-knT6Sab_normal.jpg', 'profile_link_color': '1DA1F2', 'profile_sidebar_border_color': 'C0DEED', 'profile_sidebar_fill_color': 'DDEEF6', 'profile_text_color': '333333', 'profile_use_background_image': True, 'has_extended_profile': True, 'default_profile': True, 'default_profile_image': False, 'following': False, 'follow_request_sent': False, 'notifications': False, 'translator_type': 'none'}, id=1327104839759712261, id_str='1327104839759712261', name='लड़ाकू विमान', screen_name='SeedheJakeUTurn', location='धरातल', description='aam admi.. lekin delhi wala nhi', url=None, entities={'description': {'urls': []}}, protected=False, followers_count=0, friends_count=114, listed_count=0, created_at=datetime.datetime(2020, 11, 13, 4, 24, 16), favourites_count=2, utc_offset=None, time_zone=None, geo_enabled=False, verified=False, statuses_count=10, lang=None, contributors_enabled=False, is_translator=False, is_translation_enabled=False, profile_background_color='F5F8FA', profile_background_image_url=None, profile_background_image_url_https=None, profile_background_tile=False, profile_image_url='http://pbs.twimg.com/profile_images/1328288920895799297/-knT6Sab_normal.jpg', profile_image_url_https='https://pbs.twimg.com/profile_images/1328288920895799297/-knT6Sab_normal.jpg', profile_link_color='1DA1F2', profile_sidebar_border_color='C0DEED', profile_sidebar_fill_color='DDEEF6', profile_text_color='333333', profile_use_background_image=True, has_extended_profile=True, default_profile=True, default_profile_image=False, following=False, follow_request_sent=False, notifications=False, translator_type='none'), user=User(_api=<tweepy.api.API object at 0x00000234B90E7198>, _json={'id': 1327104839759712261, 'id_str': '1327104839759712261', 'name': 'लड़ाकू विमान', 'screen_name': 'SeedheJakeUTurn', 'location': 'धरातल', 'description': 'aam admi.. lekin delhi wala nhi', 'url': None, 'entities': {'description': {'urls': []}}, 'protected': False, 'followers_count': 0, 'friends_count': 114, 'listed_count': 0, 'created_at': 'Fri Nov 13 04:24:16 +0000 2020', 'favourites_count': 2, 'utc_offset': None, 'time_zone': None, 'geo_enabled': False, 'verified': False, 'statuses_count': 10, 'lang': None, 'contributors_enabled': False, 'is_translator': False, 'is_translation_enabled': False, 'profile_background_color': 'F5F8FA', 'profile_background_image_url': None, 'profile_background_image_url_https': None, 'profile_background_tile': False, 'profile_image_url': 'http://pbs.twimg.com/profile_images/1328288920895799297/-knT6Sab_normal.jpg', 'profile_image_url_https': 'https://pbs.twimg.com/profile_images/1328288920895799297/-knT6Sab_normal.jpg', 'profile_link_color': '1DA1F2', 'profile_sidebar_border_color': 'C0DEED', 'profile_sidebar_fill_color': 'DDEEF6', 'profile_text_color': '333333', 'profile_use_background_image': True, 'has_extended_profile': True, 'default_profile': True, 'default_profile_image': False, 'following': False, 'follow_request_sent': False, 'notifications': False, 'translator_type': 'none'}, id=1327104839759712261, id_str='1327104839759712261', name='लड़ाकू विमान', screen_name='SeedheJakeUTurn', location='धरातल', description='aam admi.. lekin delhi wala nhi', url=None, entities={'description': {'urls': []}}, protected=False, followers_count=0, friends_count=114, listed_count=0, created_at=datetime.datetime(2020, 11, 13, 4, 24, 16), favourites_count=2, utc_offset=None, time_zone=None, geo_enabled=False, verified=False, statuses_count=10, lang=None, contributors_enabled=False, is_translator=False, is_translation_enabled=False, profile_background_color='F5F8FA', profile_background_image_url=None, profile_background_image_url_https=None, profile_background_tile=False, profile_image_url='http://pbs.twimg.com/profile_images/1328288920895799297/-knT6Sab_normal.jpg', profile_image_url_https='https://pbs.twimg.com/profile_images/1328288920895799297/-knT6Sab_normal.jpg', profile_link_color='1DA1F2', profile_sidebar_border_color='C0DEED', profile_sidebar_fill_color='DDEEF6', profile_text_color='333333', profile_use_background_image=True, has_extended_profile=True, default_profile=True, default_profile_image=False, following=False, follow_request_sent=False, notifications=False, translator_type='none'), geo=None, coordinates=None, place=None, contributors=None, is_quote_status=False, retweet_count=0, favorite_count=0, favorited=False, retweeted=False, lang='en') \n",
      "\n",
      ".....................................\n",
      "\n",
      "Status(_api=<tweepy.api.API object at 0x00000234B90E7198>, _json={'created_at': 'Wed Nov 18 16:40:02 +0000 2020', 'id': 1329102074118774784, 'id_str': '1329102074118774784', 'full_text': \"@iamShivakumar18 @mipaltan @ABdeVilliers17 We all know your rcb won't win ipl trophy lifetime,so better now you changed jercy atleast you feel the winning moments 😂 https://t.co/npGVowSEsQ\", 'truncated': False, 'display_text_range': [43, 164], 'entities': {'hashtags': [], 'symbols': [], 'user_mentions': [{'screen_name': 'iamShivakumar18', 'name': 'Shivukumar', 'id': 1275719626039660546, 'id_str': '1275719626039660546', 'indices': [0, 16]}, {'screen_name': 'mipaltan', 'name': 'Mumbai Indians', 'id': 106345557, 'id_str': '106345557', 'indices': [17, 26]}, {'screen_name': 'ABdeVilliers17', 'name': 'AB de Villiers', 'id': 139876086, 'id_str': '139876086', 'indices': [27, 42]}], 'urls': [], 'media': [{'id': 1329101262105714688, 'id_str': '1329101262105714688', 'indices': [165, 188], 'media_url': 'http://pbs.twimg.com/media/EnHqjlZVoAAAeYi.jpg', 'media_url_https': 'https://pbs.twimg.com/media/EnHqjlZVoAAAeYi.jpg', 'url': 'https://t.co/npGVowSEsQ', 'display_url': 'pic.twitter.com/npGVowSEsQ', 'expanded_url': 'https://twitter.com/NikhilChavanPa5/status/1329102074118774784/photo/1', 'type': 'photo', 'sizes': {'small': {'w': 540, 'h': 540, 'resize': 'fit'}, 'thumb': {'w': 150, 'h': 150, 'resize': 'crop'}, 'medium': {'w': 540, 'h': 540, 'resize': 'fit'}, 'large': {'w': 540, 'h': 540, 'resize': 'fit'}}}]}, 'extended_entities': {'media': [{'id': 1329101262105714688, 'id_str': '1329101262105714688', 'indices': [165, 188], 'media_url': 'http://pbs.twimg.com/media/EnHqjlZVoAAAeYi.jpg', 'media_url_https': 'https://pbs.twimg.com/media/EnHqjlZVoAAAeYi.jpg', 'url': 'https://t.co/npGVowSEsQ', 'display_url': 'pic.twitter.com/npGVowSEsQ', 'expanded_url': 'https://twitter.com/NikhilChavanPa5/status/1329102074118774784/photo/1', 'type': 'photo', 'sizes': {'small': {'w': 540, 'h': 540, 'resize': 'fit'}, 'thumb': {'w': 150, 'h': 150, 'resize': 'crop'}, 'medium': {'w': 540, 'h': 540, 'resize': 'fit'}, 'large': {'w': 540, 'h': 540, 'resize': 'fit'}}}]}, 'metadata': {'iso_language_code': 'en', 'result_type': 'recent'}, 'source': '<a href=\"https://mobile.twitter.com\" rel=\"nofollow\">Twitter Web App</a>', 'in_reply_to_status_id': 1329024619341180928, 'in_reply_to_status_id_str': '1329024619341180928', 'in_reply_to_user_id': 1275719626039660546, 'in_reply_to_user_id_str': '1275719626039660546', 'in_reply_to_screen_name': 'iamShivakumar18', 'user': {'id': 1160505314405306368, 'id_str': '1160505314405306368', 'name': 'Nikhil Chavan Patil', 'screen_name': 'NikhilChavanPa5', 'location': '', 'description': '', 'url': None, 'entities': {'description': {'urls': []}}, 'protected': False, 'followers_count': 2, 'friends_count': 100, 'listed_count': 0, 'created_at': 'Sun Aug 11 10:56:42 +0000 2019', 'favourites_count': 765, 'utc_offset': None, 'time_zone': None, 'geo_enabled': False, 'verified': False, 'statuses_count': 525, 'lang': None, 'contributors_enabled': False, 'is_translator': False, 'is_translation_enabled': False, 'profile_background_color': 'F5F8FA', 'profile_background_image_url': None, 'profile_background_image_url_https': None, 'profile_background_tile': False, 'profile_image_url': 'http://pbs.twimg.com/profile_images/1160515448770715648/0JkjaZXF_normal.jpg', 'profile_image_url_https': 'https://pbs.twimg.com/profile_images/1160515448770715648/0JkjaZXF_normal.jpg', 'profile_banner_url': 'https://pbs.twimg.com/profile_banners/1160505314405306368/1565523426', 'profile_link_color': '1DA1F2', 'profile_sidebar_border_color': 'C0DEED', 'profile_sidebar_fill_color': 'DDEEF6', 'profile_text_color': '333333', 'profile_use_background_image': True, 'has_extended_profile': False, 'default_profile': True, 'default_profile_image': False, 'following': False, 'follow_request_sent': False, 'notifications': False, 'translator_type': 'none'}, 'geo': None, 'coordinates': None, 'place': None, 'contributors': None, 'is_quote_status': False, 'retweet_count': 0, 'favorite_count': 0, 'favorited': False, 'retweeted': False, 'possibly_sensitive': False, 'lang': 'en'}, created_at=datetime.datetime(2020, 11, 18, 16, 40, 2), id=1329102074118774784, id_str='1329102074118774784', full_text=\"@iamShivakumar18 @mipaltan @ABdeVilliers17 We all know your rcb won't win ipl trophy lifetime,so better now you changed jercy atleast you feel the winning moments 😂 https://t.co/npGVowSEsQ\", truncated=False, display_text_range=[43, 164], entities={'hashtags': [], 'symbols': [], 'user_mentions': [{'screen_name': 'iamShivakumar18', 'name': 'Shivukumar', 'id': 1275719626039660546, 'id_str': '1275719626039660546', 'indices': [0, 16]}, {'screen_name': 'mipaltan', 'name': 'Mumbai Indians', 'id': 106345557, 'id_str': '106345557', 'indices': [17, 26]}, {'screen_name': 'ABdeVilliers17', 'name': 'AB de Villiers', 'id': 139876086, 'id_str': '139876086', 'indices': [27, 42]}], 'urls': [], 'media': [{'id': 1329101262105714688, 'id_str': '1329101262105714688', 'indices': [165, 188], 'media_url': 'http://pbs.twimg.com/media/EnHqjlZVoAAAeYi.jpg', 'media_url_https': 'https://pbs.twimg.com/media/EnHqjlZVoAAAeYi.jpg', 'url': 'https://t.co/npGVowSEsQ', 'display_url': 'pic.twitter.com/npGVowSEsQ', 'expanded_url': 'https://twitter.com/NikhilChavanPa5/status/1329102074118774784/photo/1', 'type': 'photo', 'sizes': {'small': {'w': 540, 'h': 540, 'resize': 'fit'}, 'thumb': {'w': 150, 'h': 150, 'resize': 'crop'}, 'medium': {'w': 540, 'h': 540, 'resize': 'fit'}, 'large': {'w': 540, 'h': 540, 'resize': 'fit'}}}]}, extended_entities={'media': [{'id': 1329101262105714688, 'id_str': '1329101262105714688', 'indices': [165, 188], 'media_url': 'http://pbs.twimg.com/media/EnHqjlZVoAAAeYi.jpg', 'media_url_https': 'https://pbs.twimg.com/media/EnHqjlZVoAAAeYi.jpg', 'url': 'https://t.co/npGVowSEsQ', 'display_url': 'pic.twitter.com/npGVowSEsQ', 'expanded_url': 'https://twitter.com/NikhilChavanPa5/status/1329102074118774784/photo/1', 'type': 'photo', 'sizes': {'small': {'w': 540, 'h': 540, 'resize': 'fit'}, 'thumb': {'w': 150, 'h': 150, 'resize': 'crop'}, 'medium': {'w': 540, 'h': 540, 'resize': 'fit'}, 'large': {'w': 540, 'h': 540, 'resize': 'fit'}}}]}, metadata={'iso_language_code': 'en', 'result_type': 'recent'}, source='Twitter Web App', source_url='https://mobile.twitter.com', in_reply_to_status_id=1329024619341180928, in_reply_to_status_id_str='1329024619341180928', in_reply_to_user_id=1275719626039660546, in_reply_to_user_id_str='1275719626039660546', in_reply_to_screen_name='iamShivakumar18', author=User(_api=<tweepy.api.API object at 0x00000234B90E7198>, _json={'id': 1160505314405306368, 'id_str': '1160505314405306368', 'name': 'Nikhil Chavan Patil', 'screen_name': 'NikhilChavanPa5', 'location': '', 'description': '', 'url': None, 'entities': {'description': {'urls': []}}, 'protected': False, 'followers_count': 2, 'friends_count': 100, 'listed_count': 0, 'created_at': 'Sun Aug 11 10:56:42 +0000 2019', 'favourites_count': 765, 'utc_offset': None, 'time_zone': None, 'geo_enabled': False, 'verified': False, 'statuses_count': 525, 'lang': None, 'contributors_enabled': False, 'is_translator': False, 'is_translation_enabled': False, 'profile_background_color': 'F5F8FA', 'profile_background_image_url': None, 'profile_background_image_url_https': None, 'profile_background_tile': False, 'profile_image_url': 'http://pbs.twimg.com/profile_images/1160515448770715648/0JkjaZXF_normal.jpg', 'profile_image_url_https': 'https://pbs.twimg.com/profile_images/1160515448770715648/0JkjaZXF_normal.jpg', 'profile_banner_url': 'https://pbs.twimg.com/profile_banners/1160505314405306368/1565523426', 'profile_link_color': '1DA1F2', 'profile_sidebar_border_color': 'C0DEED', 'profile_sidebar_fill_color': 'DDEEF6', 'profile_text_color': '333333', 'profile_use_background_image': True, 'has_extended_profile': False, 'default_profile': True, 'default_profile_image': False, 'following': False, 'follow_request_sent': False, 'notifications': False, 'translator_type': 'none'}, id=1160505314405306368, id_str='1160505314405306368', name='Nikhil Chavan Patil', screen_name='NikhilChavanPa5', location='', description='', url=None, entities={'description': {'urls': []}}, protected=False, followers_count=2, friends_count=100, listed_count=0, created_at=datetime.datetime(2019, 8, 11, 10, 56, 42), favourites_count=765, utc_offset=None, time_zone=None, geo_enabled=False, verified=False, statuses_count=525, lang=None, contributors_enabled=False, is_translator=False, is_translation_enabled=False, profile_background_color='F5F8FA', profile_background_image_url=None, profile_background_image_url_https=None, profile_background_tile=False, profile_image_url='http://pbs.twimg.com/profile_images/1160515448770715648/0JkjaZXF_normal.jpg', profile_image_url_https='https://pbs.twimg.com/profile_images/1160515448770715648/0JkjaZXF_normal.jpg', profile_banner_url='https://pbs.twimg.com/profile_banners/1160505314405306368/1565523426', profile_link_color='1DA1F2', profile_sidebar_border_color='C0DEED', profile_sidebar_fill_color='DDEEF6', profile_text_color='333333', profile_use_background_image=True, has_extended_profile=False, default_profile=True, default_profile_image=False, following=False, follow_request_sent=False, notifications=False, translator_type='none'), user=User(_api=<tweepy.api.API object at 0x00000234B90E7198>, _json={'id': 1160505314405306368, 'id_str': '1160505314405306368', 'name': 'Nikhil Chavan Patil', 'screen_name': 'NikhilChavanPa5', 'location': '', 'description': '', 'url': None, 'entities': {'description': {'urls': []}}, 'protected': False, 'followers_count': 2, 'friends_count': 100, 'listed_count': 0, 'created_at': 'Sun Aug 11 10:56:42 +0000 2019', 'favourites_count': 765, 'utc_offset': None, 'time_zone': None, 'geo_enabled': False, 'verified': False, 'statuses_count': 525, 'lang': None, 'contributors_enabled': False, 'is_translator': False, 'is_translation_enabled': False, 'profile_background_color': 'F5F8FA', 'profile_background_image_url': None, 'profile_background_image_url_https': None, 'profile_background_tile': False, 'profile_image_url': 'http://pbs.twimg.com/profile_images/1160515448770715648/0JkjaZXF_normal.jpg', 'profile_image_url_https': 'https://pbs.twimg.com/profile_images/1160515448770715648/0JkjaZXF_normal.jpg', 'profile_banner_url': 'https://pbs.twimg.com/profile_banners/1160505314405306368/1565523426', 'profile_link_color': '1DA1F2', 'profile_sidebar_border_color': 'C0DEED', 'profile_sidebar_fill_color': 'DDEEF6', 'profile_text_color': '333333', 'profile_use_background_image': True, 'has_extended_profile': False, 'default_profile': True, 'default_profile_image': False, 'following': False, 'follow_request_sent': False, 'notifications': False, 'translator_type': 'none'}, id=1160505314405306368, id_str='1160505314405306368', name='Nikhil Chavan Patil', screen_name='NikhilChavanPa5', location='', description='', url=None, entities={'description': {'urls': []}}, protected=False, followers_count=2, friends_count=100, listed_count=0, created_at=datetime.datetime(2019, 8, 11, 10, 56, 42), favourites_count=765, utc_offset=None, time_zone=None, geo_enabled=False, verified=False, statuses_count=525, lang=None, contributors_enabled=False, is_translator=False, is_translation_enabled=False, profile_background_color='F5F8FA', profile_background_image_url=None, profile_background_image_url_https=None, profile_background_tile=False, profile_image_url='http://pbs.twimg.com/profile_images/1160515448770715648/0JkjaZXF_normal.jpg', profile_image_url_https='https://pbs.twimg.com/profile_images/1160515448770715648/0JkjaZXF_normal.jpg', profile_banner_url='https://pbs.twimg.com/profile_banners/1160505314405306368/1565523426', profile_link_color='1DA1F2', profile_sidebar_border_color='C0DEED', profile_sidebar_fill_color='DDEEF6', profile_text_color='333333', profile_use_background_image=True, has_extended_profile=False, default_profile=True, default_profile_image=False, following=False, follow_request_sent=False, notifications=False, translator_type='none'), geo=None, coordinates=None, place=None, contributors=None, is_quote_status=False, retweet_count=0, favorite_count=0, favorited=False, retweeted=False, possibly_sensitive=False, lang='en') \n",
      "\n",
      ".....................................\n",
      "\n"
     ]
    }
   ],
   "source": [
    "for tweet in Tweets:\n",
    "    print(tweet,\"\\n\")\n",
    "    print(\".....................................\\n\")"
   ]
  },
  {
   "cell_type": "code",
   "execution_count": 15,
   "metadata": {},
   "outputs": [
    {
     "name": "stdout",
     "output_type": "stream",
     "text": [
      "Empty DataFrame\n",
      "Columns: [Tweets, User, User_statuses_count, user_followers, User_location, User_verified, fav_count, rt_count, tweet_date]\n",
      "Index: []\n"
     ]
    }
   ],
   "source": [
    "df = pd.DataFrame(columns = ['Tweets' , 'User' , 'User_statuses_count' , \n",
    "                            'user_followers' , 'User_location' , 'User_verified' ,\n",
    "                            'fav_count' , 'rt_count' , 'tweet_date'] )\n",
    "print(df)\n",
    "# print(df.shape)"
   ]
  },
  {
   "cell_type": "code",
   "execution_count": 16,
   "metadata": {},
   "outputs": [],
   "source": [
    "def stream(data, file_name):\n",
    "    i = 0\n",
    "    for tweet in tweepy.Cursor(api.search, q=data, count=100, lang='en').items():\n",
    "        print(i, end='\\r')\n",
    "        df.loc[i, 'Tweets'] = tweet.text\n",
    "        df.loc[i, 'User'] = tweet.user.name\n",
    "        df.loc[i, 'User_statuses_count'] = tweet.user.statuses_count\n",
    "        df.loc[i, 'user_followers'] = tweet.user.followers_count\n",
    "        df.loc[i, 'User_location'] = tweet.user.location\n",
    "        df.loc[i, 'User_verified'] = tweet.user.verified\n",
    "        df.loc[i, 'fav_count'] = tweet.favorite_count\n",
    "        df.loc[i, 'rt_count'] = tweet.retweet_count\n",
    "        df.loc[i, 'tweet_date'] = tweet.created_at\n",
    "        df.to_excel('{}.xlsx'.format(file_name))\n",
    "        i = i+1\n",
    "        if i == 1000:\n",
    "            break\n",
    "        else:\n",
    "            pass"
   ]
  },
  {
   "cell_type": "code",
   "execution_count": 33,
   "metadata": {},
   "outputs": [
    {
     "name": "stdout",
     "output_type": "stream",
     "text": [
      "73\r"
     ]
    }
   ],
   "source": [
    "stream(data=[\"RCB winning IPL\"] , file_name='my_tweets')"
   ]
  },
  {
   "cell_type": "code",
   "execution_count": 18,
   "metadata": {},
   "outputs": [
    {
     "data": {
      "text/html": [
       "<div>\n",
       "<style scoped>\n",
       "    .dataframe tbody tr th:only-of-type {\n",
       "        vertical-align: middle;\n",
       "    }\n",
       "\n",
       "    .dataframe tbody tr th {\n",
       "        vertical-align: top;\n",
       "    }\n",
       "\n",
       "    .dataframe thead th {\n",
       "        text-align: right;\n",
       "    }\n",
       "</style>\n",
       "<table border=\"1\" class=\"dataframe\">\n",
       "  <thead>\n",
       "    <tr style=\"text-align: right;\">\n",
       "      <th></th>\n",
       "      <th>Tweets</th>\n",
       "      <th>User</th>\n",
       "      <th>User_statuses_count</th>\n",
       "      <th>user_followers</th>\n",
       "      <th>User_location</th>\n",
       "      <th>User_verified</th>\n",
       "      <th>fav_count</th>\n",
       "      <th>rt_count</th>\n",
       "      <th>tweet_date</th>\n",
       "    </tr>\n",
       "  </thead>\n",
       "  <tbody>\n",
       "    <tr>\n",
       "      <th>0</th>\n",
       "      <td>@Its_SakshamR @weirdly_myselff @mufaddal_vohra...</td>\n",
       "      <td>SAMAR</td>\n",
       "      <td>914</td>\n",
       "      <td>19</td>\n",
       "      <td>India</td>\n",
       "      <td>False</td>\n",
       "      <td>0</td>\n",
       "      <td>0</td>\n",
       "      <td>2020-11-21 15:48:04</td>\n",
       "    </tr>\n",
       "    <tr>\n",
       "      <th>1</th>\n",
       "      <td>Yaa.. 2021 will be the healing year!!! \\nRCB w...</td>\n",
       "      <td>Himawari💃</td>\n",
       "      <td>2653</td>\n",
       "      <td>197</td>\n",
       "      <td>Mumbai, India</td>\n",
       "      <td>False</td>\n",
       "      <td>4</td>\n",
       "      <td>0</td>\n",
       "      <td>2020-11-20 16:32:40</td>\n",
       "    </tr>\n",
       "    <tr>\n",
       "      <th>2</th>\n",
       "      <td>RT @vlp1994: Many years ago, Virat played a cr...</td>\n",
       "      <td>The Phenomenal Sports Fan✌️</td>\n",
       "      <td>59526</td>\n",
       "      <td>2152</td>\n",
       "      <td>Mumbai, India</td>\n",
       "      <td>False</td>\n",
       "      <td>0</td>\n",
       "      <td>2</td>\n",
       "      <td>2020-11-20 14:43:38</td>\n",
       "    </tr>\n",
       "    <tr>\n",
       "      <th>3</th>\n",
       "      <td>RT @vlp1994: Many years ago, Virat played a cr...</td>\n",
       "      <td>Jay Upadhyay</td>\n",
       "      <td>7329</td>\n",
       "      <td>17</td>\n",
       "      <td>Ahmadabad City, India</td>\n",
       "      <td>False</td>\n",
       "      <td>0</td>\n",
       "      <td>2</td>\n",
       "      <td>2020-11-20 14:19:40</td>\n",
       "    </tr>\n",
       "    <tr>\n",
       "      <th>4</th>\n",
       "      <td>Many years ago, Virat played a crucial knock f...</td>\n",
       "      <td>Vinesh Prabhu</td>\n",
       "      <td>23018</td>\n",
       "      <td>1486</td>\n",
       "      <td>Mumbai, India</td>\n",
       "      <td>False</td>\n",
       "      <td>11</td>\n",
       "      <td>2</td>\n",
       "      <td>2020-11-20 14:19:03</td>\n",
       "    </tr>\n",
       "  </tbody>\n",
       "</table>\n",
       "</div>"
      ],
      "text/plain": [
       "                                              Tweets  \\\n",
       "0  @Its_SakshamR @weirdly_myselff @mufaddal_vohra...   \n",
       "1  Yaa.. 2021 will be the healing year!!! \\nRCB w...   \n",
       "2  RT @vlp1994: Many years ago, Virat played a cr...   \n",
       "3  RT @vlp1994: Many years ago, Virat played a cr...   \n",
       "4  Many years ago, Virat played a crucial knock f...   \n",
       "\n",
       "                          User User_statuses_count user_followers  \\\n",
       "0                        SAMAR                 914             19   \n",
       "1                    Himawari💃                2653            197   \n",
       "2  The Phenomenal Sports Fan✌️               59526           2152   \n",
       "3                 Jay Upadhyay                7329             17   \n",
       "4                Vinesh Prabhu               23018           1486   \n",
       "\n",
       "           User_location User_verified fav_count rt_count           tweet_date  \n",
       "0                  India         False         0        0  2020-11-21 15:48:04  \n",
       "1          Mumbai, India         False         4        0  2020-11-20 16:32:40  \n",
       "2          Mumbai, India         False         0        2  2020-11-20 14:43:38  \n",
       "3  Ahmadabad City, India         False         0        2  2020-11-20 14:19:40  \n",
       "4          Mumbai, India         False        11        2  2020-11-20 14:19:03  "
      ]
     },
     "execution_count": 18,
     "metadata": {},
     "output_type": "execute_result"
    }
   ],
   "source": [
    "df.head()"
   ]
  },
  {
   "cell_type": "code",
   "execution_count": 19,
   "metadata": {},
   "outputs": [
    {
     "name": "stdout",
     "output_type": "stream",
     "text": [
      "Collecting textblob\n",
      "  Downloading https://files.pythonhosted.org/packages/60/f0/1d9bfcc8ee6b83472ec571406bd0dd51c0e6330ff1a51b2d29861d389e85/textblob-0.15.3-py2.py3-none-any.whl (636kB)\n",
      "Requirement already satisfied: nltk>=3.1 in c:\\users\\dvm\\appdata\\roaming\\python\\python37\\site-packages (from textblob) (3.5)\n",
      "Requirement already satisfied: joblib in d:\\anaconda\\lib\\site-packages (from nltk>=3.1->textblob) (0.15.1)\n",
      "Requirement already satisfied: click in d:\\anaconda\\lib\\site-packages (from nltk>=3.1->textblob) (7.0)\n",
      "Requirement already satisfied: regex in c:\\users\\dvm\\appdata\\roaming\\python\\python37\\site-packages (from nltk>=3.1->textblob) (2020.6.8)\n",
      "Requirement already satisfied: tqdm in d:\\anaconda\\lib\\site-packages (from nltk>=3.1->textblob) (4.31.1)\n",
      "Installing collected packages: textblob\n",
      "Successfully installed textblob-0.15.3\n"
     ]
    }
   ],
   "source": [
    "!pip install textblob"
   ]
  },
  {
   "cell_type": "code",
   "execution_count": 20,
   "metadata": {},
   "outputs": [],
   "source": [
    "from textblob import TextBlob"
   ]
  },
  {
   "cell_type": "code",
   "execution_count": 21,
   "metadata": {},
   "outputs": [],
   "source": [
    "import re\n",
    "def clean_tweet(tweet):\n",
    "    return ' '.join(re.sub('(@[A-Za-z0-9]+)|([^0-9A-Za-z \\t])|(\\w+:\\/\\/\\S+)', ' ', tweet).split())"
   ]
  },
  {
   "cell_type": "code",
   "execution_count": 22,
   "metadata": {},
   "outputs": [],
   "source": [
    "def analyze_sentiment(tweet):\n",
    "    analysis = TextBlob(tweet)\n",
    "    if analysis.sentiment.polarity > 0:\n",
    "        return 'Positive'\n",
    "    elif analysis.sentiment.polarity == 0:\n",
    "        return 'Neutral'\n",
    "    else:\n",
    "        return 'Negative'"
   ]
  },
  {
   "cell_type": "code",
   "execution_count": 23,
   "metadata": {},
   "outputs": [],
   "source": [
    "df['clean_tweet'] = df['Tweets'].apply(lambda x : clean_tweet(x))"
   ]
  },
  {
   "cell_type": "code",
   "execution_count": 24,
   "metadata": {},
   "outputs": [
    {
     "data": {
      "text/html": [
       "<div>\n",
       "<style scoped>\n",
       "    .dataframe tbody tr th:only-of-type {\n",
       "        vertical-align: middle;\n",
       "    }\n",
       "\n",
       "    .dataframe tbody tr th {\n",
       "        vertical-align: top;\n",
       "    }\n",
       "\n",
       "    .dataframe thead th {\n",
       "        text-align: right;\n",
       "    }\n",
       "</style>\n",
       "<table border=\"1\" class=\"dataframe\">\n",
       "  <thead>\n",
       "    <tr style=\"text-align: right;\">\n",
       "      <th></th>\n",
       "      <th>Tweets</th>\n",
       "      <th>User</th>\n",
       "      <th>User_statuses_count</th>\n",
       "      <th>user_followers</th>\n",
       "      <th>User_location</th>\n",
       "      <th>User_verified</th>\n",
       "      <th>fav_count</th>\n",
       "      <th>rt_count</th>\n",
       "      <th>tweet_date</th>\n",
       "      <th>clean_tweet</th>\n",
       "    </tr>\n",
       "  </thead>\n",
       "  <tbody>\n",
       "    <tr>\n",
       "      <th>0</th>\n",
       "      <td>@Its_SakshamR @weirdly_myselff @mufaddal_vohra...</td>\n",
       "      <td>SAMAR</td>\n",
       "      <td>914</td>\n",
       "      <td>19</td>\n",
       "      <td>India</td>\n",
       "      <td>False</td>\n",
       "      <td>0</td>\n",
       "      <td>0</td>\n",
       "      <td>2020-11-21 15:48:04</td>\n",
       "      <td>SakshamR myselff vohra As Rohit say mi team no...</td>\n",
       "    </tr>\n",
       "    <tr>\n",
       "      <th>1</th>\n",
       "      <td>Yaa.. 2021 will be the healing year!!! \\nRCB w...</td>\n",
       "      <td>Himawari💃</td>\n",
       "      <td>2653</td>\n",
       "      <td>197</td>\n",
       "      <td>Mumbai, India</td>\n",
       "      <td>False</td>\n",
       "      <td>4</td>\n",
       "      <td>0</td>\n",
       "      <td>2020-11-20 16:32:40</td>\n",
       "      <td>Yaa 2021 will be the healing year RCB winning ...</td>\n",
       "    </tr>\n",
       "    <tr>\n",
       "      <th>2</th>\n",
       "      <td>RT @vlp1994: Many years ago, Virat played a cr...</td>\n",
       "      <td>The Phenomenal Sports Fan✌️</td>\n",
       "      <td>59526</td>\n",
       "      <td>2152</td>\n",
       "      <td>Mumbai, India</td>\n",
       "      <td>False</td>\n",
       "      <td>0</td>\n",
       "      <td>2</td>\n",
       "      <td>2020-11-20 14:43:38</td>\n",
       "      <td>RT Many years ago Virat played a crucial knock...</td>\n",
       "    </tr>\n",
       "    <tr>\n",
       "      <th>3</th>\n",
       "      <td>RT @vlp1994: Many years ago, Virat played a cr...</td>\n",
       "      <td>Jay Upadhyay</td>\n",
       "      <td>7329</td>\n",
       "      <td>17</td>\n",
       "      <td>Ahmadabad City, India</td>\n",
       "      <td>False</td>\n",
       "      <td>0</td>\n",
       "      <td>2</td>\n",
       "      <td>2020-11-20 14:19:40</td>\n",
       "      <td>RT Many years ago Virat played a crucial knock...</td>\n",
       "    </tr>\n",
       "    <tr>\n",
       "      <th>4</th>\n",
       "      <td>Many years ago, Virat played a crucial knock f...</td>\n",
       "      <td>Vinesh Prabhu</td>\n",
       "      <td>23018</td>\n",
       "      <td>1486</td>\n",
       "      <td>Mumbai, India</td>\n",
       "      <td>False</td>\n",
       "      <td>11</td>\n",
       "      <td>2</td>\n",
       "      <td>2020-11-20 14:19:03</td>\n",
       "      <td>Many years ago Virat played a crucial knock fo...</td>\n",
       "    </tr>\n",
       "  </tbody>\n",
       "</table>\n",
       "</div>"
      ],
      "text/plain": [
       "                                              Tweets  \\\n",
       "0  @Its_SakshamR @weirdly_myselff @mufaddal_vohra...   \n",
       "1  Yaa.. 2021 will be the healing year!!! \\nRCB w...   \n",
       "2  RT @vlp1994: Many years ago, Virat played a cr...   \n",
       "3  RT @vlp1994: Many years ago, Virat played a cr...   \n",
       "4  Many years ago, Virat played a crucial knock f...   \n",
       "\n",
       "                          User User_statuses_count user_followers  \\\n",
       "0                        SAMAR                 914             19   \n",
       "1                    Himawari💃                2653            197   \n",
       "2  The Phenomenal Sports Fan✌️               59526           2152   \n",
       "3                 Jay Upadhyay                7329             17   \n",
       "4                Vinesh Prabhu               23018           1486   \n",
       "\n",
       "           User_location User_verified fav_count rt_count  \\\n",
       "0                  India         False         0        0   \n",
       "1          Mumbai, India         False         4        0   \n",
       "2          Mumbai, India         False         0        2   \n",
       "3  Ahmadabad City, India         False         0        2   \n",
       "4          Mumbai, India         False        11        2   \n",
       "\n",
       "            tweet_date                                        clean_tweet  \n",
       "0  2020-11-21 15:48:04  SakshamR myselff vohra As Rohit say mi team no...  \n",
       "1  2020-11-20 16:32:40  Yaa 2021 will be the healing year RCB winning ...  \n",
       "2  2020-11-20 14:43:38  RT Many years ago Virat played a crucial knock...  \n",
       "3  2020-11-20 14:19:40  RT Many years ago Virat played a crucial knock...  \n",
       "4  2020-11-20 14:19:03  Many years ago Virat played a crucial knock fo...  "
      ]
     },
     "execution_count": 24,
     "metadata": {},
     "output_type": "execute_result"
    }
   ],
   "source": [
    "df.head()"
   ]
  },
  {
   "cell_type": "code",
   "execution_count": 25,
   "metadata": {},
   "outputs": [
    {
     "data": {
      "text/html": [
       "<div>\n",
       "<style scoped>\n",
       "    .dataframe tbody tr th:only-of-type {\n",
       "        vertical-align: middle;\n",
       "    }\n",
       "\n",
       "    .dataframe tbody tr th {\n",
       "        vertical-align: top;\n",
       "    }\n",
       "\n",
       "    .dataframe thead th {\n",
       "        text-align: right;\n",
       "    }\n",
       "</style>\n",
       "<table border=\"1\" class=\"dataframe\">\n",
       "  <thead>\n",
       "    <tr style=\"text-align: right;\">\n",
       "      <th></th>\n",
       "      <th>Tweets</th>\n",
       "      <th>User</th>\n",
       "      <th>User_statuses_count</th>\n",
       "      <th>user_followers</th>\n",
       "      <th>User_location</th>\n",
       "      <th>User_verified</th>\n",
       "      <th>fav_count</th>\n",
       "      <th>rt_count</th>\n",
       "      <th>tweet_date</th>\n",
       "      <th>clean_tweet</th>\n",
       "      <th>Sentiment</th>\n",
       "    </tr>\n",
       "  </thead>\n",
       "  <tbody>\n",
       "    <tr>\n",
       "      <th>0</th>\n",
       "      <td>@Its_SakshamR @weirdly_myselff @mufaddal_vohra...</td>\n",
       "      <td>SAMAR</td>\n",
       "      <td>914</td>\n",
       "      <td>19</td>\n",
       "      <td>India</td>\n",
       "      <td>False</td>\n",
       "      <td>0</td>\n",
       "      <td>0</td>\n",
       "      <td>2020-11-21 15:48:04</td>\n",
       "      <td>SakshamR myselff vohra As Rohit say mi team no...</td>\n",
       "      <td>Positive</td>\n",
       "    </tr>\n",
       "    <tr>\n",
       "      <th>1</th>\n",
       "      <td>Yaa.. 2021 will be the healing year!!! \\nRCB w...</td>\n",
       "      <td>Himawari💃</td>\n",
       "      <td>2653</td>\n",
       "      <td>197</td>\n",
       "      <td>Mumbai, India</td>\n",
       "      <td>False</td>\n",
       "      <td>4</td>\n",
       "      <td>0</td>\n",
       "      <td>2020-11-20 16:32:40</td>\n",
       "      <td>Yaa 2021 will be the healing year RCB winning ...</td>\n",
       "      <td>Positive</td>\n",
       "    </tr>\n",
       "    <tr>\n",
       "      <th>2</th>\n",
       "      <td>RT @vlp1994: Many years ago, Virat played a cr...</td>\n",
       "      <td>The Phenomenal Sports Fan✌️</td>\n",
       "      <td>59526</td>\n",
       "      <td>2152</td>\n",
       "      <td>Mumbai, India</td>\n",
       "      <td>False</td>\n",
       "      <td>0</td>\n",
       "      <td>2</td>\n",
       "      <td>2020-11-20 14:43:38</td>\n",
       "      <td>RT Many years ago Virat played a crucial knock...</td>\n",
       "      <td>Positive</td>\n",
       "    </tr>\n",
       "    <tr>\n",
       "      <th>3</th>\n",
       "      <td>RT @vlp1994: Many years ago, Virat played a cr...</td>\n",
       "      <td>Jay Upadhyay</td>\n",
       "      <td>7329</td>\n",
       "      <td>17</td>\n",
       "      <td>Ahmadabad City, India</td>\n",
       "      <td>False</td>\n",
       "      <td>0</td>\n",
       "      <td>2</td>\n",
       "      <td>2020-11-20 14:19:40</td>\n",
       "      <td>RT Many years ago Virat played a crucial knock...</td>\n",
       "      <td>Positive</td>\n",
       "    </tr>\n",
       "    <tr>\n",
       "      <th>4</th>\n",
       "      <td>Many years ago, Virat played a crucial knock f...</td>\n",
       "      <td>Vinesh Prabhu</td>\n",
       "      <td>23018</td>\n",
       "      <td>1486</td>\n",
       "      <td>Mumbai, India</td>\n",
       "      <td>False</td>\n",
       "      <td>11</td>\n",
       "      <td>2</td>\n",
       "      <td>2020-11-20 14:19:03</td>\n",
       "      <td>Many years ago Virat played a crucial knock fo...</td>\n",
       "      <td>Positive</td>\n",
       "    </tr>\n",
       "  </tbody>\n",
       "</table>\n",
       "</div>"
      ],
      "text/plain": [
       "                                              Tweets  \\\n",
       "0  @Its_SakshamR @weirdly_myselff @mufaddal_vohra...   \n",
       "1  Yaa.. 2021 will be the healing year!!! \\nRCB w...   \n",
       "2  RT @vlp1994: Many years ago, Virat played a cr...   \n",
       "3  RT @vlp1994: Many years ago, Virat played a cr...   \n",
       "4  Many years ago, Virat played a crucial knock f...   \n",
       "\n",
       "                          User User_statuses_count user_followers  \\\n",
       "0                        SAMAR                 914             19   \n",
       "1                    Himawari💃                2653            197   \n",
       "2  The Phenomenal Sports Fan✌️               59526           2152   \n",
       "3                 Jay Upadhyay                7329             17   \n",
       "4                Vinesh Prabhu               23018           1486   \n",
       "\n",
       "           User_location User_verified fav_count rt_count  \\\n",
       "0                  India         False         0        0   \n",
       "1          Mumbai, India         False         4        0   \n",
       "2          Mumbai, India         False         0        2   \n",
       "3  Ahmadabad City, India         False         0        2   \n",
       "4          Mumbai, India         False        11        2   \n",
       "\n",
       "            tweet_date                                        clean_tweet  \\\n",
       "0  2020-11-21 15:48:04  SakshamR myselff vohra As Rohit say mi team no...   \n",
       "1  2020-11-20 16:32:40  Yaa 2021 will be the healing year RCB winning ...   \n",
       "2  2020-11-20 14:43:38  RT Many years ago Virat played a crucial knock...   \n",
       "3  2020-11-20 14:19:40  RT Many years ago Virat played a crucial knock...   \n",
       "4  2020-11-20 14:19:03  Many years ago Virat played a crucial knock fo...   \n",
       "\n",
       "  Sentiment  \n",
       "0  Positive  \n",
       "1  Positive  \n",
       "2  Positive  \n",
       "3  Positive  \n",
       "4  Positive  "
      ]
     },
     "execution_count": 25,
     "metadata": {},
     "output_type": "execute_result"
    }
   ],
   "source": [
    "df['Sentiment'] = df['clean_tweet'].apply(lambda x : analyze_sentiment(x) )\n",
    "df.head()"
   ]
  },
  {
   "cell_type": "code",
   "execution_count": 26,
   "metadata": {},
   "outputs": [
    {
     "name": "stdout",
     "output_type": "stream",
     "text": [
      "Original tweet:\n",
      " Yaa.. 2021 will be the healing year!!! \n",
      "RCB winning IPL,\n",
      "Popatlal getting married,\n",
      "increment in Natu kaka's salary,… https://t.co/wunO4QeIcY\n",
      "\n",
      "Clean tweet:\n",
      " Yaa 2021 will be the healing year RCB winning IPL Popatlal getting married increment in Natu kaka s salary\n",
      "\n",
      "Sentiment of the tweet:\n",
      " Positive\n"
     ]
    }
   ],
   "source": [
    "n = 1\n",
    "print(\"Original tweet:\\n\",df['Tweets'][n])\n",
    "print()\n",
    "print(\"Clean tweet:\\n\",df['clean_tweet'][n])\n",
    "print()\n",
    "print(\"Sentiment of the tweet:\\n\",df['Sentiment'][n])"
   ]
  },
  {
   "cell_type": "code",
   "execution_count": 27,
   "metadata": {},
   "outputs": [
    {
     "name": "stdout",
     "output_type": "stream",
     "text": [
      "Original tweet:\n",
      " @ClumsyDesii As real as rcb’s chances of winning ipl every year\n",
      "\n",
      "Clean tweet:\n",
      " As real as rcb s chances of winning ipl every year\n",
      "\n",
      "Sentiment of the tweet:\n",
      " Positive\n"
     ]
    }
   ],
   "source": [
    "n = 20\n",
    "print(\"Original tweet:\\n\",df['Tweets'][n])\n",
    "print()\n",
    "print(\"Clean tweet:\\n\",df['clean_tweet'][n])\n",
    "print()\n",
    "print(\"Sentiment of the tweet:\\n\",df['Sentiment'][n])"
   ]
  },
  {
   "cell_type": "code",
   "execution_count": 29,
   "metadata": {},
   "outputs": [
    {
     "name": "stdout",
     "output_type": "stream",
     "text": [
      "Original tweet:\n",
      " @NirajK07Cricket It will be like RCB winning Ipl.... 😉\n",
      "\n",
      "Clean tweet:\n",
      " It will be like RCB winning Ipl\n",
      "\n",
      "Sentiment of the tweet:\n",
      " Positive\n"
     ]
    }
   ],
   "source": [
    "n = 73\n",
    "print(\"Original tweet:\\n\",df['Tweets'][n])\n",
    "print()\n",
    "print(\"Clean tweet:\\n\",df['clean_tweet'][n])\n",
    "print()\n",
    "print(\"Sentiment of the tweet:\\n\",df['Sentiment'][n])"
   ]
  },
  {
   "cell_type": "code",
   "execution_count": 30,
   "metadata": {},
   "outputs": [
    {
     "data": {
      "text/plain": [
       "56"
      ]
     },
     "execution_count": 30,
     "metadata": {},
     "output_type": "execute_result"
    }
   ],
   "source": [
    "df[df.Sentiment == 'Positive'].shape[0]"
   ]
  },
  {
   "cell_type": "code",
   "execution_count": 31,
   "metadata": {},
   "outputs": [
    {
     "data": {
      "text/plain": [
       "8"
      ]
     },
     "execution_count": 31,
     "metadata": {},
     "output_type": "execute_result"
    }
   ],
   "source": [
    "df[df.Sentiment == 'Neutral'].shape[0]"
   ]
  },
  {
   "cell_type": "code",
   "execution_count": 32,
   "metadata": {},
   "outputs": [
    {
     "data": {
      "text/plain": [
       "10"
      ]
     },
     "execution_count": 32,
     "metadata": {},
     "output_type": "execute_result"
    }
   ],
   "source": [
    "df[df.Sentiment == 'Negative'].shape[0]"
   ]
  }
 ],
 "metadata": {
  "kernelspec": {
   "display_name": "Python 3",
   "language": "python",
   "name": "python3"
  },
  "language_info": {
   "codemirror_mode": {
    "name": "ipython",
    "version": 3
   },
   "file_extension": ".py",
   "mimetype": "text/x-python",
   "name": "python",
   "nbconvert_exporter": "python",
   "pygments_lexer": "ipython3",
   "version": "3.7.3"
  }
 },
 "nbformat": 4,
 "nbformat_minor": 2
}
