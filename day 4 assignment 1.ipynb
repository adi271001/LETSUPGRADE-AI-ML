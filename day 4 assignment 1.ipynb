{
 "cells": [
  {
   "cell_type": "markdown",
   "metadata": {},
   "source": [
    "# Question 1 :\n",
    "Research on whether addition, subtraction, multiplication, division, floor division and modulo operations be performed on complex numbers. Based on your study, implement a Python program to demonstrate these operations."
   ]
  },
  {
   "cell_type": "code",
   "execution_count": 1,
   "metadata": {},
   "outputs": [
    {
     "name": "stdout",
     "output_type": "stream",
     "text": [
      "Enter the complex value of a: 7+2j\n",
      "Enter the complex value of b: 9-3j\n",
      "Enter the operation to be performed among +,-,*,/,//,%*\n",
      "(7+2j) * (9-3j) = (69-3j)\n"
     ]
    }
   ],
   "source": [
    "a = complex(input(\"Enter the complex value of a: \"))\n",
    "b = complex(input(\"Enter the complex value of b: \"))\n",
    "ch = input(\"Enter the operation to be performed among +,-,*,/,//,%\")\n",
    "result = 0\n",
    "if ch == '+':\n",
    "    result = a+b\n",
    "elif ch == '-':\n",
    "    result = a-b\n",
    "elif ch == '*':\n",
    "    result = a*b\n",
    "elif ch == '/':\n",
    "    result = a/b\n",
    "elif ch == '//':\n",
    "    print(\"Floor divison of complex numbers is not possible\")\n",
    "elif ch == '%':\n",
    "    print(\"Modulo operation is not possible for complex numbers\")\n",
    "    \n",
    "print(a, ch ,b, \"=\",result)"
   ]
  },
  {
   "cell_type": "code",
   "execution_count": 2,
   "metadata": {},
   "outputs": [
    {
     "name": "stdout",
     "output_type": "stream",
     "text": [
      "Enter the complex value of a: 2+2j\n",
      "Enter the complex value of b: 3-j\n",
      "Enter the operation to be performed among +,-,*,/,//,%+\n",
      "(2+2j) + (3-1j) = (5+1j)\n"
     ]
    }
   ],
   "source": [
    "a = complex(input(\"Enter the complex value of a: \"))\n",
    "b = complex(input(\"Enter the complex value of b: \"))\n",
    "ch = input(\"Enter the operation to be performed among +,-,*,/,//,%\")\n",
    "result = 0\n",
    "if ch == '+':\n",
    "    result = a+b\n",
    "elif ch == '-':\n",
    "    result = a-b\n",
    "elif ch == '*':\n",
    "    result = a*b\n",
    "elif ch == '/':\n",
    "    result = a/b\n",
    "elif ch == '//':\n",
    "    print(\"Floor divison of complex numbers is not possible\")\n",
    "elif ch == '%':\n",
    "    print(\"Modulo operation is not possible for complex numbers\")\n",
    "    \n",
    "print(a, ch ,b, \"=\",result)"
   ]
  },
  {
   "cell_type": "code",
   "execution_count": 3,
   "metadata": {},
   "outputs": [
    {
     "name": "stdout",
     "output_type": "stream",
     "text": [
      "Enter the complex value of a: 2-8j\n",
      "Enter the complex value of b: 1-6j\n",
      "Enter the operation to be performed among +,-,*,/,//,%-\n",
      "(2-8j) - (1-6j) = (1-2j)\n"
     ]
    }
   ],
   "source": [
    "a = complex(input(\"Enter the complex value of a: \"))\n",
    "b = complex(input(\"Enter the complex value of b: \"))\n",
    "ch = input(\"Enter the operation to be performed among +,-,*,/,//,%\")\n",
    "result = 0\n",
    "if ch == '+':\n",
    "    result = a+b\n",
    "elif ch == '-':\n",
    "    result = a-b\n",
    "elif ch == '*':\n",
    "    result = a*b\n",
    "elif ch == '/':\n",
    "    result = a/b\n",
    "elif ch == '//':\n",
    "    print(\"Floor divison of complex numbers is not possible\")\n",
    "elif ch == '%':\n",
    "    print(\"Modulo operation is not possible for complex numbers\")\n",
    "    \n",
    "print(a, ch ,b, \"=\",result)"
   ]
  },
  {
   "cell_type": "code",
   "execution_count": 4,
   "metadata": {},
   "outputs": [
    {
     "name": "stdout",
     "output_type": "stream",
     "text": [
      "Enter the complex value of a: 9+9j\n",
      "Enter the complex value of b: 3+6j\n",
      "Enter the operation to be performed among +,-,*,/,//,%/\n",
      "(9+9j) / (3+6j) = (1.8-0.6j)\n"
     ]
    }
   ],
   "source": [
    "a = complex(input(\"Enter the complex value of a: \"))\n",
    "b = complex(input(\"Enter the complex value of b: \"))\n",
    "ch = input(\"Enter the operation to be performed among +,-,*,/,//,%\")\n",
    "result = 0\n",
    "if ch == '+':\n",
    "    result = a+b\n",
    "elif ch == '-':\n",
    "    result = a-b\n",
    "elif ch == '*':\n",
    "    result = a*b\n",
    "elif ch == '/':\n",
    "    result = a/b\n",
    "elif ch == '//':\n",
    "    print(\"Floor divison of complex numbers is not possible\")\n",
    "elif ch == '%':\n",
    "    print(\"Modulo operation is not possible for complex numbers\")\n",
    "    \n",
    "print(a, ch ,b, \"=\",result)"
   ]
  },
  {
   "cell_type": "code",
   "execution_count": 5,
   "metadata": {},
   "outputs": [
    {
     "name": "stdout",
     "output_type": "stream",
     "text": [
      "Enter the complex value of a: 5+9j\n",
      "Enter the complex value of b: 2+6j\n",
      "Enter the operation to be performed among +,-,*,/,//,%//\n",
      "Floor divison of complex numbers is not possible\n",
      "(5+9j) // (2+6j) = 0\n"
     ]
    }
   ],
   "source": [
    "a = complex(input(\"Enter the complex value of a: \"))\n",
    "b = complex(input(\"Enter the complex value of b: \"))\n",
    "ch = input(\"Enter the operation to be performed among +,-,*,/,//,%\")\n",
    "result = 0\n",
    "if ch == '+':\n",
    "    result = a+b\n",
    "elif ch == '-':\n",
    "    result = a-b\n",
    "elif ch == '*':\n",
    "    result = a*b\n",
    "elif ch == '/':\n",
    "    result = a/b\n",
    "elif ch == '//':\n",
    "    print(\"Floor divison of complex numbers is not possible\")\n",
    "elif ch == '%':\n",
    "    print(\"Modulo operation is not possible for complex numbers\")\n",
    "    \n",
    "print(a, ch ,b, \"=\",result)"
   ]
  },
  {
   "cell_type": "code",
   "execution_count": 6,
   "metadata": {},
   "outputs": [
    {
     "name": "stdout",
     "output_type": "stream",
     "text": [
      "Enter the complex value of a: 8+6j\n",
      "Enter the complex value of b: 7+4j\n",
      "Enter the operation to be performed among +,-,*,/,//,%%\n",
      "Modulo operation is not possible for complex numbers\n",
      "(8+6j) % (7+4j) = 0\n"
     ]
    }
   ],
   "source": [
    "a = complex(input(\"Enter the complex value of a: \"))\n",
    "b = complex(input(\"Enter the complex value of b: \"))\n",
    "ch = input(\"Enter the operation to be performed among +,-,*,/,//,%\")\n",
    "result = 0\n",
    "if ch == '+':\n",
    "    result = a+b\n",
    "elif ch == '-':\n",
    "    result = a-b\n",
    "elif ch == '*':\n",
    "    result = a*b\n",
    "elif ch == '/':\n",
    "    result = a/b\n",
    "elif ch == '//':\n",
    "    print(\"Floor divison of complex numbers is not possible\")\n",
    "elif ch == '%':\n",
    "    print(\"Modulo operation is not possible for complex numbers\")\n",
    "    \n",
    "print(a, ch ,b, \"=\",result)"
   ]
  },
  {
   "cell_type": "code",
   "execution_count": 7,
   "metadata": {},
   "outputs": [
    {
     "name": "stdout",
     "output_type": "stream",
     "text": [
      "Enter the complex value of a: 9-5j\n",
      "Enter the complex value of b: 0-0j\n",
      "Enter the operation to be performed among +,-,*,/,//,%/\n"
     ]
    },
    {
     "ename": "ZeroDivisionError",
     "evalue": "complex division by zero",
     "output_type": "error",
     "traceback": [
      "\u001b[1;31m---------------------------------------------------------------------------\u001b[0m",
      "\u001b[1;31mZeroDivisionError\u001b[0m                         Traceback (most recent call last)",
      "\u001b[1;32m<ipython-input-7-a43f39e53b6c>\u001b[0m in \u001b[0;36m<module>\u001b[1;34m\u001b[0m\n\u001b[0;32m     10\u001b[0m     \u001b[0mresult\u001b[0m \u001b[1;33m=\u001b[0m \u001b[0ma\u001b[0m\u001b[1;33m*\u001b[0m\u001b[0mb\u001b[0m\u001b[1;33m\u001b[0m\u001b[1;33m\u001b[0m\u001b[0m\n\u001b[0;32m     11\u001b[0m \u001b[1;32melif\u001b[0m \u001b[0mch\u001b[0m \u001b[1;33m==\u001b[0m \u001b[1;34m'/'\u001b[0m\u001b[1;33m:\u001b[0m\u001b[1;33m\u001b[0m\u001b[1;33m\u001b[0m\u001b[0m\n\u001b[1;32m---> 12\u001b[1;33m     \u001b[0mresult\u001b[0m \u001b[1;33m=\u001b[0m \u001b[0ma\u001b[0m\u001b[1;33m/\u001b[0m\u001b[0mb\u001b[0m\u001b[1;33m\u001b[0m\u001b[1;33m\u001b[0m\u001b[0m\n\u001b[0m\u001b[0;32m     13\u001b[0m \u001b[1;32melif\u001b[0m \u001b[0mch\u001b[0m \u001b[1;33m==\u001b[0m \u001b[1;34m'//'\u001b[0m\u001b[1;33m:\u001b[0m\u001b[1;33m\u001b[0m\u001b[1;33m\u001b[0m\u001b[0m\n\u001b[0;32m     14\u001b[0m     \u001b[0mprint\u001b[0m\u001b[1;33m(\u001b[0m\u001b[1;34m\"Floor divison of complex numbers is not possible\"\u001b[0m\u001b[1;33m)\u001b[0m\u001b[1;33m\u001b[0m\u001b[1;33m\u001b[0m\u001b[0m\n",
      "\u001b[1;31mZeroDivisionError\u001b[0m: complex division by zero"
     ]
    }
   ],
   "source": [
    "a = complex(input(\"Enter the complex value of a: \"))\n",
    "b = complex(input(\"Enter the complex value of b: \"))\n",
    "ch = input(\"Enter the operation to be performed among +,-,*,/,//,%\")\n",
    "result = 0\n",
    "if ch == '+':\n",
    "    result = a+b\n",
    "elif ch == '-':\n",
    "    result = a-b\n",
    "elif ch == '*':\n",
    "    result = a*b\n",
    "elif ch == '/':\n",
    "    result = a/b\n",
    "elif ch == '//':\n",
    "    print(\"Floor divison of complex numbers is not possible\")\n",
    "elif ch == '%':\n",
    "    print(\"Modulo operation is not possible for complex numbers\")\n",
    "    \n",
    "print(a, ch ,b, \"=\",result)"
   ]
  },
  {
   "cell_type": "markdown",
   "metadata": {},
   "source": [
    "# Question 2 :\n",
    "Research on range() functions and its parameters. Create a markdown cell and write in your own words (no copy-paste from google please) what you understand about it. Implement a small program of your choice on the same.\n",
    "\n",
    "range() function is an built-in function which generates integers between the given limit.\n",
    "The range() function returns a sequence of numbers, starting from 0 by default, and increments by 1 (by default), and stops before a specified number.\n",
    "Its start value is called the lower limit and stop value is called the upper limit.\n",
    "The upper limit value will not be executed, the preceeding number will be executed."
   ]
  },
  {
   "cell_type": "code",
   "execution_count": 8,
   "metadata": {},
   "outputs": [
    {
     "name": "stdout",
     "output_type": "stream",
     "text": [
      "23 23 is prime factor of i\n",
      "46 23 is prime factor of i\n",
      "69 23 is prime factor of i\n",
      "92 23 is prime factor of i\n",
      "115 23 is prime factor of i\n",
      "138 23 is prime factor of i\n",
      "161 23 is prime factor of i\n",
      "184 23 is prime factor of i\n",
      "207 23 is prime factor of i\n",
      "230 23 is prime factor of i\n",
      "253 23 is prime factor of i\n",
      "276 23 is prime factor of i\n",
      "299 23 is prime factor of i\n",
      "322 23 is prime factor of i\n",
      "345 23 is prime factor of i\n",
      "368 23 is prime factor of i\n",
      "391 23 is prime factor of i\n",
      "414 23 is prime factor of i\n",
      "437 23 is prime factor of i\n",
      "460 23 is prime factor of i\n",
      "483 23 is prime factor of i\n",
      "506 23 is prime factor of i\n",
      "529 23 is prime factor of i\n",
      "552 23 is prime factor of i\n",
      "575 23 is prime factor of i\n",
      "598 23 is prime factor of i\n",
      "621 23 is prime factor of i\n",
      "644 23 is prime factor of i\n",
      "667 23 is prime factor of i\n",
      "690 23 is prime factor of i\n",
      "713 23 is prime factor of i\n",
      "736 23 is prime factor of i\n",
      "759 23 is prime factor of i\n",
      "782 23 is prime factor of i\n",
      "805 23 is prime factor of i\n",
      "828 23 is prime factor of i\n",
      "851 23 is prime factor of i\n",
      "874 23 is prime factor of i\n",
      "897 23 is prime factor of i\n",
      "920 23 is prime factor of i\n",
      "943 23 is prime factor of i\n",
      "966 23 is prime factor of i\n",
      "989 23 is prime factor of i\n"
     ]
    }
   ],
   "source": [
    "for i in range(1,1002):\n",
    "    if i%23 == 0:\n",
    "        print(i, \"23 is prime factor of i\")"
   ]
  },
  {
   "cell_type": "markdown",
   "metadata": {},
   "source": [
    "# Question 3:\n",
    "Consider two numbers. Perform their subtraction and if the result of subtraction is greater than 25, print their multiplication result else print their division result."
   ]
  },
  {
   "cell_type": "code",
   "execution_count": 9,
   "metadata": {},
   "outputs": [
    {
     "name": "stdout",
     "output_type": "stream",
     "text": [
      "Enter the value of x: 1981\n",
      "Enter the value of y: 1254\n",
      "Difference of x and y is  727\n",
      "727 is greater than 25\n",
      "Product of x and y is:  2484174\n"
     ]
    }
   ],
   "source": [
    "x = int(input(\"Enter the value of x: \"))\n",
    "y = int(input(\"Enter the value of y: \"))\n",
    "diff = x - y\n",
    "print(\"Difference of x and y is \",diff)\n",
    "if diff > 25:\n",
    "    print(diff, \"is greater than 25\")\n",
    "    result = x * y\n",
    "    print(\"Product of x and y is: \",result)\n",
    "else:\n",
    "    print(diff, \"is less than 25\")\n",
    "    result = x/y\n",
    "    print(\"Quotient of x and y is: \",result)"
   ]
  },
  {
   "cell_type": "markdown",
   "metadata": {},
   "source": [
    "# Question 4:\n",
    "Consider a list of 10 elements of integer values. If the number in the list is divisible by 2, print the result as \"square of that number minus 2\"."
   ]
  },
  {
   "cell_type": "code",
   "execution_count": 10,
   "metadata": {},
   "outputs": [
    {
     "name": "stdout",
     "output_type": "stream",
     "text": [
      "Square of 24 is 576\n",
      "576 minus 2 =  574\n",
      "Square of 76 is 5776\n",
      "5776 minus 2 =  5774\n",
      "Square of 4 is 16\n",
      "16 minus 2 =  14\n",
      "Square of 6 is 36\n",
      "36 minus 2 =  34\n",
      "Square of 1984 is 3936256\n",
      "3936256 minus 2 =  3936254\n"
     ]
    }
   ],
   "source": [
    "l = [1,24,39,76,85,9,4,53,6,1984]\n",
    "for i in l:\n",
    "    if (i%2==0):\n",
    "        result = (i**2)-2\n",
    "        print(\"Square of\",i,\"is\",i**2)\n",
    "        print(i**2,\"minus 2 = \",result)"
   ]
  },
  {
   "cell_type": "markdown",
   "metadata": {},
   "source": [
    "# Question 5:\n",
    "Consider a list of 10 elements. Print all the elements in the list which are greater than 7 when that number is divided 2."
   ]
  },
  {
   "cell_type": "code",
   "execution_count": 11,
   "metadata": {},
   "outputs": [
    {
     "name": "stdout",
     "output_type": "stream",
     "text": [
      "Numbers greater than 7 and divisible by 2 in the list are  28\n",
      "Numbers greater than 7 and divisible by 2 in the list are  206\n",
      "Numbers greater than 7 and divisible by 2 in the list are  52\n",
      "Numbers greater than 7 and divisible by 2 in the list are  7822\n"
     ]
    }
   ],
   "source": [
    "l = [111,7,28,206,49,52,7822,81,99,10001]\n",
    "for i in l:\n",
    "    if i > 7:\n",
    "        if (i%2==0):\n",
    "            print(\"Numbers greater than 7 and divisible by 2 in the list are \",i)"
   ]
  }
 ],
 "metadata": {
  "kernelspec": {
   "display_name": "Python 3",
   "language": "python",
   "name": "python3"
  },
  "language_info": {
   "codemirror_mode": {
    "name": "ipython",
    "version": 3
   },
   "file_extension": ".py",
   "mimetype": "text/x-python",
   "name": "python",
   "nbconvert_exporter": "python",
   "pygments_lexer": "ipython3",
   "version": "3.7.3"
  }
 },
 "nbformat": 4,
 "nbformat_minor": 2
}
