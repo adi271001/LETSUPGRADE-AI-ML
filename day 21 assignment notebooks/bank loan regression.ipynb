{
 "cells": [
  {
   "cell_type": "code",
   "execution_count": 2,
   "metadata": {},
   "outputs": [],
   "source": [
    "import pandas as pd"
   ]
  },
  {
   "cell_type": "code",
   "execution_count": 3,
   "metadata": {},
   "outputs": [
    {
     "data": {
      "text/html": [
       "<div>\n",
       "<style scoped>\n",
       "    .dataframe tbody tr th:only-of-type {\n",
       "        vertical-align: middle;\n",
       "    }\n",
       "\n",
       "    .dataframe tbody tr th {\n",
       "        vertical-align: top;\n",
       "    }\n",
       "\n",
       "    .dataframe thead th {\n",
       "        text-align: right;\n",
       "    }\n",
       "</style>\n",
       "<table border=\"1\" class=\"dataframe\">\n",
       "  <thead>\n",
       "    <tr style=\"text-align: right;\">\n",
       "      <th></th>\n",
       "      <th>ID</th>\n",
       "      <th>Age</th>\n",
       "      <th>Experience</th>\n",
       "      <th>Income</th>\n",
       "      <th>ZIP Code</th>\n",
       "      <th>Family</th>\n",
       "      <th>CCAvg</th>\n",
       "      <th>Education</th>\n",
       "      <th>Mortgage</th>\n",
       "      <th>Personalloan</th>\n",
       "      <th>SecuritiesAccount</th>\n",
       "      <th>CDAccount</th>\n",
       "      <th>Online</th>\n",
       "      <th>CreditCard</th>\n",
       "    </tr>\n",
       "  </thead>\n",
       "  <tbody>\n",
       "    <tr>\n",
       "      <th>0</th>\n",
       "      <td>1</td>\n",
       "      <td>25</td>\n",
       "      <td>1</td>\n",
       "      <td>49</td>\n",
       "      <td>91107</td>\n",
       "      <td>4</td>\n",
       "      <td>1.6</td>\n",
       "      <td>1</td>\n",
       "      <td>0</td>\n",
       "      <td>0</td>\n",
       "      <td>1</td>\n",
       "      <td>0</td>\n",
       "      <td>0</td>\n",
       "      <td>0</td>\n",
       "    </tr>\n",
       "    <tr>\n",
       "      <th>1</th>\n",
       "      <td>2</td>\n",
       "      <td>45</td>\n",
       "      <td>19</td>\n",
       "      <td>34</td>\n",
       "      <td>90089</td>\n",
       "      <td>3</td>\n",
       "      <td>1.5</td>\n",
       "      <td>1</td>\n",
       "      <td>0</td>\n",
       "      <td>0</td>\n",
       "      <td>1</td>\n",
       "      <td>0</td>\n",
       "      <td>0</td>\n",
       "      <td>0</td>\n",
       "    </tr>\n",
       "    <tr>\n",
       "      <th>2</th>\n",
       "      <td>3</td>\n",
       "      <td>39</td>\n",
       "      <td>15</td>\n",
       "      <td>11</td>\n",
       "      <td>94720</td>\n",
       "      <td>1</td>\n",
       "      <td>1.0</td>\n",
       "      <td>1</td>\n",
       "      <td>0</td>\n",
       "      <td>0</td>\n",
       "      <td>0</td>\n",
       "      <td>0</td>\n",
       "      <td>0</td>\n",
       "      <td>0</td>\n",
       "    </tr>\n",
       "    <tr>\n",
       "      <th>3</th>\n",
       "      <td>4</td>\n",
       "      <td>35</td>\n",
       "      <td>9</td>\n",
       "      <td>100</td>\n",
       "      <td>94112</td>\n",
       "      <td>1</td>\n",
       "      <td>2.7</td>\n",
       "      <td>2</td>\n",
       "      <td>0</td>\n",
       "      <td>0</td>\n",
       "      <td>0</td>\n",
       "      <td>0</td>\n",
       "      <td>0</td>\n",
       "      <td>0</td>\n",
       "    </tr>\n",
       "    <tr>\n",
       "      <th>4</th>\n",
       "      <td>5</td>\n",
       "      <td>35</td>\n",
       "      <td>8</td>\n",
       "      <td>45</td>\n",
       "      <td>91330</td>\n",
       "      <td>4</td>\n",
       "      <td>1.0</td>\n",
       "      <td>2</td>\n",
       "      <td>0</td>\n",
       "      <td>0</td>\n",
       "      <td>0</td>\n",
       "      <td>0</td>\n",
       "      <td>0</td>\n",
       "      <td>1</td>\n",
       "    </tr>\n",
       "  </tbody>\n",
       "</table>\n",
       "</div>"
      ],
      "text/plain": [
       "   ID  Age  Experience  Income  ZIP Code  Family  CCAvg  Education  Mortgage  \\\n",
       "0   1   25           1      49     91107       4    1.6          1         0   \n",
       "1   2   45          19      34     90089       3    1.5          1         0   \n",
       "2   3   39          15      11     94720       1    1.0          1         0   \n",
       "3   4   35           9     100     94112       1    2.7          2         0   \n",
       "4   5   35           8      45     91330       4    1.0          2         0   \n",
       "\n",
       "   Personalloan  SecuritiesAccount  CDAccount  Online  CreditCard  \n",
       "0             0                  1          0       0           0  \n",
       "1             0                  1          0       0           0  \n",
       "2             0                  0          0       0           0  \n",
       "3             0                  0          0       0           0  \n",
       "4             0                  0          0       0           1  "
      ]
     },
     "execution_count": 3,
     "metadata": {},
     "output_type": "execute_result"
    }
   ],
   "source": [
    "dataset=pd.read_excel(\"C:\\\\Users\\\\DVM\\\\Desktop\\\\ai-ml\\\\day 21 regression\\\\Bank_Personal_Loan_Modelling.xlsx\",sheet_name=1)\n",
    "dataset.head()"
   ]
  },
  {
   "cell_type": "code",
   "execution_count": 4,
   "metadata": {},
   "outputs": [
    {
     "name": "stdout",
     "output_type": "stream",
     "text": [
      "<class 'pandas.core.frame.DataFrame'>\n",
      "RangeIndex: 5000 entries, 0 to 4999\n",
      "Data columns (total 14 columns):\n",
      "ID                   5000 non-null int64\n",
      "Age                  5000 non-null int64\n",
      "Experience           5000 non-null int64\n",
      "Income               5000 non-null int64\n",
      "ZIP Code             5000 non-null int64\n",
      "Family               5000 non-null int64\n",
      "CCAvg                5000 non-null float64\n",
      "Education            5000 non-null int64\n",
      "Mortgage             5000 non-null int64\n",
      "Personalloan         5000 non-null int64\n",
      "SecuritiesAccount    5000 non-null int64\n",
      "CDAccount            5000 non-null int64\n",
      "Online               5000 non-null int64\n",
      "CreditCard           5000 non-null int64\n",
      "dtypes: float64(1), int64(13)\n",
      "memory usage: 547.0 KB\n"
     ]
    }
   ],
   "source": [
    "dataset.info()"
   ]
  },
  {
   "cell_type": "code",
   "execution_count": 5,
   "metadata": {},
   "outputs": [],
   "source": [
    "from sklearn.preprocessing import LabelEncoder\n",
    "le=LabelEncoder()\n",
    "dataset[\"CCAvg\"]=le.fit_transform(dataset[\"CCAvg\"])"
   ]
  },
  {
   "cell_type": "code",
   "execution_count": 28,
   "metadata": {},
   "outputs": [
    {
     "data": {
      "text/plain": [
       "ID                   False\n",
       "Age                  False\n",
       "Experience           False\n",
       "Income               False\n",
       "ZIP Code             False\n",
       "Family               False\n",
       "CCAvg                False\n",
       "Education            False\n",
       "Mortgage             False\n",
       "Personalloan         False\n",
       "SecuritiesAccount    False\n",
       "CDAccount            False\n",
       "Online               False\n",
       "CreditCard           False\n",
       "dtype: bool"
      ]
     },
     "execution_count": 28,
     "metadata": {},
     "output_type": "execute_result"
    }
   ],
   "source": [
    "dataset.head()\n",
    "dataset.le\n",
    "dataset.isnull().any()"
   ]
  },
  {
   "cell_type": "code",
   "execution_count": 21,
   "metadata": {},
   "outputs": [],
   "source": [
    "import statsmodels.api as sm"
   ]
  },
  {
   "cell_type": "code",
   "execution_count": 22,
   "metadata": {},
   "outputs": [],
   "source": [
    "Y=dataset.Personalloan"
   ]
  },
  {
   "cell_type": "code",
   "execution_count": 23,
   "metadata": {},
   "outputs": [],
   "source": [
    "X=dataset[['Age','Experience','Income','Family','CCAvg','Education','Mortgage','SecuritiesAccount','CDAccount','Online','CreditCard']]"
   ]
  },
  {
   "cell_type": "code",
   "execution_count": 24,
   "metadata": {},
   "outputs": [],
   "source": [
    "X1= sm.add_constant(X)"
   ]
  },
  {
   "cell_type": "code",
   "execution_count": 25,
   "metadata": {},
   "outputs": [],
   "source": [
    "logistic=sm.Logit(Y,X1)"
   ]
  },
  {
   "cell_type": "code",
   "execution_count": 26,
   "metadata": {},
   "outputs": [
    {
     "name": "stdout",
     "output_type": "stream",
     "text": [
      "Optimization terminated successfully.\n",
      "         Current function value: 0.128111\n",
      "         Iterations 9\n"
     ]
    }
   ],
   "source": [
    "result=logistic.fit()"
   ]
  },
  {
   "cell_type": "code",
   "execution_count": 27,
   "metadata": {},
   "outputs": [
    {
     "data": {
      "text/html": [
       "<table class=\"simpletable\">\n",
       "<caption>Logit Regression Results</caption>\n",
       "<tr>\n",
       "  <th>Dep. Variable:</th>   <td>Personalloan</td>   <th>  No. Observations:  </th>  <td>  5000</td> \n",
       "</tr>\n",
       "<tr>\n",
       "  <th>Model:</th>               <td>Logit</td>      <th>  Df Residuals:      </th>  <td>  4988</td> \n",
       "</tr>\n",
       "<tr>\n",
       "  <th>Method:</th>               <td>MLE</td>       <th>  Df Model:          </th>  <td>    11</td> \n",
       "</tr>\n",
       "<tr>\n",
       "  <th>Date:</th>          <td>Sat, 08 Aug 2020</td> <th>  Pseudo R-squ.:     </th>  <td>0.5948</td> \n",
       "</tr>\n",
       "<tr>\n",
       "  <th>Time:</th>              <td>12:12:36</td>     <th>  Log-Likelihood:    </th> <td> -640.56</td>\n",
       "</tr>\n",
       "<tr>\n",
       "  <th>converged:</th>           <td>True</td>       <th>  LL-Null:           </th> <td> -1581.0</td>\n",
       "</tr>\n",
       "<tr>\n",
       "  <th> </th>                      <td> </td>        <th>  LLR p-value:       </th>  <td> 0.000</td> \n",
       "</tr>\n",
       "</table>\n",
       "<table class=\"simpletable\">\n",
       "<tr>\n",
       "          <td></td>             <th>coef</th>     <th>std err</th>      <th>z</th>      <th>P>|z|</th>  <th>[0.025</th>    <th>0.975]</th>  \n",
       "</tr>\n",
       "<tr>\n",
       "  <th>const</th>             <td>  -12.2350</td> <td>    1.644</td> <td>   -7.443</td> <td> 0.000</td> <td>  -15.457</td> <td>   -9.013</td>\n",
       "</tr>\n",
       "<tr>\n",
       "  <th>Age</th>               <td>   -0.0534</td> <td>    0.061</td> <td>   -0.872</td> <td> 0.383</td> <td>   -0.173</td> <td>    0.067</td>\n",
       "</tr>\n",
       "<tr>\n",
       "  <th>Experience</th>        <td>    0.0640</td> <td>    0.061</td> <td>    1.051</td> <td> 0.293</td> <td>   -0.055</td> <td>    0.183</td>\n",
       "</tr>\n",
       "<tr>\n",
       "  <th>Income</th>            <td>    0.0542</td> <td>    0.003</td> <td>   20.714</td> <td> 0.000</td> <td>    0.049</td> <td>    0.059</td>\n",
       "</tr>\n",
       "<tr>\n",
       "  <th>Family</th>            <td>    0.6963</td> <td>    0.074</td> <td>    9.362</td> <td> 0.000</td> <td>    0.551</td> <td>    0.842</td>\n",
       "</tr>\n",
       "<tr>\n",
       "  <th>CCAvg</th>             <td>    0.0114</td> <td>    0.003</td> <td>    3.602</td> <td> 0.000</td> <td>    0.005</td> <td>    0.018</td>\n",
       "</tr>\n",
       "<tr>\n",
       "  <th>Education</th>         <td>    1.7437</td> <td>    0.115</td> <td>   15.105</td> <td> 0.000</td> <td>    1.517</td> <td>    1.970</td>\n",
       "</tr>\n",
       "<tr>\n",
       "  <th>Mortgage</th>          <td>    0.0005</td> <td>    0.001</td> <td>    0.902</td> <td> 0.367</td> <td>   -0.001</td> <td>    0.002</td>\n",
       "</tr>\n",
       "<tr>\n",
       "  <th>SecuritiesAccount</th> <td>   -0.9394</td> <td>    0.286</td> <td>   -3.282</td> <td> 0.001</td> <td>   -1.500</td> <td>   -0.378</td>\n",
       "</tr>\n",
       "<tr>\n",
       "  <th>CDAccount</th>         <td>    3.8189</td> <td>    0.324</td> <td>   11.777</td> <td> 0.000</td> <td>    3.183</td> <td>    4.454</td>\n",
       "</tr>\n",
       "<tr>\n",
       "  <th>Online</th>            <td>   -0.6785</td> <td>    0.157</td> <td>   -4.314</td> <td> 0.000</td> <td>   -0.987</td> <td>   -0.370</td>\n",
       "</tr>\n",
       "<tr>\n",
       "  <th>CreditCard</th>        <td>   -1.1188</td> <td>    0.205</td> <td>   -5.455</td> <td> 0.000</td> <td>   -1.521</td> <td>   -0.717</td>\n",
       "</tr>\n",
       "</table>"
      ],
      "text/plain": [
       "<class 'statsmodels.iolib.summary.Summary'>\n",
       "\"\"\"\n",
       "                           Logit Regression Results                           \n",
       "==============================================================================\n",
       "Dep. Variable:           Personalloan   No. Observations:                 5000\n",
       "Model:                          Logit   Df Residuals:                     4988\n",
       "Method:                           MLE   Df Model:                           11\n",
       "Date:                Sat, 08 Aug 2020   Pseudo R-squ.:                  0.5948\n",
       "Time:                        12:12:36   Log-Likelihood:                -640.56\n",
       "converged:                       True   LL-Null:                       -1581.0\n",
       "                                        LLR p-value:                     0.000\n",
       "=====================================================================================\n",
       "                        coef    std err          z      P>|z|      [0.025      0.975]\n",
       "-------------------------------------------------------------------------------------\n",
       "const               -12.2350      1.644     -7.443      0.000     -15.457      -9.013\n",
       "Age                  -0.0534      0.061     -0.872      0.383      -0.173       0.067\n",
       "Experience            0.0640      0.061      1.051      0.293      -0.055       0.183\n",
       "Income                0.0542      0.003     20.714      0.000       0.049       0.059\n",
       "Family                0.6963      0.074      9.362      0.000       0.551       0.842\n",
       "CCAvg                 0.0114      0.003      3.602      0.000       0.005       0.018\n",
       "Education             1.7437      0.115     15.105      0.000       1.517       1.970\n",
       "Mortgage              0.0005      0.001      0.902      0.367      -0.001       0.002\n",
       "SecuritiesAccount    -0.9394      0.286     -3.282      0.001      -1.500      -0.378\n",
       "CDAccount             3.8189      0.324     11.777      0.000       3.183       4.454\n",
       "Online               -0.6785      0.157     -4.314      0.000      -0.987      -0.370\n",
       "CreditCard           -1.1188      0.205     -5.455      0.000      -1.521      -0.717\n",
       "=====================================================================================\n",
       "\"\"\""
      ]
     },
     "execution_count": 27,
     "metadata": {},
     "output_type": "execute_result"
    }
   ],
   "source": [
    "result.summary()"
   ]
  },
  {
   "cell_type": "markdown",
   "metadata": {},
   "source": [
    "# inference\n",
    "# most significant attributes for getting loan\n",
    "cd account\n",
    "online\n",
    "credit card\n",
    "income\n",
    "family\n",
    "cc avg\n",
    "education\n",
    "# less significant\n",
    "experience\n",
    "mortgage\n",
    "securitiesAccount\n",
    "# not significant\n",
    "id\n",
    "ZIP code\n"
   ]
  }
 ],
 "metadata": {
  "kernelspec": {
   "display_name": "Python 3",
   "language": "python",
   "name": "python3"
  },
  "language_info": {
   "codemirror_mode": {
    "name": "ipython",
    "version": 3
   },
   "file_extension": ".py",
   "mimetype": "text/x-python",
   "name": "python",
   "nbconvert_exporter": "python",
   "pygments_lexer": "ipython3",
   "version": "3.7.3"
  }
 },
 "nbformat": 4,
 "nbformat_minor": 2
}
