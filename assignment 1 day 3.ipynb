{
 "cells": [
  {
   "cell_type": "markdown",
   "metadata": {},
   "source": [
    "# Question 1 write a program to subtract two complex numbers"
   ]
  },
  {
   "cell_type": "code",
   "execution_count": 1,
   "metadata": {},
   "outputs": [
    {
     "name": "stdout",
     "output_type": "stream",
     "text": [
      "c= (-7+7j)\n"
     ]
    }
   ],
   "source": [
    "a=9-2j\n",
    "b=2+5j\n",
    "c=b-a\n",
    "print(\"c=\",c)"
   ]
  },
  {
   "cell_type": "markdown",
   "metadata": {},
   "source": [
    "# Question 2: write a program to find 4th root of a number "
   ]
  },
  {
   "cell_type": "code",
   "execution_count": 2,
   "metadata": {},
   "outputs": [
    {
     "name": "stdout",
     "output_type": "stream",
     "text": [
      "enter a number:16\n",
      "fourth root of entered number is= 2.0\n"
     ]
    }
   ],
   "source": [
    "n=int(input(\"enter a number:\"))\n",
    "fourth_root=n**(1/4)\n",
    "print(\"fourth root of entered number is=\",fourth_root)"
   ]
  },
  {
   "cell_type": "markdown",
   "metadata": {},
   "source": [
    "# Question 3: Write a program to swap two numbers in Python with the help of a temporary variable"
   ]
  },
  {
   "cell_type": "code",
   "execution_count": 3,
   "metadata": {},
   "outputs": [
    {
     "name": "stdout",
     "output_type": "stream",
     "text": [
      "Enter value of x: 20\n",
      "Enter value of y: 30\n",
      "The value of x and y after swapping are 30 and 20 respectively\n"
     ]
    }
   ],
   "source": [
    "x = int(input('Enter value of x: '))\n",
    "y = int(input('Enter value of y: '))\n",
    "count=x\n",
    "x=y\n",
    "y=count\n",
    "print(\"The value of x and y after swapping are\",x,\"and\",y,\"respectively\")"
   ]
  },
  {
   "cell_type": "markdown",
   "metadata": {},
   "source": [
    "# Question 4: Write a program to swap two numbers in Python without the help of a temporary variable"
   ]
  },
  {
   "cell_type": "code",
   "execution_count": 4,
   "metadata": {},
   "outputs": [
    {
     "name": "stdout",
     "output_type": "stream",
     "text": [
      "Enter value of x: 20\n",
      "Enter value of y: 30\n",
      "The value of x and y after swapping are 30 and 20 respectively\n"
     ]
    }
   ],
   "source": [
    "x = int(input('Enter value of x: '))\n",
    "y = int(input('Enter value of y: '))\n",
    "x=x-y\n",
    "y=x+y\n",
    "x=y-x\n",
    "print(\"The value of x and y after swapping are\",x,\"and\",y,\"respectively\")"
   ]
  },
  {
   "cell_type": "markdown",
   "metadata": {},
   "source": [
    "# Question 5: Write a program to convert fahrenheit to kelvin and celsius both."
   ]
  },
  {
   "cell_type": "code",
   "execution_count": 5,
   "metadata": {},
   "outputs": [
    {
     "name": "stdout",
     "output_type": "stream",
     "text": [
      "Enter Temperature in Fahrenheit scale: 895\n",
      "The value of Fahrenheit in Kelvin scale and Celsius scale is 752.9444444444445 and 479.44444444444446 respectively.\n"
     ]
    }
   ],
   "source": [
    "F = int(input('Enter Temperature in Fahrenheit scale: '))\n",
    "def Fahrenheit_to_Celsius(F): \n",
    "    return ((F - 32.0) * (5.0/9.0))\n",
    "def Fahrenheit_to_Kelvin(F): \n",
    "    x = 273.5 + ((F - 32.0) * (5.0/9.0)) \n",
    "    return x\n",
    "print(\"The value of Fahrenheit in Kelvin scale and Celsius scale is\", Fahrenheit_to_Kelvin(F) ,\"and\", Fahrenheit_to_Celsius(F), \"respectively.\")"
   ]
  },
  {
   "cell_type": "markdown",
   "metadata": {},
   "source": [
    "# Question 6: Write a program to demonstrate all the available data types in Python. Hint: Use type() function."
   ]
  },
  {
   "cell_type": "code",
   "execution_count": 7,
   "metadata": {},
   "outputs": [
    {
     "name": "stdout",
     "output_type": "stream",
     "text": [
      "550 is of type  <class 'int'>\n",
      "22.0 is of type  <class 'float'>\n",
      "(2-9j) is of type  <class 'complex'>\n",
      "(10, 0, 0) is of type  <class 'tuple'>\n",
      "[1, 3.14, 'vanakkam', 2.34, 12, 34] is of type  <class 'list'>\n",
      "{1: 'adi', 2: 'akki', 3: 'lol', 4: 'knife'} is of type  <class 'dict'>\n"
     ]
    }
   ],
   "source": [
    "a = 550\n",
    "print(a  , \"is of type \", type(a))\n",
    "\n",
    "a = 22.0\n",
    "print(a  , \"is of type \", type(a))\n",
    "\n",
    "a = 2-9j\n",
    "print(a  , \"is of type \", type(a))\n",
    "\n",
    "a = 10,00,000\n",
    "print(a  , \"is of type \", type(a))\n",
    "\n",
    "a = [1,3.14,'vanakkam',2.34,12,34]\n",
    "print(a  , \"is of type \", type(a))\n",
    "\n",
    "a = {1:'adi',2:'akki',3:'lol',4:'knife'}\n",
    "print(a  , \"is of type \", type(a))"
   ]
  },
  {
   "cell_type": "markdown",
   "metadata": {},
   "source": [
    "# Question 7: Create a Markdown cell in jupyter and list the steps discussed in the session by Dr. Darshan Ingle sir to create Github profile and upload Githubs Assignment link.\n",
    "\n",
    "To create Github profile and upload Githubs Assignment link.\n",
    "\n",
    "*Creating Github profile\n",
    "\n",
    "Go to github.com\n",
    "Sign up (or existing users can sign in).\n",
    "Complete the formalities like providing e-mail id and necessary details to create an account (i.e., signing in through gmail account).\n",
    "Here you can keep ur code as pulic or private.\n",
    "Keep the created repository public\n",
    "On creating Github profile, inorder to putup ur code and assignment, read the following steps\n",
    "\n",
    "How to submit Assignments?\n",
    "\n",
    "Create a github public repository and name it LetsUpgrade AI/ML\n",
    "Upload the files/solution in the repository in day wise manner.\n",
    "Click on the upload existing file.\n",
    "Drag and drop the assignment solutions to upload it in your Github profile repository.\n",
    "After uploading, copy the url of the Folder of that day and paste in the given Assignment Submission Google Form\n",
    "Make sure you are filling correct details in the Assignment Submission Form."
   ]
  },
  {
   "cell_type": "code",
   "execution_count": null,
   "metadata": {},
   "outputs": [],
   "source": []
  }
 ],
 "metadata": {
  "kernelspec": {
   "display_name": "Python 3",
   "language": "python",
   "name": "python3"
  },
  "language_info": {
   "codemirror_mode": {
    "name": "ipython",
    "version": 3
   },
   "file_extension": ".py",
   "mimetype": "text/x-python",
   "name": "python",
   "nbconvert_exporter": "python",
   "pygments_lexer": "ipython3",
   "version": "3.7.3"
  }
 },
 "nbformat": 4,
 "nbformat_minor": 2
}
