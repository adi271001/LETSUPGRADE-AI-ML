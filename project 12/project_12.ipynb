{
  "nbformat": 4,
  "nbformat_minor": 0,
  "metadata": {
    "colab": {
      "name": "project 12.ipynb",
      "provenance": []
    },
    "kernelspec": {
      "name": "python3",
      "display_name": "Python 3"
    },
    "language_info": {
      "name": "python"
    }
  },
  "cells": [
    {
      "cell_type": "code",
      "metadata": {
        "id": "Cc_qHE2wPe9D"
      },
      "source": [
        "import io\n",
        "import random\n",
        "import string\n",
        "import warnings\n",
        "import numpy as np\n",
        "from sklearn.feature_extraction.text import TfidfVectorizer\n",
        "from sklearn.metrics.pairwise import cosine_similarity\n",
        "warnings.filterwarnings('ignore')"
      ],
      "execution_count": 1,
      "outputs": []
    },
    {
      "cell_type": "code",
      "metadata": {
        "colab": {
          "base_uri": "https://localhost:8080/"
        },
        "id": "OZvHPWiBPyuK",
        "outputId": "7ca76ff9-b70b-4ecf-92c9-e4396b18424a"
      },
      "source": [
        "import nltk\n",
        "from nltk.stem import WordNetLemmatizer\n",
        "nltk.download('popular', quiet = True)"
      ],
      "execution_count": 2,
      "outputs": [
        {
          "output_type": "execute_result",
          "data": {
            "text/plain": [
              "True"
            ]
          },
          "metadata": {
            "tags": []
          },
          "execution_count": 2
        }
      ]
    },
    {
      "cell_type": "code",
      "metadata": {
        "id": "Eb_o4lJSQO56"
      },
      "source": [
        "f=open('Chatbot.txt','r',errors = 'ignore')\n",
        "raw = f.read()\n",
        "raw = raw.lower()"
      ],
      "execution_count": 19,
      "outputs": []
    },
    {
      "cell_type": "code",
      "metadata": {
        "id": "oV9Fw1qWT891"
      },
      "source": [
        "sent_tokens = nltk.sent_tokenize(raw)\n",
        "word_tokens = nltk.word_tokenize(raw)"
      ],
      "execution_count": 20,
      "outputs": []
    },
    {
      "cell_type": "code",
      "metadata": {
        "id": "zrCkHudvUFty"
      },
      "source": [
        "lemmer = nltk.stem.WordNetLemmatizer()\n",
        "def LemTokens(tokens):\n",
        "    return [lemmer.lemmatize(token) for token in tokens]\n",
        "remove_punct_dict = dict((ord(punct), None) for punct in string.punctuation)\n",
        "\n",
        "def LemNormalize(text):\n",
        "    return LemTokens(nltk.word_tokenize(text.lower().translate(remove_punct_dict)))"
      ],
      "execution_count": 21,
      "outputs": []
    },
    {
      "cell_type": "code",
      "metadata": {
        "id": "tfJIRYUvUKN4"
      },
      "source": [
        "Greeting_Input = ('hello','hi','greetings','sup',\"what's up\",'hey')\n",
        "Greeting_Response = ('hello','hi','greetings','*nods*','hi there','hello','I am glad to talk to you')\n",
        "def greeting(sentence):\n",
        "    for word in sentence.split():\n",
        "        if word.lower() in Greeting_Input:\n",
        "            return random.choice(Greeting_Response)"
      ],
      "execution_count": 22,
      "outputs": []
    },
    {
      "cell_type": "code",
      "metadata": {
        "id": "2Wwx2RdDUNHl"
      },
      "source": [
        "def response(user_response):\n",
        "    robo_response =''\n",
        "    sent_tokens.append(user_response)\n",
        "    TfidfVec = TfidfVectorizer(tokenizer=LemNormalize, stop_words='english')\n",
        "    tfids = TfidfVec.fit_transform(sent_tokens)\n",
        "    vals = cosine_similarity(tfids[-1],tfids)\n",
        "    idx = vals.argsort()[0][-2]\n",
        "    flat = vals.flatten()\n",
        "    flat.sort()\n",
        "    req_tfidf = flat[-2]\n",
        "    if(req_tfidf==0):\n",
        "        robo_response = robo_response + \"I'm sorry!\"\n",
        "        return robo_response\n",
        "    else:\n",
        "        robo_response = robo_response + sent_tokens[idx]\n",
        "        return robo_response"
      ],
      "execution_count": 23,
      "outputs": []
    },
    {
      "cell_type": "code",
      "metadata": {
        "colab": {
          "base_uri": "https://localhost:8080/"
        },
        "id": "XNyBQXg4UY_v",
        "outputId": "fec11ffd-5e04-42d3-f894-327674da9838"
      },
      "source": [
        "flag = True\n",
        "print(\"ROBO: My name is Robo. I will answer your queries about Chatbots. if you wanna end the chat type bye\")\n",
        "while(flag == True):\n",
        "    user_response = input()\n",
        "    user_response = user_response.lower()\n",
        "    if(user_response!= 'bye'):\n",
        "        if(user_response=='thanks' or user_response=='thank you'):\n",
        "            flag = False\n",
        "            print(\"ROBO: You are Welcome :)\")\n",
        "        else:\n",
        "            if(greeting(user_response) != None):\n",
        "                print(\"ROBO: \" +greeting(user_response))\n",
        "            else:\n",
        "                print(\"ROBO: \", end=\"\")\n",
        "                print(response(user_response))\n",
        "                sent_tokens.remove(user_response)\n",
        "    else:\n",
        "        flag = False\n",
        "        print('ROBO: Bye! Take Care')"
      ],
      "execution_count": 24,
      "outputs": [
        {
          "output_type": "stream",
          "text": [
            "ROBO: My name is Robo. I will answer your queries about Chatbots. if you wanna end the chat type bye\n",
            "hi\n",
            "ROBO: hello\n",
            "what is a chatbot\n",
            "ROBO: a virtual assistant chatbot\n",
            "\n",
            "the 1966 eliza chatbot\n",
            "a chatbot is a software application used to conduct an on-line chat conversation via text or text-to-speech, in lieu of providing direct contact with a live human agent.\n",
            "how are you\n",
            "ROBO: I'm sorry!\n",
            "sup\n",
            "ROBO: hi there\n",
            "tell me about chatbots\n",
            "ROBO: by responding to any input that contains the word 'mother' with 'tell me more about your family').\n",
            "mom\n",
            "ROBO: I'm sorry!\n",
            "bye\n",
            "ROBO: Bye! Take Care\n"
          ],
          "name": "stdout"
        }
      ]
    }
  ]
}